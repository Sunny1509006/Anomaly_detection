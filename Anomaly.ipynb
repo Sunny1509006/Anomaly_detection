{
 "cells": [
  {
   "cell_type": "code",
   "execution_count": 1,
   "id": "63d64101",
   "metadata": {},
   "outputs": [],
   "source": [
    "import numpy as np # linear algebra\n",
    "import pandas as pd # data processing, CSV file I/O (e.g. pd.read_csv)\n",
    "import matplotlib.pyplot as plt\n",
    "import seaborn as sns\n",
    "\n",
    "import os"
   ]
  },
  {
   "cell_type": "code",
   "execution_count": 2,
   "id": "82a1476e",
   "metadata": {},
   "outputs": [],
   "source": [
    "data = pd.read_csv(\"anomaly_data.csv\")"
   ]
  },
  {
   "cell_type": "code",
   "execution_count": 3,
   "id": "3f9847a3",
   "metadata": {},
   "outputs": [
    {
     "data": {
      "text/html": [
       "<div>\n",
       "<style scoped>\n",
       "    .dataframe tbody tr th:only-of-type {\n",
       "        vertical-align: middle;\n",
       "    }\n",
       "\n",
       "    .dataframe tbody tr th {\n",
       "        vertical-align: top;\n",
       "    }\n",
       "\n",
       "    .dataframe thead th {\n",
       "        text-align: right;\n",
       "    }\n",
       "</style>\n",
       "<table border=\"1\" class=\"dataframe\">\n",
       "  <thead>\n",
       "    <tr style=\"text-align: right;\">\n",
       "      <th></th>\n",
       "      <th>Flow_ID</th>\n",
       "      <th>Src_IP</th>\n",
       "      <th>Src_Port</th>\n",
       "      <th>Dst_IP</th>\n",
       "      <th>Dst_Port</th>\n",
       "      <th>Protocol</th>\n",
       "      <th>Timestamp</th>\n",
       "      <th>Flow_Duration</th>\n",
       "      <th>Tot_Fwd_Pkts</th>\n",
       "      <th>Tot_Bwd_Pkts</th>\n",
       "      <th>...</th>\n",
       "      <th>Active_Std</th>\n",
       "      <th>Active_Max</th>\n",
       "      <th>Active_Min</th>\n",
       "      <th>Idle_Mean</th>\n",
       "      <th>Idle_Std</th>\n",
       "      <th>Idle_Max</th>\n",
       "      <th>Idle_Min</th>\n",
       "      <th>Label</th>\n",
       "      <th>Cat</th>\n",
       "      <th>Sub_Cat</th>\n",
       "    </tr>\n",
       "  </thead>\n",
       "  <tbody>\n",
       "    <tr>\n",
       "      <th>0</th>\n",
       "      <td>192.168.0.13-192.168.0.16-10000-10101-17</td>\n",
       "      <td>192.168.0.13</td>\n",
       "      <td>10000</td>\n",
       "      <td>192.168.0.16</td>\n",
       "      <td>10101</td>\n",
       "      <td>17</td>\n",
       "      <td>25/07/2019 03:25:53 AM</td>\n",
       "      <td>75</td>\n",
       "      <td>1</td>\n",
       "      <td>1</td>\n",
       "      <td>...</td>\n",
       "      <td>0.0</td>\n",
       "      <td>0</td>\n",
       "      <td>0</td>\n",
       "      <td>75.0</td>\n",
       "      <td>0.000000</td>\n",
       "      <td>75</td>\n",
       "      <td>75</td>\n",
       "      <td>Anomaly</td>\n",
       "      <td>Mirai</td>\n",
       "      <td>Mirai-Ackflooding</td>\n",
       "    </tr>\n",
       "    <tr>\n",
       "      <th>1</th>\n",
       "      <td>192.168.0.13-222.160.179.132-554-2179-6</td>\n",
       "      <td>222.160.179.132</td>\n",
       "      <td>2179</td>\n",
       "      <td>192.168.0.13</td>\n",
       "      <td>554</td>\n",
       "      <td>6</td>\n",
       "      <td>26/05/2019 10:11:06 PM</td>\n",
       "      <td>5310</td>\n",
       "      <td>1</td>\n",
       "      <td>2</td>\n",
       "      <td>...</td>\n",
       "      <td>0.0</td>\n",
       "      <td>0</td>\n",
       "      <td>0</td>\n",
       "      <td>2655.0</td>\n",
       "      <td>2261.327486</td>\n",
       "      <td>4254</td>\n",
       "      <td>1056</td>\n",
       "      <td>Anomaly</td>\n",
       "      <td>DoS</td>\n",
       "      <td>DoS-Synflooding</td>\n",
       "    </tr>\n",
       "    <tr>\n",
       "      <th>2</th>\n",
       "      <td>192.168.0.13-192.168.0.16-9020-52727-6</td>\n",
       "      <td>192.168.0.16</td>\n",
       "      <td>52727</td>\n",
       "      <td>192.168.0.13</td>\n",
       "      <td>9020</td>\n",
       "      <td>6</td>\n",
       "      <td>11/7/2019 1:24</td>\n",
       "      <td>141</td>\n",
       "      <td>0</td>\n",
       "      <td>3</td>\n",
       "      <td>...</td>\n",
       "      <td>0.0</td>\n",
       "      <td>0</td>\n",
       "      <td>0</td>\n",
       "      <td>70.5</td>\n",
       "      <td>0.707107</td>\n",
       "      <td>71</td>\n",
       "      <td>70</td>\n",
       "      <td>Anomaly</td>\n",
       "      <td>Scan</td>\n",
       "      <td>Scan Port OS</td>\n",
       "    </tr>\n",
       "    <tr>\n",
       "      <th>3</th>\n",
       "      <td>192.168.0.13-192.168.0.16-9020-52964-6</td>\n",
       "      <td>192.168.0.16</td>\n",
       "      <td>52964</td>\n",
       "      <td>192.168.0.13</td>\n",
       "      <td>9020</td>\n",
       "      <td>6</td>\n",
       "      <td>4/9/2019 3:58</td>\n",
       "      <td>151</td>\n",
       "      <td>0</td>\n",
       "      <td>2</td>\n",
       "      <td>...</td>\n",
       "      <td>0.0</td>\n",
       "      <td>0</td>\n",
       "      <td>0</td>\n",
       "      <td>151.0</td>\n",
       "      <td>0.000000</td>\n",
       "      <td>151</td>\n",
       "      <td>151</td>\n",
       "      <td>Anomaly</td>\n",
       "      <td>Mirai</td>\n",
       "      <td>Mirai-Hostbruteforceg</td>\n",
       "    </tr>\n",
       "    <tr>\n",
       "      <th>4</th>\n",
       "      <td>192.168.0.1-239.255.255.250-36763-1900-17</td>\n",
       "      <td>192.168.0.1</td>\n",
       "      <td>36763</td>\n",
       "      <td>239.255.255.250</td>\n",
       "      <td>1900</td>\n",
       "      <td>17</td>\n",
       "      <td>10/9/2019 1:41</td>\n",
       "      <td>153</td>\n",
       "      <td>2</td>\n",
       "      <td>1</td>\n",
       "      <td>...</td>\n",
       "      <td>0.0</td>\n",
       "      <td>0</td>\n",
       "      <td>0</td>\n",
       "      <td>76.5</td>\n",
       "      <td>0.707107</td>\n",
       "      <td>77</td>\n",
       "      <td>76</td>\n",
       "      <td>Anomaly</td>\n",
       "      <td>Mirai</td>\n",
       "      <td>Mirai-Hostbruteforceg</td>\n",
       "    </tr>\n",
       "  </tbody>\n",
       "</table>\n",
       "<p>5 rows × 86 columns</p>\n",
       "</div>"
      ],
      "text/plain": [
       "                                     Flow_ID           Src_IP  Src_Port  \\\n",
       "0   192.168.0.13-192.168.0.16-10000-10101-17     192.168.0.13     10000   \n",
       "1    192.168.0.13-222.160.179.132-554-2179-6  222.160.179.132      2179   \n",
       "2     192.168.0.13-192.168.0.16-9020-52727-6     192.168.0.16     52727   \n",
       "3     192.168.0.13-192.168.0.16-9020-52964-6     192.168.0.16     52964   \n",
       "4  192.168.0.1-239.255.255.250-36763-1900-17      192.168.0.1     36763   \n",
       "\n",
       "            Dst_IP  Dst_Port  Protocol               Timestamp  Flow_Duration  \\\n",
       "0     192.168.0.16     10101        17  25/07/2019 03:25:53 AM             75   \n",
       "1     192.168.0.13       554         6  26/05/2019 10:11:06 PM           5310   \n",
       "2     192.168.0.13      9020         6          11/7/2019 1:24            141   \n",
       "3     192.168.0.13      9020         6           4/9/2019 3:58            151   \n",
       "4  239.255.255.250      1900        17          10/9/2019 1:41            153   \n",
       "\n",
       "   Tot_Fwd_Pkts  Tot_Bwd_Pkts  ...  Active_Std  Active_Max  Active_Min  \\\n",
       "0             1             1  ...         0.0           0           0   \n",
       "1             1             2  ...         0.0           0           0   \n",
       "2             0             3  ...         0.0           0           0   \n",
       "3             0             2  ...         0.0           0           0   \n",
       "4             2             1  ...         0.0           0           0   \n",
       "\n",
       "   Idle_Mean     Idle_Std  Idle_Max  Idle_Min    Label    Cat  \\\n",
       "0       75.0     0.000000        75        75  Anomaly  Mirai   \n",
       "1     2655.0  2261.327486      4254      1056  Anomaly    DoS   \n",
       "2       70.5     0.707107        71        70  Anomaly   Scan   \n",
       "3      151.0     0.000000       151       151  Anomaly  Mirai   \n",
       "4       76.5     0.707107        77        76  Anomaly  Mirai   \n",
       "\n",
       "                 Sub_Cat  \n",
       "0      Mirai-Ackflooding  \n",
       "1        DoS-Synflooding  \n",
       "2           Scan Port OS  \n",
       "3  Mirai-Hostbruteforceg  \n",
       "4  Mirai-Hostbruteforceg  \n",
       "\n",
       "[5 rows x 86 columns]"
      ]
     },
     "execution_count": 3,
     "metadata": {},
     "output_type": "execute_result"
    }
   ],
   "source": [
    "data.head()"
   ]
  },
  {
   "cell_type": "code",
   "execution_count": 4,
   "id": "53e93003",
   "metadata": {},
   "outputs": [
    {
     "data": {
      "text/plain": [
       "(625783, 86)"
      ]
     },
     "execution_count": 4,
     "metadata": {},
     "output_type": "execute_result"
    }
   ],
   "source": [
    "data.shape"
   ]
  },
  {
   "cell_type": "code",
   "execution_count": 5,
   "id": "aa7b62f9",
   "metadata": {},
   "outputs": [],
   "source": [
    "null_check = data.isnull().sum()\n",
    "\n",
    "null_check.to_csv('null_count')\n",
    "#no null data has been found"
   ]
  },
  {
   "cell_type": "code",
   "execution_count": 6,
   "id": "18589165",
   "metadata": {},
   "outputs": [
    {
     "data": {
      "text/plain": [
       "array(['Anomaly', 'Normal'], dtype=object)"
      ]
     },
     "execution_count": 6,
     "metadata": {},
     "output_type": "execute_result"
    }
   ],
   "source": [
    "data['Label'].unique()"
   ]
  },
  {
   "cell_type": "code",
   "execution_count": 7,
   "id": "e5ec5436",
   "metadata": {},
   "outputs": [
    {
     "data": {
      "text/plain": [
       "array([0], dtype=int64)"
      ]
     },
     "execution_count": 7,
     "metadata": {},
     "output_type": "execute_result"
    }
   ],
   "source": [
    "data['Fwd_PSH_Flags'].unique()"
   ]
  },
  {
   "cell_type": "code",
   "execution_count": 8,
   "id": "7fcac8a5",
   "metadata": {},
   "outputs": [
    {
     "data": {
      "text/plain": [
       "array([0, 1], dtype=int64)"
      ]
     },
     "execution_count": 8,
     "metadata": {},
     "output_type": "execute_result"
    }
   ],
   "source": [
    "data['Bwd_PSH_Flags'].unique()"
   ]
  },
  {
   "cell_type": "code",
   "execution_count": 9,
   "id": "a2525f02",
   "metadata": {},
   "outputs": [
    {
     "data": {
      "text/plain": [
       "array([0], dtype=int64)"
      ]
     },
     "execution_count": 9,
     "metadata": {},
     "output_type": "execute_result"
    }
   ],
   "source": [
    "data['Fwd_URG_Flags'].unique()"
   ]
  },
  {
   "cell_type": "code",
   "execution_count": 10,
   "id": "b31b4472",
   "metadata": {},
   "outputs": [
    {
     "data": {
      "text/plain": [
       "array([0, 1], dtype=int64)"
      ]
     },
     "execution_count": 10,
     "metadata": {},
     "output_type": "execute_result"
    }
   ],
   "source": [
    "data['Bwd_URG_Flags'].unique()"
   ]
  },
  {
   "cell_type": "code",
   "execution_count": 11,
   "id": "f863e26d",
   "metadata": {},
   "outputs": [
    {
     "data": {
      "text/plain": [
       "array([0, 1], dtype=int64)"
      ]
     },
     "execution_count": 11,
     "metadata": {},
     "output_type": "execute_result"
    }
   ],
   "source": [
    "data['FIN_Flag_Cnt'].unique()"
   ]
  },
  {
   "cell_type": "code",
   "execution_count": 12,
   "id": "e709c364",
   "metadata": {},
   "outputs": [
    {
     "data": {
      "text/plain": [
       "array([0, 1], dtype=int64)"
      ]
     },
     "execution_count": 12,
     "metadata": {},
     "output_type": "execute_result"
    }
   ],
   "source": [
    "data['RST_Flag_Cnt'].unique()"
   ]
  },
  {
   "cell_type": "code",
   "execution_count": 13,
   "id": "430e639c",
   "metadata": {},
   "outputs": [
    {
     "data": {
      "text/plain": [
       "array([0, 1], dtype=int64)"
      ]
     },
     "execution_count": 13,
     "metadata": {},
     "output_type": "execute_result"
    }
   ],
   "source": [
    "data['URG_Flag_Cnt'].unique()"
   ]
  },
  {
   "cell_type": "code",
   "execution_count": 14,
   "id": "4fc54ad3",
   "metadata": {},
   "outputs": [
    {
     "data": {
      "text/plain": [
       "array([0, 1], dtype=int64)"
      ]
     },
     "execution_count": 14,
     "metadata": {},
     "output_type": "execute_result"
    }
   ],
   "source": [
    "data['CWE_Flag_Count'].unique()"
   ]
  },
  {
   "cell_type": "code",
   "execution_count": 15,
   "id": "23adbc35",
   "metadata": {},
   "outputs": [
    {
     "data": {
      "text/plain": [
       "array([0, 1], dtype=int64)"
      ]
     },
     "execution_count": 15,
     "metadata": {},
     "output_type": "execute_result"
    }
   ],
   "source": [
    "data['ECE_Flag_Cnt'].unique()"
   ]
  },
  {
   "cell_type": "code",
   "execution_count": 16,
   "id": "c33100cf",
   "metadata": {},
   "outputs": [
    {
     "data": {
      "text/plain": [
       "array([ 1,  2,  0,  3,  4,  5, 10,  7,  8,  6, 13, 12, 11,  9, 14],\n",
       "      dtype=int64)"
      ]
     },
     "execution_count": 16,
     "metadata": {},
     "output_type": "execute_result"
    }
   ],
   "source": [
    "data['Down/Up_Ratio'].unique()"
   ]
  },
  {
   "cell_type": "code",
   "execution_count": 17,
   "id": "d431eaa1",
   "metadata": {},
   "outputs": [
    {
     "data": {
      "text/plain": [
       "array([0], dtype=int64)"
      ]
     },
     "execution_count": 17,
     "metadata": {},
     "output_type": "execute_result"
    }
   ],
   "source": [
    "data['Fwd_Byts/b_Avg'].unique()"
   ]
  },
  {
   "cell_type": "code",
   "execution_count": 18,
   "id": "b0a932bb",
   "metadata": {},
   "outputs": [
    {
     "data": {
      "text/plain": [
       "array([0], dtype=int64)"
      ]
     },
     "execution_count": 18,
     "metadata": {},
     "output_type": "execute_result"
    }
   ],
   "source": [
    "data['Fwd_Pkts/b_Avg'].unique()"
   ]
  },
  {
   "cell_type": "code",
   "execution_count": 19,
   "id": "0c3d854a",
   "metadata": {},
   "outputs": [
    {
     "data": {
      "text/plain": [
       "array([0], dtype=int64)"
      ]
     },
     "execution_count": 19,
     "metadata": {},
     "output_type": "execute_result"
    }
   ],
   "source": [
    "data['Fwd_Blk_Rate_Avg'].unique()"
   ]
  },
  {
   "cell_type": "code",
   "execution_count": 20,
   "id": "370297ac",
   "metadata": {},
   "outputs": [
    {
     "data": {
      "text/plain": [
       "array([0], dtype=int64)"
      ]
     },
     "execution_count": 20,
     "metadata": {},
     "output_type": "execute_result"
    }
   ],
   "source": [
    "data['Bwd_Byts/b_Avg'].unique()"
   ]
  },
  {
   "cell_type": "code",
   "execution_count": 21,
   "id": "6516edac",
   "metadata": {},
   "outputs": [
    {
     "data": {
      "text/plain": [
       "array([0], dtype=int64)"
      ]
     },
     "execution_count": 21,
     "metadata": {},
     "output_type": "execute_result"
    }
   ],
   "source": [
    "data['Bwd_Pkts/b_Avg'].unique()"
   ]
  },
  {
   "cell_type": "code",
   "execution_count": 22,
   "id": "bd0ae774",
   "metadata": {},
   "outputs": [
    {
     "data": {
      "text/plain": [
       "array([0], dtype=int64)"
      ]
     },
     "execution_count": 22,
     "metadata": {},
     "output_type": "execute_result"
    }
   ],
   "source": [
    "data['Bwd_Blk_Rate_Avg'].unique()"
   ]
  },
  {
   "cell_type": "code",
   "execution_count": 23,
   "id": "fc59d9c4",
   "metadata": {},
   "outputs": [
    {
     "data": {
      "text/plain": [
       "array([-1], dtype=int64)"
      ]
     },
     "execution_count": 23,
     "metadata": {},
     "output_type": "execute_result"
    }
   ],
   "source": [
    "data['Init_Fwd_Win_Byts'].unique()"
   ]
  },
  {
   "cell_type": "code",
   "execution_count": 24,
   "id": "6a5e67af",
   "metadata": {},
   "outputs": [
    {
     "data": {
      "text/plain": [
       "array([0], dtype=int64)"
      ]
     },
     "execution_count": 24,
     "metadata": {},
     "output_type": "execute_result"
    }
   ],
   "source": [
    "data['Fwd_Seg_Size_Min'].unique()"
   ]
  },
  {
   "cell_type": "code",
   "execution_count": 25,
   "id": "377058fc",
   "metadata": {},
   "outputs": [
    {
     "name": "stdout",
     "output_type": "stream",
     "text": [
      "(585710, 86)\n",
      "(40073, 86)\n"
     ]
    }
   ],
   "source": [
    "print(data[data.Label=='Anomaly'].shape)\n",
    "print(data[data.Label=='Normal'].shape)"
   ]
  },
  {
   "cell_type": "code",
   "execution_count": 26,
   "id": "2cce385d",
   "metadata": {},
   "outputs": [],
   "source": [
    "temp_ignore_cols = set(['Flow_ID', 'Label', 'Fwd_PSH_Flags', 'Fwd_URG_Flags', 'Fwd_Byts/b_Avg', \n",
    "                        'Fwd_Pkts/b_Avg', 'Fwd_Blk_Rate_Avg','Bwd_Byts/b_Avg', 'Bwd_Pkts/b_Avg', 'Bwd_Blk_Rate_Avg',\n",
    "                        'Init_Fwd_Win_Byts', 'Fwd_Seg_Size_Min', 'Cat', 'Sub_Cat'])"
   ]
  },
  {
   "cell_type": "code",
   "execution_count": 27,
   "id": "21ec5db3",
   "metadata": {},
   "outputs": [],
   "source": [
    "cols = set(data.columns)"
   ]
  },
  {
   "cell_type": "code",
   "execution_count": 28,
   "id": "008def9f",
   "metadata": {},
   "outputs": [
    {
     "name": "stdout",
     "output_type": "stream",
     "text": [
      "Number of Features : 72\n"
     ]
    }
   ],
   "source": [
    "TRAIN_COLS = list(cols-temp_ignore_cols)\n",
    "TG_COL = [\"Label\"]\n",
    "print(\"Number of Features :\", len(TRAIN_COLS))"
   ]
  },
  {
   "cell_type": "code",
   "execution_count": 29,
   "id": "b4d0d6d4",
   "metadata": {},
   "outputs": [
    {
     "data": {
      "text/html": [
       "<div>\n",
       "<style scoped>\n",
       "    .dataframe tbody tr th:only-of-type {\n",
       "        vertical-align: middle;\n",
       "    }\n",
       "\n",
       "    .dataframe tbody tr th {\n",
       "        vertical-align: top;\n",
       "    }\n",
       "\n",
       "    .dataframe thead th {\n",
       "        text-align: right;\n",
       "    }\n",
       "</style>\n",
       "<table border=\"1\" class=\"dataframe\">\n",
       "  <thead>\n",
       "    <tr style=\"text-align: right;\">\n",
       "      <th></th>\n",
       "      <th>Subflow_Fwd_Byts</th>\n",
       "      <th>Idle_Mean</th>\n",
       "      <th>Flow_Duration</th>\n",
       "      <th>Pkt_Len_Std</th>\n",
       "      <th>Src_Port</th>\n",
       "      <th>Tot_Fwd_Pkts</th>\n",
       "      <th>Flow_Byts/s</th>\n",
       "      <th>Subflow_Fwd_Pkts</th>\n",
       "      <th>Active_Std</th>\n",
       "      <th>Bwd_Header_Len</th>\n",
       "      <th>...</th>\n",
       "      <th>Fwd_IAT_Tot</th>\n",
       "      <th>Flow_Pkts/s</th>\n",
       "      <th>Bwd_IAT_Mean</th>\n",
       "      <th>TotLen_Bwd_Pkts</th>\n",
       "      <th>Fwd_Pkt_Len_Mean</th>\n",
       "      <th>Bwd_Pkts/s</th>\n",
       "      <th>Protocol</th>\n",
       "      <th>Bwd_Pkt_Len_Std</th>\n",
       "      <th>Fwd_IAT_Max</th>\n",
       "      <th>Flow_IAT_Std</th>\n",
       "    </tr>\n",
       "  </thead>\n",
       "  <tbody>\n",
       "    <tr>\n",
       "      <th>Subflow_Fwd_Byts</th>\n",
       "      <td>1.000000</td>\n",
       "      <td>-0.053663</td>\n",
       "      <td>0.089187</td>\n",
       "      <td>0.047819</td>\n",
       "      <td>-0.257147</td>\n",
       "      <td>0.191263</td>\n",
       "      <td>0.195484</td>\n",
       "      <td>0.191263</td>\n",
       "      <td>0.174905</td>\n",
       "      <td>-0.153132</td>\n",
       "      <td>...</td>\n",
       "      <td>0.203613</td>\n",
       "      <td>-0.078895</td>\n",
       "      <td>-0.076257</td>\n",
       "      <td>0.094838</td>\n",
       "      <td>0.719441</td>\n",
       "      <td>-0.122668</td>\n",
       "      <td>0.120057</td>\n",
       "      <td>-0.129610</td>\n",
       "      <td>0.106869</td>\n",
       "      <td>0.031981</td>\n",
       "    </tr>\n",
       "    <tr>\n",
       "      <th>Idle_Mean</th>\n",
       "      <td>-0.053663</td>\n",
       "      <td>1.000000</td>\n",
       "      <td>0.802833</td>\n",
       "      <td>-0.049587</td>\n",
       "      <td>-0.220348</td>\n",
       "      <td>-0.062657</td>\n",
       "      <td>-0.128176</td>\n",
       "      <td>-0.062657</td>\n",
       "      <td>0.073413</td>\n",
       "      <td>0.064365</td>\n",
       "      <td>...</td>\n",
       "      <td>0.336481</td>\n",
       "      <td>-0.080629</td>\n",
       "      <td>0.833780</td>\n",
       "      <td>-0.079914</td>\n",
       "      <td>-0.096172</td>\n",
       "      <td>-0.077496</td>\n",
       "      <td>-0.136791</td>\n",
       "      <td>-0.030122</td>\n",
       "      <td>0.358945</td>\n",
       "      <td>0.546918</td>\n",
       "    </tr>\n",
       "    <tr>\n",
       "      <th>Flow_Duration</th>\n",
       "      <td>0.089187</td>\n",
       "      <td>0.802833</td>\n",
       "      <td>1.000000</td>\n",
       "      <td>0.002597</td>\n",
       "      <td>-0.151521</td>\n",
       "      <td>0.001276</td>\n",
       "      <td>-0.096971</td>\n",
       "      <td>0.001276</td>\n",
       "      <td>0.337718</td>\n",
       "      <td>0.132403</td>\n",
       "      <td>...</td>\n",
       "      <td>0.715144</td>\n",
       "      <td>-0.060482</td>\n",
       "      <td>0.746066</td>\n",
       "      <td>0.020273</td>\n",
       "      <td>-0.054266</td>\n",
       "      <td>-0.059062</td>\n",
       "      <td>-0.086556</td>\n",
       "      <td>0.007581</td>\n",
       "      <td>0.690755</td>\n",
       "      <td>0.743892</td>\n",
       "    </tr>\n",
       "    <tr>\n",
       "      <th>Pkt_Len_Std</th>\n",
       "      <td>0.047819</td>\n",
       "      <td>-0.049587</td>\n",
       "      <td>0.002597</td>\n",
       "      <td>1.000000</td>\n",
       "      <td>0.023446</td>\n",
       "      <td>-0.075927</td>\n",
       "      <td>0.035190</td>\n",
       "      <td>-0.075927</td>\n",
       "      <td>0.023750</td>\n",
       "      <td>0.128655</td>\n",
       "      <td>...</td>\n",
       "      <td>0.045097</td>\n",
       "      <td>-0.116850</td>\n",
       "      <td>-0.041346</td>\n",
       "      <td>0.127303</td>\n",
       "      <td>-0.024389</td>\n",
       "      <td>-0.082737</td>\n",
       "      <td>-0.125368</td>\n",
       "      <td>0.716503</td>\n",
       "      <td>0.043067</td>\n",
       "      <td>0.032920</td>\n",
       "    </tr>\n",
       "    <tr>\n",
       "      <th>Src_Port</th>\n",
       "      <td>-0.257147</td>\n",
       "      <td>-0.220348</td>\n",
       "      <td>-0.151521</td>\n",
       "      <td>0.023446</td>\n",
       "      <td>1.000000</td>\n",
       "      <td>0.204387</td>\n",
       "      <td>0.012914</td>\n",
       "      <td>0.204387</td>\n",
       "      <td>-0.011144</td>\n",
       "      <td>-0.099951</td>\n",
       "      <td>...</td>\n",
       "      <td>-0.017139</td>\n",
       "      <td>0.296473</td>\n",
       "      <td>-0.200150</td>\n",
       "      <td>-0.002298</td>\n",
       "      <td>-0.428869</td>\n",
       "      <td>0.239106</td>\n",
       "      <td>0.463515</td>\n",
       "      <td>0.165690</td>\n",
       "      <td>-0.015297</td>\n",
       "      <td>-0.020744</td>\n",
       "    </tr>\n",
       "    <tr>\n",
       "      <th>...</th>\n",
       "      <td>...</td>\n",
       "      <td>...</td>\n",
       "      <td>...</td>\n",
       "      <td>...</td>\n",
       "      <td>...</td>\n",
       "      <td>...</td>\n",
       "      <td>...</td>\n",
       "      <td>...</td>\n",
       "      <td>...</td>\n",
       "      <td>...</td>\n",
       "      <td>...</td>\n",
       "      <td>...</td>\n",
       "      <td>...</td>\n",
       "      <td>...</td>\n",
       "      <td>...</td>\n",
       "      <td>...</td>\n",
       "      <td>...</td>\n",
       "      <td>...</td>\n",
       "      <td>...</td>\n",
       "      <td>...</td>\n",
       "      <td>...</td>\n",
       "    </tr>\n",
       "    <tr>\n",
       "      <th>Bwd_Pkts/s</th>\n",
       "      <td>-0.122668</td>\n",
       "      <td>-0.077496</td>\n",
       "      <td>-0.059062</td>\n",
       "      <td>-0.082737</td>\n",
       "      <td>0.239106</td>\n",
       "      <td>0.011028</td>\n",
       "      <td>0.231854</td>\n",
       "      <td>0.011028</td>\n",
       "      <td>-0.005655</td>\n",
       "      <td>-0.119165</td>\n",
       "      <td>...</td>\n",
       "      <td>-0.015271</td>\n",
       "      <td>0.797309</td>\n",
       "      <td>-0.066737</td>\n",
       "      <td>-0.094187</td>\n",
       "      <td>-0.154685</td>\n",
       "      <td>1.000000</td>\n",
       "      <td>0.280720</td>\n",
       "      <td>-0.035470</td>\n",
       "      <td>-0.014689</td>\n",
       "      <td>-0.018549</td>\n",
       "    </tr>\n",
       "    <tr>\n",
       "      <th>Protocol</th>\n",
       "      <td>0.120057</td>\n",
       "      <td>-0.136791</td>\n",
       "      <td>-0.086556</td>\n",
       "      <td>-0.125368</td>\n",
       "      <td>0.463515</td>\n",
       "      <td>0.305596</td>\n",
       "      <td>-0.009692</td>\n",
       "      <td>0.305596</td>\n",
       "      <td>0.001321</td>\n",
       "      <td>-0.448174</td>\n",
       "      <td>...</td>\n",
       "      <td>0.003143</td>\n",
       "      <td>0.371634</td>\n",
       "      <td>-0.139607</td>\n",
       "      <td>-0.206127</td>\n",
       "      <td>0.032943</td>\n",
       "      <td>0.280720</td>\n",
       "      <td>1.000000</td>\n",
       "      <td>-0.200733</td>\n",
       "      <td>0.002893</td>\n",
       "      <td>-0.012358</td>\n",
       "    </tr>\n",
       "    <tr>\n",
       "      <th>Bwd_Pkt_Len_Std</th>\n",
       "      <td>-0.129610</td>\n",
       "      <td>-0.030122</td>\n",
       "      <td>0.007581</td>\n",
       "      <td>0.716503</td>\n",
       "      <td>0.165690</td>\n",
       "      <td>-0.104060</td>\n",
       "      <td>0.014225</td>\n",
       "      <td>-0.104060</td>\n",
       "      <td>0.019822</td>\n",
       "      <td>0.236067</td>\n",
       "      <td>...</td>\n",
       "      <td>0.030682</td>\n",
       "      <td>-0.075876</td>\n",
       "      <td>-0.017091</td>\n",
       "      <td>0.119872</td>\n",
       "      <td>-0.167763</td>\n",
       "      <td>-0.035470</td>\n",
       "      <td>-0.200733</td>\n",
       "      <td>1.000000</td>\n",
       "      <td>0.031536</td>\n",
       "      <td>0.025126</td>\n",
       "    </tr>\n",
       "    <tr>\n",
       "      <th>Fwd_IAT_Max</th>\n",
       "      <td>0.106869</td>\n",
       "      <td>0.358945</td>\n",
       "      <td>0.690755</td>\n",
       "      <td>0.043067</td>\n",
       "      <td>-0.015297</td>\n",
       "      <td>0.039186</td>\n",
       "      <td>-0.023357</td>\n",
       "      <td>0.039186</td>\n",
       "      <td>0.291235</td>\n",
       "      <td>0.076976</td>\n",
       "      <td>...</td>\n",
       "      <td>0.967051</td>\n",
       "      <td>-0.014181</td>\n",
       "      <td>0.270928</td>\n",
       "      <td>0.047344</td>\n",
       "      <td>0.011474</td>\n",
       "      <td>-0.014689</td>\n",
       "      <td>0.002893</td>\n",
       "      <td>0.031536</td>\n",
       "      <td>1.000000</td>\n",
       "      <td>0.649577</td>\n",
       "    </tr>\n",
       "    <tr>\n",
       "      <th>Flow_IAT_Std</th>\n",
       "      <td>0.031981</td>\n",
       "      <td>0.546918</td>\n",
       "      <td>0.743892</td>\n",
       "      <td>0.032920</td>\n",
       "      <td>-0.020744</td>\n",
       "      <td>0.010990</td>\n",
       "      <td>-0.032904</td>\n",
       "      <td>0.010990</td>\n",
       "      <td>0.123010</td>\n",
       "      <td>0.039029</td>\n",
       "      <td>...</td>\n",
       "      <td>0.608370</td>\n",
       "      <td>-0.018504</td>\n",
       "      <td>0.523278</td>\n",
       "      <td>0.000970</td>\n",
       "      <td>-0.004424</td>\n",
       "      <td>-0.018549</td>\n",
       "      <td>-0.012358</td>\n",
       "      <td>0.025126</td>\n",
       "      <td>0.649577</td>\n",
       "      <td>1.000000</td>\n",
       "    </tr>\n",
       "  </tbody>\n",
       "</table>\n",
       "<p>69 rows × 69 columns</p>\n",
       "</div>"
      ],
      "text/plain": [
       "                  Subflow_Fwd_Byts  Idle_Mean  Flow_Duration  Pkt_Len_Std  \\\n",
       "Subflow_Fwd_Byts          1.000000  -0.053663       0.089187     0.047819   \n",
       "Idle_Mean                -0.053663   1.000000       0.802833    -0.049587   \n",
       "Flow_Duration             0.089187   0.802833       1.000000     0.002597   \n",
       "Pkt_Len_Std               0.047819  -0.049587       0.002597     1.000000   \n",
       "Src_Port                 -0.257147  -0.220348      -0.151521     0.023446   \n",
       "...                            ...        ...            ...          ...   \n",
       "Bwd_Pkts/s               -0.122668  -0.077496      -0.059062    -0.082737   \n",
       "Protocol                  0.120057  -0.136791      -0.086556    -0.125368   \n",
       "Bwd_Pkt_Len_Std          -0.129610  -0.030122       0.007581     0.716503   \n",
       "Fwd_IAT_Max               0.106869   0.358945       0.690755     0.043067   \n",
       "Flow_IAT_Std              0.031981   0.546918       0.743892     0.032920   \n",
       "\n",
       "                  Src_Port  Tot_Fwd_Pkts  Flow_Byts/s  Subflow_Fwd_Pkts  \\\n",
       "Subflow_Fwd_Byts -0.257147      0.191263     0.195484          0.191263   \n",
       "Idle_Mean        -0.220348     -0.062657    -0.128176         -0.062657   \n",
       "Flow_Duration    -0.151521      0.001276    -0.096971          0.001276   \n",
       "Pkt_Len_Std       0.023446     -0.075927     0.035190         -0.075927   \n",
       "Src_Port          1.000000      0.204387     0.012914          0.204387   \n",
       "...                    ...           ...          ...               ...   \n",
       "Bwd_Pkts/s        0.239106      0.011028     0.231854          0.011028   \n",
       "Protocol          0.463515      0.305596    -0.009692          0.305596   \n",
       "Bwd_Pkt_Len_Std   0.165690     -0.104060     0.014225         -0.104060   \n",
       "Fwd_IAT_Max      -0.015297      0.039186    -0.023357          0.039186   \n",
       "Flow_IAT_Std     -0.020744      0.010990    -0.032904          0.010990   \n",
       "\n",
       "                  Active_Std  Bwd_Header_Len  ...  Fwd_IAT_Tot  Flow_Pkts/s  \\\n",
       "Subflow_Fwd_Byts    0.174905       -0.153132  ...     0.203613    -0.078895   \n",
       "Idle_Mean           0.073413        0.064365  ...     0.336481    -0.080629   \n",
       "Flow_Duration       0.337718        0.132403  ...     0.715144    -0.060482   \n",
       "Pkt_Len_Std         0.023750        0.128655  ...     0.045097    -0.116850   \n",
       "Src_Port           -0.011144       -0.099951  ...    -0.017139     0.296473   \n",
       "...                      ...             ...  ...          ...          ...   \n",
       "Bwd_Pkts/s         -0.005655       -0.119165  ...    -0.015271     0.797309   \n",
       "Protocol            0.001321       -0.448174  ...     0.003143     0.371634   \n",
       "Bwd_Pkt_Len_Std     0.019822        0.236067  ...     0.030682    -0.075876   \n",
       "Fwd_IAT_Max         0.291235        0.076976  ...     0.967051    -0.014181   \n",
       "Flow_IAT_Std        0.123010        0.039029  ...     0.608370    -0.018504   \n",
       "\n",
       "                  Bwd_IAT_Mean  TotLen_Bwd_Pkts  Fwd_Pkt_Len_Mean  Bwd_Pkts/s  \\\n",
       "Subflow_Fwd_Byts     -0.076257         0.094838          0.719441   -0.122668   \n",
       "Idle_Mean             0.833780        -0.079914         -0.096172   -0.077496   \n",
       "Flow_Duration         0.746066         0.020273         -0.054266   -0.059062   \n",
       "Pkt_Len_Std          -0.041346         0.127303         -0.024389   -0.082737   \n",
       "Src_Port             -0.200150        -0.002298         -0.428869    0.239106   \n",
       "...                        ...              ...               ...         ...   \n",
       "Bwd_Pkts/s           -0.066737        -0.094187         -0.154685    1.000000   \n",
       "Protocol             -0.139607        -0.206127          0.032943    0.280720   \n",
       "Bwd_Pkt_Len_Std      -0.017091         0.119872         -0.167763   -0.035470   \n",
       "Fwd_IAT_Max           0.270928         0.047344          0.011474   -0.014689   \n",
       "Flow_IAT_Std          0.523278         0.000970         -0.004424   -0.018549   \n",
       "\n",
       "                  Protocol  Bwd_Pkt_Len_Std  Fwd_IAT_Max  Flow_IAT_Std  \n",
       "Subflow_Fwd_Byts  0.120057        -0.129610     0.106869      0.031981  \n",
       "Idle_Mean        -0.136791        -0.030122     0.358945      0.546918  \n",
       "Flow_Duration    -0.086556         0.007581     0.690755      0.743892  \n",
       "Pkt_Len_Std      -0.125368         0.716503     0.043067      0.032920  \n",
       "Src_Port          0.463515         0.165690    -0.015297     -0.020744  \n",
       "...                    ...              ...          ...           ...  \n",
       "Bwd_Pkts/s        0.280720        -0.035470    -0.014689     -0.018549  \n",
       "Protocol          1.000000        -0.200733     0.002893     -0.012358  \n",
       "Bwd_Pkt_Len_Std  -0.200733         1.000000     0.031536      0.025126  \n",
       "Fwd_IAT_Max       0.002893         0.031536     1.000000      0.649577  \n",
       "Flow_IAT_Std     -0.012358         0.025126     0.649577      1.000000  \n",
       "\n",
       "[69 rows x 69 columns]"
      ]
     },
     "execution_count": 29,
     "metadata": {},
     "output_type": "execute_result"
    }
   ],
   "source": [
    "corr = data[TRAIN_COLS+TG_COL].corr()\n",
    "corr"
   ]
  },
  {
   "cell_type": "code",
   "execution_count": 30,
   "id": "70bebc24",
   "metadata": {},
   "outputs": [],
   "source": [
    "corr.to_csv('correlation_matrix')"
   ]
  },
  {
   "cell_type": "code",
   "execution_count": 31,
   "id": "13cd65b0",
   "metadata": {},
   "outputs": [
    {
     "name": "stdout",
     "output_type": "stream",
     "text": [
      "{'Subflow_Fwd_Byts', 'Idle_Mean', 'Tot_Fwd_Pkts', 'Subflow_Fwd_Pkts', 'Bwd_Header_Len', 'Idle_Std', 'Down/Up_Ratio', 'Flow_IAT_Max', 'Fwd_IAT_Std', 'SYN_Flag_Cnt', 'PSH_Flag_Cnt', 'Flow_ID', 'Fwd_Pkt_Len_Max', 'Dst_Port', 'Bwd_IAT_Min', 'Init_Bwd_Win_Byts', 'Flow_IAT_Mean', 'Bwd_Pkt_Len_Max', 'Fwd_Pkt_Len_Std', 'Pkt_Len_Max', 'URG_Flag_Cnt', 'TotLen_Fwd_Pkts', 'Flow_IAT_Min', 'Pkt_Len_Var', 'ACK_Flag_Cnt', 'Bwd_Pkts/b_Avg', 'Fwd_Pkt_Len_Min', 'Subflow_Bwd_Byts', 'Sub_Cat', 'Pkt_Len_Mean', 'Bwd_Pkt_Len_Min', 'Fwd_Act_Data_Pkts', 'Fwd_Byts/b_Avg', 'Fwd_Seg_Size_Min', 'Idle_Min', 'Bwd_IAT_Std', 'Fwd_Pkts/s', 'Fwd_IAT_Mean', 'Active_Max', 'Fwd_Header_Len', 'Fwd_IAT_Tot', 'Flow_Pkts/s', 'Bwd_IAT_Mean', 'TotLen_Bwd_Pkts', 'Fwd_Pkt_Len_Mean', 'Bwd_Pkts/s', 'Timestamp', 'Bwd_Pkt_Len_Std', 'Fwd_IAT_Max', 'Flow_IAT_Std', 'Bwd_Blk_Rate_Avg', 'Src_IP', 'Flow_Duration', 'Pkt_Len_Std', 'Src_Port', 'Flow_Byts/s', 'Active_Std', 'Fwd_PSH_Flags', 'Init_Fwd_Win_Byts', 'Bwd_URG_Flags', 'Active_Mean', 'Fwd_Pkts/b_Avg', 'Bwd_Seg_Size_Avg', 'Bwd_PSH_Flags', 'Dst_IP', 'FIN_Flag_Cnt', 'CWE_Flag_Count', 'ECE_Flag_Cnt', 'Fwd_Blk_Rate_Avg', 'Bwd_Pkt_Len_Mean', 'Pkt_Len_Min', 'Fwd_Seg_Size_Avg', 'Bwd_IAT_Tot', 'Fwd_IAT_Min', 'Label', 'Fwd_URG_Flags', 'RST_Flag_Cnt', 'Cat', 'Bwd_Byts/b_Avg', 'Tot_Bwd_Pkts', 'Pkt_Size_Avg', 'Active_Min', 'Idle_Max', 'Subflow_Bwd_Pkts', 'Bwd_IAT_Max', 'Protocol'}\n"
     ]
    }
   ],
   "source": [
    "print(cols)"
   ]
  },
  {
   "cell_type": "code",
   "execution_count": 32,
   "id": "96826837",
   "metadata": {},
   "outputs": [],
   "source": [
    "# Import label encoder\n",
    "from sklearn import preprocessing\n",
    "  \n",
    "# label_encoder object knows how to understand word labels.\n",
    "label_encoder = preprocessing.LabelEncoder()"
   ]
  },
  {
   "cell_type": "code",
   "execution_count": 33,
   "id": "46581b26",
   "metadata": {},
   "outputs": [],
   "source": [
    "data['Src_IP']= label_encoder.fit_transform(data['Src_IP'])"
   ]
  },
  {
   "cell_type": "code",
   "execution_count": 34,
   "id": "b6d647a4",
   "metadata": {},
   "outputs": [],
   "source": [
    "data['Dst_IP']= label_encoder.fit_transform(data['Dst_IP'])"
   ]
  },
  {
   "cell_type": "code",
   "execution_count": 35,
   "id": "065bd8e9",
   "metadata": {},
   "outputs": [],
   "source": [
    "data['Timestamp']= label_encoder.fit_transform(data['Timestamp'])"
   ]
  },
  {
   "cell_type": "code",
   "execution_count": 36,
   "id": "c66e1d14",
   "metadata": {},
   "outputs": [],
   "source": [
    "data['Label']= label_encoder.fit_transform(data['Label'])"
   ]
  },
  {
   "cell_type": "code",
   "execution_count": 37,
   "id": "43c3b6dc",
   "metadata": {},
   "outputs": [
    {
     "data": {
      "text/plain": [
       "(625783, 86)"
      ]
     },
     "execution_count": 37,
     "metadata": {},
     "output_type": "execute_result"
    }
   ],
   "source": [
    "data.head()\n",
    "data.shape\n"
   ]
  },
  {
   "cell_type": "code",
   "execution_count": 38,
   "id": "51285ece",
   "metadata": {},
   "outputs": [],
   "source": [
    "train_data = data[TRAIN_COLS+TG_COL]\n"
   ]
  },
  {
   "cell_type": "code",
   "execution_count": 39,
   "id": "90a6bd12",
   "metadata": {},
   "outputs": [
    {
     "data": {
      "text/plain": [
       "(625783, 73)"
      ]
     },
     "execution_count": 39,
     "metadata": {},
     "output_type": "execute_result"
    }
   ],
   "source": [
    "train_data.head()\n",
    "train_data.shape"
   ]
  },
  {
   "cell_type": "code",
   "execution_count": 40,
   "id": "8617fe3c",
   "metadata": {},
   "outputs": [
    {
     "data": {
      "text/plain": [
       "(625415, 73)"
      ]
     },
     "execution_count": 40,
     "metadata": {},
     "output_type": "execute_result"
    }
   ],
   "source": [
    "import numpy as np\n",
    "\n",
    "train_data= train_data[np.isfinite(train_data).all(1)]\n",
    "# train_label = data['Label'] \n",
    "# train_label = train_label[np.isfinite(train_label).all(1)]\n",
    "train_data.shape\n"
   ]
  },
  {
   "cell_type": "code",
   "execution_count": 41,
   "id": "ebefd362",
   "metadata": {},
   "outputs": [
    {
     "data": {
      "text/plain": [
       "array([[4.46381760e-01, 8.93978843e-03, 7.50202555e-04, ...,\n",
       "        0.00000000e+00, 0.00000000e+00, 0.00000000e+00],\n",
       "       [5.97009520e-01, 0.00000000e+00, 2.65571704e-02, ...,\n",
       "        0.00000000e+00, 3.33031335e-02, 0.00000000e+00],\n",
       "       [4.46433499e-01, 0.00000000e+00, 7.05190401e-04, ...,\n",
       "        0.00000000e+00, 1.04137378e-05, 0.00000000e+00],\n",
       "       ...,\n",
       "       [4.46433499e-01, 0.00000000e+00, 7.70207956e-04, ...,\n",
       "        0.00000000e+00, 0.00000000e+00, 0.00000000e+00],\n",
       "       [4.46381760e-01, 2.52717441e-02, 1.20032409e-03, ...,\n",
       "        1.25502008e-03, 1.04137378e-04, 1.00000000e+00],\n",
       "       [4.46381760e-01, 2.60364510e-02, 9.90267372e-04, ...,\n",
       "        1.22489960e-03, 4.79031939e-04, 0.00000000e+00]])"
      ]
     },
     "execution_count": 41,
     "metadata": {},
     "output_type": "execute_result"
    }
   ],
   "source": [
    "from sklearn.preprocessing import MinMaxScaler\n",
    "scaler = MinMaxScaler()\n",
    "scaler.fit(train_data)\n",
    "scaler.transform(train_data)"
   ]
  },
  {
   "cell_type": "code",
   "execution_count": 42,
   "id": "8ef4eb34",
   "metadata": {},
   "outputs": [
    {
     "name": "stdout",
     "output_type": "stream",
     "text": [
      "(625415, 73)\n",
      "(625783,)\n"
     ]
    }
   ],
   "source": [
    "print(train_data.shape)\n",
    "print(data['Label'].shape)"
   ]
  },
  {
   "cell_type": "code",
   "execution_count": 43,
   "id": "2c177714",
   "metadata": {},
   "outputs": [],
   "source": [
    "from sklearn.model_selection import train_test_split\n",
    "\n",
    "\n",
    "y = train_data['Label']\n",
    "X = train_data.drop(columns=['Label'])\n",
    "# X = train_data\n",
    "X_train, X_test, y_train, y_test = train_test_split(X, y, test_size = 0.25)"
   ]
  },
  {
   "cell_type": "code",
   "execution_count": 44,
   "id": "cdd08952",
   "metadata": {},
   "outputs": [
    {
     "data": {
      "text/plain": [
       "RandomForestRegressor(random_state=0)"
      ]
     },
     "execution_count": 44,
     "metadata": {},
     "output_type": "execute_result"
    }
   ],
   "source": [
    "# Fitting Random Forest Regression to the dataset\n",
    "# import the regressor\n",
    "from sklearn.ensemble import RandomForestRegressor\n",
    "  \n",
    " # create regressor object\n",
    "regressor = RandomForestRegressor(n_estimators = 100, random_state = 0)\n",
    "  \n",
    "# fit the regressor with x and y data\n",
    "regressor.fit(X_train, y_train)"
   ]
  },
  {
   "cell_type": "code",
   "execution_count": 45,
   "id": "66e27e98",
   "metadata": {},
   "outputs": [
    {
     "name": "stdout",
     "output_type": "stream",
     "text": [
      "0.999904063855098\n"
     ]
    }
   ],
   "source": [
    "from sklearn.metrics import accuracy_score\n",
    "\n",
    "Y_pred = regressor.predict(X_test)\n",
    "Y_pred = np.where(Y_pred >=0.5, 1, 0)\n",
    "print(accuracy_score(y_test, Y_pred))"
   ]
  },
  {
   "cell_type": "code",
   "execution_count": 46,
   "id": "6a5c1c20",
   "metadata": {},
   "outputs": [
    {
     "name": "stdout",
     "output_type": "stream",
     "text": [
      "Root Mean Square Error:\n",
      "\n",
      "0.009794699837256539\n"
     ]
    }
   ],
   "source": [
    "import math\n",
    " \n",
    "MSE = np.square(np.subtract(y_test, Y_pred)).mean() \n",
    " \n",
    "RMSE = math.sqrt(MSE)\n",
    "print(\"Root Mean Square Error:\\n\")\n",
    "print(RMSE)"
   ]
  },
  {
   "cell_type": "code",
   "execution_count": 47,
   "id": "a607f7f1",
   "metadata": {},
   "outputs": [
    {
     "name": "stdout",
     "output_type": "stream",
     "text": [
      "Mean Absolute Error: 9.593614490195325e-05\n",
      "Mean Squared Error: 9.593614490195325e-05\n",
      "R-squared scores: 0.9983995960391\n",
      "Root Mean Square Error: 0.009794699837256539\n",
      "F1 score: 0.9992508615092643\n",
      "ROC Auc score: 0.9994836155172017\n"
     ]
    }
   ],
   "source": [
    "# Import library for metrics\n",
    "from sklearn.metrics import mean_squared_error, r2_score, mean_absolute_error, f1_score, roc_auc_score\n",
    "\n",
    "# Mean absolute error (MAE)\n",
    "mae = mean_absolute_error(y_test, Y_pred)\n",
    "\n",
    "# Mean squared error (MSE)\n",
    "mse = mean_squared_error(y_test, Y_pred)\n",
    "\n",
    "RMSE = math.sqrt(MSE)\n",
    "\n",
    "\n",
    "# R-squared scores\n",
    "r2 = r2_score(y_test, Y_pred)\n",
    "\n",
    "F1 = f1_score(y_test, Y_pred)\n",
    "\n",
    "roc_auc = roc_auc_score(y_test, Y_pred)\n",
    "\n",
    "\n",
    "\n",
    "# Print metrics\n",
    "print('Mean Absolute Error:', mae)\n",
    "print('Mean Squared Error:', mse)\n",
    "print('R-squared scores:', r2)\n",
    "\n",
    "print(\"Root Mean Square Error:\", RMSE)\n",
    "print(\"F1 score:\", F1)\n",
    "print(\"ROC Auc score:\", roc_auc)\n"
   ]
  },
  {
   "cell_type": "code",
   "execution_count": 48,
   "id": "de54b80b",
   "metadata": {},
   "outputs": [],
   "source": [
    "y_pred = np.where(Y_pred >=0.5, 1, 0)\n",
    "y_pred = pd.DataFrame(y_pred)"
   ]
  }
 ],
 "metadata": {
  "kernelspec": {
   "display_name": "Python 3 (ipykernel)",
   "language": "python",
   "name": "python3"
  },
  "language_info": {
   "codemirror_mode": {
    "name": "ipython",
    "version": 3
   },
   "file_extension": ".py",
   "mimetype": "text/x-python",
   "name": "python",
   "nbconvert_exporter": "python",
   "pygments_lexer": "ipython3",
   "version": "3.9.12"
  }
 },
 "nbformat": 4,
 "nbformat_minor": 5
}
