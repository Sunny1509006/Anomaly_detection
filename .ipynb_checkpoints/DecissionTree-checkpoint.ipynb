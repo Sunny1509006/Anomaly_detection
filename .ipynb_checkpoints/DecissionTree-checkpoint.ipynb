{
 "cells": [
  {
   "cell_type": "code",
   "execution_count": 1,
   "id": "63d64101",
   "metadata": {},
   "outputs": [],
   "source": [
    "import numpy as np # linear algebra\n",
    "import pandas as pd # data processing, CSV file I/O (e.g. pd.read_csv)\n",
    "import matplotlib.pyplot as plt\n",
    "import seaborn as sns\n",
    "\n",
    "import os"
   ]
  },
  {
   "cell_type": "code",
   "execution_count": 2,
   "id": "82a1476e",
   "metadata": {},
   "outputs": [],
   "source": [
    "data = pd.read_csv(\"anomaly_data.csv\")"
   ]
  },
  {
   "cell_type": "code",
   "execution_count": 3,
   "id": "3f9847a3",
   "metadata": {},
   "outputs": [
    {
     "data": {
      "text/html": [
       "<div>\n",
       "<style scoped>\n",
       "    .dataframe tbody tr th:only-of-type {\n",
       "        vertical-align: middle;\n",
       "    }\n",
       "\n",
       "    .dataframe tbody tr th {\n",
       "        vertical-align: top;\n",
       "    }\n",
       "\n",
       "    .dataframe thead th {\n",
       "        text-align: right;\n",
       "    }\n",
       "</style>\n",
       "<table border=\"1\" class=\"dataframe\">\n",
       "  <thead>\n",
       "    <tr style=\"text-align: right;\">\n",
       "      <th></th>\n",
       "      <th>Flow_ID</th>\n",
       "      <th>Src_IP</th>\n",
       "      <th>Src_Port</th>\n",
       "      <th>Dst_IP</th>\n",
       "      <th>Dst_Port</th>\n",
       "      <th>Protocol</th>\n",
       "      <th>Timestamp</th>\n",
       "      <th>Flow_Duration</th>\n",
       "      <th>Tot_Fwd_Pkts</th>\n",
       "      <th>Tot_Bwd_Pkts</th>\n",
       "      <th>...</th>\n",
       "      <th>Active_Std</th>\n",
       "      <th>Active_Max</th>\n",
       "      <th>Active_Min</th>\n",
       "      <th>Idle_Mean</th>\n",
       "      <th>Idle_Std</th>\n",
       "      <th>Idle_Max</th>\n",
       "      <th>Idle_Min</th>\n",
       "      <th>Label</th>\n",
       "      <th>Cat</th>\n",
       "      <th>Sub_Cat</th>\n",
       "    </tr>\n",
       "  </thead>\n",
       "  <tbody>\n",
       "    <tr>\n",
       "      <th>0</th>\n",
       "      <td>192.168.0.13-192.168.0.16-10000-10101-17</td>\n",
       "      <td>192.168.0.13</td>\n",
       "      <td>10000</td>\n",
       "      <td>192.168.0.16</td>\n",
       "      <td>10101</td>\n",
       "      <td>17</td>\n",
       "      <td>25/07/2019 03:25:53 AM</td>\n",
       "      <td>75</td>\n",
       "      <td>1</td>\n",
       "      <td>1</td>\n",
       "      <td>...</td>\n",
       "      <td>0.0</td>\n",
       "      <td>0</td>\n",
       "      <td>0</td>\n",
       "      <td>75.0</td>\n",
       "      <td>0.000000</td>\n",
       "      <td>75</td>\n",
       "      <td>75</td>\n",
       "      <td>Anomaly</td>\n",
       "      <td>Mirai</td>\n",
       "      <td>Mirai-Ackflooding</td>\n",
       "    </tr>\n",
       "    <tr>\n",
       "      <th>1</th>\n",
       "      <td>192.168.0.13-222.160.179.132-554-2179-6</td>\n",
       "      <td>222.160.179.132</td>\n",
       "      <td>2179</td>\n",
       "      <td>192.168.0.13</td>\n",
       "      <td>554</td>\n",
       "      <td>6</td>\n",
       "      <td>26/05/2019 10:11:06 PM</td>\n",
       "      <td>5310</td>\n",
       "      <td>1</td>\n",
       "      <td>2</td>\n",
       "      <td>...</td>\n",
       "      <td>0.0</td>\n",
       "      <td>0</td>\n",
       "      <td>0</td>\n",
       "      <td>2655.0</td>\n",
       "      <td>2261.327486</td>\n",
       "      <td>4254</td>\n",
       "      <td>1056</td>\n",
       "      <td>Anomaly</td>\n",
       "      <td>DoS</td>\n",
       "      <td>DoS-Synflooding</td>\n",
       "    </tr>\n",
       "    <tr>\n",
       "      <th>2</th>\n",
       "      <td>192.168.0.13-192.168.0.16-9020-52727-6</td>\n",
       "      <td>192.168.0.16</td>\n",
       "      <td>52727</td>\n",
       "      <td>192.168.0.13</td>\n",
       "      <td>9020</td>\n",
       "      <td>6</td>\n",
       "      <td>11/7/2019 1:24</td>\n",
       "      <td>141</td>\n",
       "      <td>0</td>\n",
       "      <td>3</td>\n",
       "      <td>...</td>\n",
       "      <td>0.0</td>\n",
       "      <td>0</td>\n",
       "      <td>0</td>\n",
       "      <td>70.5</td>\n",
       "      <td>0.707107</td>\n",
       "      <td>71</td>\n",
       "      <td>70</td>\n",
       "      <td>Anomaly</td>\n",
       "      <td>Scan</td>\n",
       "      <td>Scan Port OS</td>\n",
       "    </tr>\n",
       "    <tr>\n",
       "      <th>3</th>\n",
       "      <td>192.168.0.13-192.168.0.16-9020-52964-6</td>\n",
       "      <td>192.168.0.16</td>\n",
       "      <td>52964</td>\n",
       "      <td>192.168.0.13</td>\n",
       "      <td>9020</td>\n",
       "      <td>6</td>\n",
       "      <td>4/9/2019 3:58</td>\n",
       "      <td>151</td>\n",
       "      <td>0</td>\n",
       "      <td>2</td>\n",
       "      <td>...</td>\n",
       "      <td>0.0</td>\n",
       "      <td>0</td>\n",
       "      <td>0</td>\n",
       "      <td>151.0</td>\n",
       "      <td>0.000000</td>\n",
       "      <td>151</td>\n",
       "      <td>151</td>\n",
       "      <td>Anomaly</td>\n",
       "      <td>Mirai</td>\n",
       "      <td>Mirai-Hostbruteforceg</td>\n",
       "    </tr>\n",
       "    <tr>\n",
       "      <th>4</th>\n",
       "      <td>192.168.0.1-239.255.255.250-36763-1900-17</td>\n",
       "      <td>192.168.0.1</td>\n",
       "      <td>36763</td>\n",
       "      <td>239.255.255.250</td>\n",
       "      <td>1900</td>\n",
       "      <td>17</td>\n",
       "      <td>10/9/2019 1:41</td>\n",
       "      <td>153</td>\n",
       "      <td>2</td>\n",
       "      <td>1</td>\n",
       "      <td>...</td>\n",
       "      <td>0.0</td>\n",
       "      <td>0</td>\n",
       "      <td>0</td>\n",
       "      <td>76.5</td>\n",
       "      <td>0.707107</td>\n",
       "      <td>77</td>\n",
       "      <td>76</td>\n",
       "      <td>Anomaly</td>\n",
       "      <td>Mirai</td>\n",
       "      <td>Mirai-Hostbruteforceg</td>\n",
       "    </tr>\n",
       "  </tbody>\n",
       "</table>\n",
       "<p>5 rows × 86 columns</p>\n",
       "</div>"
      ],
      "text/plain": [
       "                                     Flow_ID           Src_IP  Src_Port  \\\n",
       "0   192.168.0.13-192.168.0.16-10000-10101-17     192.168.0.13     10000   \n",
       "1    192.168.0.13-222.160.179.132-554-2179-6  222.160.179.132      2179   \n",
       "2     192.168.0.13-192.168.0.16-9020-52727-6     192.168.0.16     52727   \n",
       "3     192.168.0.13-192.168.0.16-9020-52964-6     192.168.0.16     52964   \n",
       "4  192.168.0.1-239.255.255.250-36763-1900-17      192.168.0.1     36763   \n",
       "\n",
       "            Dst_IP  Dst_Port  Protocol               Timestamp  Flow_Duration  \\\n",
       "0     192.168.0.16     10101        17  25/07/2019 03:25:53 AM             75   \n",
       "1     192.168.0.13       554         6  26/05/2019 10:11:06 PM           5310   \n",
       "2     192.168.0.13      9020         6          11/7/2019 1:24            141   \n",
       "3     192.168.0.13      9020         6           4/9/2019 3:58            151   \n",
       "4  239.255.255.250      1900        17          10/9/2019 1:41            153   \n",
       "\n",
       "   Tot_Fwd_Pkts  Tot_Bwd_Pkts  ...  Active_Std  Active_Max  Active_Min  \\\n",
       "0             1             1  ...         0.0           0           0   \n",
       "1             1             2  ...         0.0           0           0   \n",
       "2             0             3  ...         0.0           0           0   \n",
       "3             0             2  ...         0.0           0           0   \n",
       "4             2             1  ...         0.0           0           0   \n",
       "\n",
       "   Idle_Mean     Idle_Std  Idle_Max  Idle_Min    Label    Cat  \\\n",
       "0       75.0     0.000000        75        75  Anomaly  Mirai   \n",
       "1     2655.0  2261.327486      4254      1056  Anomaly    DoS   \n",
       "2       70.5     0.707107        71        70  Anomaly   Scan   \n",
       "3      151.0     0.000000       151       151  Anomaly  Mirai   \n",
       "4       76.5     0.707107        77        76  Anomaly  Mirai   \n",
       "\n",
       "                 Sub_Cat  \n",
       "0      Mirai-Ackflooding  \n",
       "1        DoS-Synflooding  \n",
       "2           Scan Port OS  \n",
       "3  Mirai-Hostbruteforceg  \n",
       "4  Mirai-Hostbruteforceg  \n",
       "\n",
       "[5 rows x 86 columns]"
      ]
     },
     "execution_count": 3,
     "metadata": {},
     "output_type": "execute_result"
    }
   ],
   "source": [
    "data.head()"
   ]
  },
  {
   "cell_type": "code",
   "execution_count": 4,
   "id": "53e93003",
   "metadata": {},
   "outputs": [
    {
     "data": {
      "text/plain": [
       "(625783, 86)"
      ]
     },
     "execution_count": 4,
     "metadata": {},
     "output_type": "execute_result"
    }
   ],
   "source": [
    "data.shape"
   ]
  },
  {
   "cell_type": "code",
   "execution_count": 5,
   "id": "aa7b62f9",
   "metadata": {},
   "outputs": [],
   "source": [
    "null_check = data.isnull().sum()\n",
    "\n",
    "null_check.to_csv('null_count')\n",
    "#no null data has been found"
   ]
  },
  {
   "cell_type": "code",
   "execution_count": 6,
   "id": "18589165",
   "metadata": {},
   "outputs": [
    {
     "data": {
      "text/plain": [
       "array(['Anomaly', 'Normal'], dtype=object)"
      ]
     },
     "execution_count": 6,
     "metadata": {},
     "output_type": "execute_result"
    }
   ],
   "source": [
    "data['Label'].unique()"
   ]
  },
  {
   "cell_type": "code",
   "execution_count": 7,
   "id": "e5ec5436",
   "metadata": {},
   "outputs": [
    {
     "data": {
      "text/plain": [
       "array([0], dtype=int64)"
      ]
     },
     "execution_count": 7,
     "metadata": {},
     "output_type": "execute_result"
    }
   ],
   "source": [
    "data['Fwd_PSH_Flags'].unique()"
   ]
  },
  {
   "cell_type": "code",
   "execution_count": 8,
   "id": "7fcac8a5",
   "metadata": {},
   "outputs": [
    {
     "data": {
      "text/plain": [
       "array([0, 1], dtype=int64)"
      ]
     },
     "execution_count": 8,
     "metadata": {},
     "output_type": "execute_result"
    }
   ],
   "source": [
    "data['Bwd_PSH_Flags'].unique()"
   ]
  },
  {
   "cell_type": "code",
   "execution_count": 9,
   "id": "a2525f02",
   "metadata": {},
   "outputs": [
    {
     "data": {
      "text/plain": [
       "array([0], dtype=int64)"
      ]
     },
     "execution_count": 9,
     "metadata": {},
     "output_type": "execute_result"
    }
   ],
   "source": [
    "data['Fwd_URG_Flags'].unique()"
   ]
  },
  {
   "cell_type": "code",
   "execution_count": 10,
   "id": "b31b4472",
   "metadata": {},
   "outputs": [
    {
     "data": {
      "text/plain": [
       "array([0, 1], dtype=int64)"
      ]
     },
     "execution_count": 10,
     "metadata": {},
     "output_type": "execute_result"
    }
   ],
   "source": [
    "data['Bwd_URG_Flags'].unique()"
   ]
  },
  {
   "cell_type": "code",
   "execution_count": 11,
   "id": "f863e26d",
   "metadata": {},
   "outputs": [
    {
     "data": {
      "text/plain": [
       "array([0, 1], dtype=int64)"
      ]
     },
     "execution_count": 11,
     "metadata": {},
     "output_type": "execute_result"
    }
   ],
   "source": [
    "data['FIN_Flag_Cnt'].unique()"
   ]
  },
  {
   "cell_type": "code",
   "execution_count": 12,
   "id": "e709c364",
   "metadata": {},
   "outputs": [
    {
     "data": {
      "text/plain": [
       "array([0, 1], dtype=int64)"
      ]
     },
     "execution_count": 12,
     "metadata": {},
     "output_type": "execute_result"
    }
   ],
   "source": [
    "data['RST_Flag_Cnt'].unique()"
   ]
  },
  {
   "cell_type": "code",
   "execution_count": 13,
   "id": "430e639c",
   "metadata": {},
   "outputs": [
    {
     "data": {
      "text/plain": [
       "array([0, 1], dtype=int64)"
      ]
     },
     "execution_count": 13,
     "metadata": {},
     "output_type": "execute_result"
    }
   ],
   "source": [
    "data['URG_Flag_Cnt'].unique()"
   ]
  },
  {
   "cell_type": "code",
   "execution_count": 14,
   "id": "4fc54ad3",
   "metadata": {},
   "outputs": [
    {
     "data": {
      "text/plain": [
       "array([0, 1], dtype=int64)"
      ]
     },
     "execution_count": 14,
     "metadata": {},
     "output_type": "execute_result"
    }
   ],
   "source": [
    "data['CWE_Flag_Count'].unique()"
   ]
  },
  {
   "cell_type": "code",
   "execution_count": 15,
   "id": "23adbc35",
   "metadata": {},
   "outputs": [
    {
     "data": {
      "text/plain": [
       "array([0, 1], dtype=int64)"
      ]
     },
     "execution_count": 15,
     "metadata": {},
     "output_type": "execute_result"
    }
   ],
   "source": [
    "data['ECE_Flag_Cnt'].unique()"
   ]
  },
  {
   "cell_type": "code",
   "execution_count": 16,
   "id": "c33100cf",
   "metadata": {},
   "outputs": [
    {
     "data": {
      "text/plain": [
       "array([ 1,  2,  0,  3,  4,  5, 10,  7,  8,  6, 13, 12, 11,  9, 14],\n",
       "      dtype=int64)"
      ]
     },
     "execution_count": 16,
     "metadata": {},
     "output_type": "execute_result"
    }
   ],
   "source": [
    "data['Down/Up_Ratio'].unique()"
   ]
  },
  {
   "cell_type": "code",
   "execution_count": 17,
   "id": "d431eaa1",
   "metadata": {},
   "outputs": [
    {
     "data": {
      "text/plain": [
       "array([0], dtype=int64)"
      ]
     },
     "execution_count": 17,
     "metadata": {},
     "output_type": "execute_result"
    }
   ],
   "source": [
    "data['Fwd_Byts/b_Avg'].unique()"
   ]
  },
  {
   "cell_type": "code",
   "execution_count": 18,
   "id": "b0a932bb",
   "metadata": {},
   "outputs": [
    {
     "data": {
      "text/plain": [
       "array([0], dtype=int64)"
      ]
     },
     "execution_count": 18,
     "metadata": {},
     "output_type": "execute_result"
    }
   ],
   "source": [
    "data['Fwd_Pkts/b_Avg'].unique()"
   ]
  },
  {
   "cell_type": "code",
   "execution_count": 19,
   "id": "0c3d854a",
   "metadata": {},
   "outputs": [
    {
     "data": {
      "text/plain": [
       "array([0], dtype=int64)"
      ]
     },
     "execution_count": 19,
     "metadata": {},
     "output_type": "execute_result"
    }
   ],
   "source": [
    "data['Fwd_Blk_Rate_Avg'].unique()"
   ]
  },
  {
   "cell_type": "code",
   "execution_count": 20,
   "id": "370297ac",
   "metadata": {},
   "outputs": [
    {
     "data": {
      "text/plain": [
       "array([0], dtype=int64)"
      ]
     },
     "execution_count": 20,
     "metadata": {},
     "output_type": "execute_result"
    }
   ],
   "source": [
    "data['Bwd_Byts/b_Avg'].unique()"
   ]
  },
  {
   "cell_type": "code",
   "execution_count": 21,
   "id": "6516edac",
   "metadata": {},
   "outputs": [
    {
     "data": {
      "text/plain": [
       "array([0], dtype=int64)"
      ]
     },
     "execution_count": 21,
     "metadata": {},
     "output_type": "execute_result"
    }
   ],
   "source": [
    "data['Bwd_Pkts/b_Avg'].unique()"
   ]
  },
  {
   "cell_type": "code",
   "execution_count": 22,
   "id": "bd0ae774",
   "metadata": {},
   "outputs": [
    {
     "data": {
      "text/plain": [
       "array([0], dtype=int64)"
      ]
     },
     "execution_count": 22,
     "metadata": {},
     "output_type": "execute_result"
    }
   ],
   "source": [
    "data['Bwd_Blk_Rate_Avg'].unique()"
   ]
  },
  {
   "cell_type": "code",
   "execution_count": 23,
   "id": "fc59d9c4",
   "metadata": {},
   "outputs": [
    {
     "data": {
      "text/plain": [
       "array([-1], dtype=int64)"
      ]
     },
     "execution_count": 23,
     "metadata": {},
     "output_type": "execute_result"
    }
   ],
   "source": [
    "data['Init_Fwd_Win_Byts'].unique()"
   ]
  },
  {
   "cell_type": "code",
   "execution_count": 24,
   "id": "6a5e67af",
   "metadata": {},
   "outputs": [
    {
     "data": {
      "text/plain": [
       "array([0], dtype=int64)"
      ]
     },
     "execution_count": 24,
     "metadata": {},
     "output_type": "execute_result"
    }
   ],
   "source": [
    "data['Fwd_Seg_Size_Min'].unique()"
   ]
  },
  {
   "cell_type": "code",
   "execution_count": 25,
   "id": "377058fc",
   "metadata": {},
   "outputs": [
    {
     "name": "stdout",
     "output_type": "stream",
     "text": [
      "(585710, 86)\n",
      "(40073, 86)\n"
     ]
    }
   ],
   "source": [
    "print(data[data.Label=='Anomaly'].shape)\n",
    "print(data[data.Label=='Normal'].shape)"
   ]
  },
  {
   "cell_type": "code",
   "execution_count": 26,
   "id": "2cce385d",
   "metadata": {},
   "outputs": [],
   "source": [
    "temp_ignore_cols = set(['Flow_ID', 'Label', 'Fwd_PSH_Flags', 'Fwd_URG_Flags', 'Fwd_Byts/b_Avg', \n",
    "                        'Fwd_Pkts/b_Avg', 'Fwd_Blk_Rate_Avg','Bwd_Byts/b_Avg', 'Bwd_Pkts/b_Avg', 'Bwd_Blk_Rate_Avg',\n",
    "                        'Init_Fwd_Win_Byts', 'Fwd_Seg_Size_Min', 'Cat', 'Sub_Cat'])"
   ]
  },
  {
   "cell_type": "code",
   "execution_count": 27,
   "id": "21ec5db3",
   "metadata": {},
   "outputs": [],
   "source": [
    "cols = set(data.columns)"
   ]
  },
  {
   "cell_type": "code",
   "execution_count": 28,
   "id": "008def9f",
   "metadata": {},
   "outputs": [
    {
     "name": "stdout",
     "output_type": "stream",
     "text": [
      "Number of Features : 72\n"
     ]
    }
   ],
   "source": [
    "TRAIN_COLS = list(cols-temp_ignore_cols)\n",
    "TG_COL = [\"Label\"]\n",
    "print(\"Number of Features :\", len(TRAIN_COLS))"
   ]
  },
  {
   "cell_type": "code",
   "execution_count": 29,
   "id": "b4d0d6d4",
   "metadata": {},
   "outputs": [
    {
     "data": {
      "text/html": [
       "<div>\n",
       "<style scoped>\n",
       "    .dataframe tbody tr th:only-of-type {\n",
       "        vertical-align: middle;\n",
       "    }\n",
       "\n",
       "    .dataframe tbody tr th {\n",
       "        vertical-align: top;\n",
       "    }\n",
       "\n",
       "    .dataframe thead th {\n",
       "        text-align: right;\n",
       "    }\n",
       "</style>\n",
       "<table border=\"1\" class=\"dataframe\">\n",
       "  <thead>\n",
       "    <tr style=\"text-align: right;\">\n",
       "      <th></th>\n",
       "      <th>Fwd_Header_Len</th>\n",
       "      <th>Fwd_Act_Data_Pkts</th>\n",
       "      <th>Dst_Port</th>\n",
       "      <th>Fwd_Pkt_Len_Min</th>\n",
       "      <th>Flow_Duration</th>\n",
       "      <th>Bwd_PSH_Flags</th>\n",
       "      <th>Idle_Std</th>\n",
       "      <th>Subflow_Bwd_Pkts</th>\n",
       "      <th>Bwd_IAT_Min</th>\n",
       "      <th>Active_Std</th>\n",
       "      <th>...</th>\n",
       "      <th>Fwd_IAT_Tot</th>\n",
       "      <th>Flow_IAT_Mean</th>\n",
       "      <th>Src_Port</th>\n",
       "      <th>TotLen_Fwd_Pkts</th>\n",
       "      <th>Fwd_Pkt_Len_Std</th>\n",
       "      <th>Fwd_Pkt_Len_Mean</th>\n",
       "      <th>Protocol</th>\n",
       "      <th>Bwd_Pkt_Len_Mean</th>\n",
       "      <th>Idle_Max</th>\n",
       "      <th>FIN_Flag_Cnt</th>\n",
       "    </tr>\n",
       "  </thead>\n",
       "  <tbody>\n",
       "    <tr>\n",
       "      <th>Fwd_Header_Len</th>\n",
       "      <td>1.000000</td>\n",
       "      <td>0.827936</td>\n",
       "      <td>0.162724</td>\n",
       "      <td>0.081399</td>\n",
       "      <td>0.069897</td>\n",
       "      <td>-0.019750</td>\n",
       "      <td>0.060148</td>\n",
       "      <td>-0.056346</td>\n",
       "      <td>-0.085040</td>\n",
       "      <td>0.249763</td>\n",
       "      <td>...</td>\n",
       "      <td>0.178414</td>\n",
       "      <td>-0.093856</td>\n",
       "      <td>0.054848</td>\n",
       "      <td>0.418706</td>\n",
       "      <td>0.138883</td>\n",
       "      <td>0.120772</td>\n",
       "      <td>0.095452</td>\n",
       "      <td>-0.062332</td>\n",
       "      <td>-0.004303</td>\n",
       "      <td>-0.000989</td>\n",
       "    </tr>\n",
       "    <tr>\n",
       "      <th>Fwd_Act_Data_Pkts</th>\n",
       "      <td>0.827936</td>\n",
       "      <td>1.000000</td>\n",
       "      <td>-0.018829</td>\n",
       "      <td>-0.011121</td>\n",
       "      <td>-0.002837</td>\n",
       "      <td>-0.038373</td>\n",
       "      <td>0.016131</td>\n",
       "      <td>-0.119192</td>\n",
       "      <td>-0.065568</td>\n",
       "      <td>0.058703</td>\n",
       "      <td>...</td>\n",
       "      <td>0.057717</td>\n",
       "      <td>-0.073373</td>\n",
       "      <td>0.193127</td>\n",
       "      <td>0.208176</td>\n",
       "      <td>0.046652</td>\n",
       "      <td>0.002517</td>\n",
       "      <td>0.336095</td>\n",
       "      <td>-0.118661</td>\n",
       "      <td>-0.030075</td>\n",
       "      <td>-0.006848</td>\n",
       "    </tr>\n",
       "    <tr>\n",
       "      <th>Dst_Port</th>\n",
       "      <td>0.162724</td>\n",
       "      <td>-0.018829</td>\n",
       "      <td>1.000000</td>\n",
       "      <td>0.508410</td>\n",
       "      <td>-0.063070</td>\n",
       "      <td>0.028314</td>\n",
       "      <td>0.003281</td>\n",
       "      <td>-0.094940</td>\n",
       "      <td>-0.129208</td>\n",
       "      <td>0.005157</td>\n",
       "      <td>...</td>\n",
       "      <td>0.014569</td>\n",
       "      <td>-0.125565</td>\n",
       "      <td>-0.598295</td>\n",
       "      <td>0.334806</td>\n",
       "      <td>0.151022</td>\n",
       "      <td>0.535553</td>\n",
       "      <td>-0.277742</td>\n",
       "      <td>0.340004</td>\n",
       "      <td>-0.079671</td>\n",
       "      <td>0.007702</td>\n",
       "    </tr>\n",
       "    <tr>\n",
       "      <th>Fwd_Pkt_Len_Min</th>\n",
       "      <td>0.081399</td>\n",
       "      <td>-0.011121</td>\n",
       "      <td>0.508410</td>\n",
       "      <td>1.000000</td>\n",
       "      <td>-0.060544</td>\n",
       "      <td>-0.032219</td>\n",
       "      <td>-0.001439</td>\n",
       "      <td>-0.223470</td>\n",
       "      <td>-0.109229</td>\n",
       "      <td>-0.005633</td>\n",
       "      <td>...</td>\n",
       "      <td>-0.000384</td>\n",
       "      <td>-0.100272</td>\n",
       "      <td>-0.414633</td>\n",
       "      <td>0.647279</td>\n",
       "      <td>-0.048177</td>\n",
       "      <td>0.975215</td>\n",
       "      <td>0.023205</td>\n",
       "      <td>0.612924</td>\n",
       "      <td>-0.069088</td>\n",
       "      <td>-0.011715</td>\n",
       "    </tr>\n",
       "    <tr>\n",
       "      <th>Flow_Duration</th>\n",
       "      <td>0.069897</td>\n",
       "      <td>-0.002837</td>\n",
       "      <td>-0.063070</td>\n",
       "      <td>-0.060544</td>\n",
       "      <td>1.000000</td>\n",
       "      <td>0.054156</td>\n",
       "      <td>0.732773</td>\n",
       "      <td>0.215306</td>\n",
       "      <td>0.633643</td>\n",
       "      <td>0.337718</td>\n",
       "      <td>...</td>\n",
       "      <td>0.715144</td>\n",
       "      <td>0.734407</td>\n",
       "      <td>-0.151521</td>\n",
       "      <td>0.089187</td>\n",
       "      <td>0.009656</td>\n",
       "      <td>-0.054266</td>\n",
       "      <td>-0.086556</td>\n",
       "      <td>-0.110422</td>\n",
       "      <td>0.956640</td>\n",
       "      <td>0.002827</td>\n",
       "    </tr>\n",
       "    <tr>\n",
       "      <th>...</th>\n",
       "      <td>...</td>\n",
       "      <td>...</td>\n",
       "      <td>...</td>\n",
       "      <td>...</td>\n",
       "      <td>...</td>\n",
       "      <td>...</td>\n",
       "      <td>...</td>\n",
       "      <td>...</td>\n",
       "      <td>...</td>\n",
       "      <td>...</td>\n",
       "      <td>...</td>\n",
       "      <td>...</td>\n",
       "      <td>...</td>\n",
       "      <td>...</td>\n",
       "      <td>...</td>\n",
       "      <td>...</td>\n",
       "      <td>...</td>\n",
       "      <td>...</td>\n",
       "      <td>...</td>\n",
       "      <td>...</td>\n",
       "      <td>...</td>\n",
       "    </tr>\n",
       "    <tr>\n",
       "      <th>Fwd_Pkt_Len_Mean</th>\n",
       "      <td>0.120772</td>\n",
       "      <td>0.002517</td>\n",
       "      <td>0.535553</td>\n",
       "      <td>0.975215</td>\n",
       "      <td>-0.054266</td>\n",
       "      <td>-0.036469</td>\n",
       "      <td>0.005051</td>\n",
       "      <td>-0.235496</td>\n",
       "      <td>-0.113749</td>\n",
       "      <td>0.002016</td>\n",
       "      <td>...</td>\n",
       "      <td>0.013683</td>\n",
       "      <td>-0.105299</td>\n",
       "      <td>-0.428869</td>\n",
       "      <td>0.719441</td>\n",
       "      <td>0.164148</td>\n",
       "      <td>1.000000</td>\n",
       "      <td>0.032943</td>\n",
       "      <td>0.646469</td>\n",
       "      <td>-0.067732</td>\n",
       "      <td>-0.012197</td>\n",
       "    </tr>\n",
       "    <tr>\n",
       "      <th>Protocol</th>\n",
       "      <td>0.095452</td>\n",
       "      <td>0.336095</td>\n",
       "      <td>-0.277742</td>\n",
       "      <td>0.023205</td>\n",
       "      <td>-0.086556</td>\n",
       "      <td>-0.121583</td>\n",
       "      <td>-0.012169</td>\n",
       "      <td>-0.197330</td>\n",
       "      <td>-0.141059</td>\n",
       "      <td>0.001321</td>\n",
       "      <td>...</td>\n",
       "      <td>0.003143</td>\n",
       "      <td>-0.153144</td>\n",
       "      <td>0.463515</td>\n",
       "      <td>0.120057</td>\n",
       "      <td>0.051228</td>\n",
       "      <td>0.032943</td>\n",
       "      <td>1.000000</td>\n",
       "      <td>-0.223239</td>\n",
       "      <td>-0.104093</td>\n",
       "      <td>-0.016957</td>\n",
       "    </tr>\n",
       "    <tr>\n",
       "      <th>Bwd_Pkt_Len_Mean</th>\n",
       "      <td>-0.062332</td>\n",
       "      <td>-0.118661</td>\n",
       "      <td>0.340004</td>\n",
       "      <td>0.612924</td>\n",
       "      <td>-0.110422</td>\n",
       "      <td>-0.019765</td>\n",
       "      <td>-0.019327</td>\n",
       "      <td>-0.007752</td>\n",
       "      <td>-0.163644</td>\n",
       "      <td>-0.004781</td>\n",
       "      <td>...</td>\n",
       "      <td>-0.016194</td>\n",
       "      <td>-0.172411</td>\n",
       "      <td>-0.236695</td>\n",
       "      <td>0.454332</td>\n",
       "      <td>0.191518</td>\n",
       "      <td>0.646469</td>\n",
       "      <td>-0.223239</td>\n",
       "      <td>1.000000</td>\n",
       "      <td>-0.127175</td>\n",
       "      <td>-0.018039</td>\n",
       "    </tr>\n",
       "    <tr>\n",
       "      <th>Idle_Max</th>\n",
       "      <td>-0.004303</td>\n",
       "      <td>-0.030075</td>\n",
       "      <td>-0.079671</td>\n",
       "      <td>-0.069088</td>\n",
       "      <td>0.956640</td>\n",
       "      <td>0.050898</td>\n",
       "      <td>0.721140</td>\n",
       "      <td>0.143909</td>\n",
       "      <td>0.725139</td>\n",
       "      <td>0.195263</td>\n",
       "      <td>...</td>\n",
       "      <td>0.600942</td>\n",
       "      <td>0.838602</td>\n",
       "      <td>-0.171715</td>\n",
       "      <td>0.007784</td>\n",
       "      <td>-0.004814</td>\n",
       "      <td>-0.067732</td>\n",
       "      <td>-0.104093</td>\n",
       "      <td>-0.127175</td>\n",
       "      <td>1.000000</td>\n",
       "      <td>0.002709</td>\n",
       "    </tr>\n",
       "    <tr>\n",
       "      <th>FIN_Flag_Cnt</th>\n",
       "      <td>-0.000989</td>\n",
       "      <td>-0.006848</td>\n",
       "      <td>0.007702</td>\n",
       "      <td>-0.011715</td>\n",
       "      <td>0.002827</td>\n",
       "      <td>0.053950</td>\n",
       "      <td>0.000207</td>\n",
       "      <td>-0.002604</td>\n",
       "      <td>-0.000474</td>\n",
       "      <td>0.001513</td>\n",
       "      <td>...</td>\n",
       "      <td>0.001473</td>\n",
       "      <td>0.003183</td>\n",
       "      <td>-0.018924</td>\n",
       "      <td>-0.009521</td>\n",
       "      <td>-0.003314</td>\n",
       "      <td>-0.012197</td>\n",
       "      <td>-0.016957</td>\n",
       "      <td>-0.018039</td>\n",
       "      <td>0.002709</td>\n",
       "      <td>1.000000</td>\n",
       "    </tr>\n",
       "  </tbody>\n",
       "</table>\n",
       "<p>69 rows × 69 columns</p>\n",
       "</div>"
      ],
      "text/plain": [
       "                   Fwd_Header_Len  Fwd_Act_Data_Pkts  Dst_Port  \\\n",
       "Fwd_Header_Len           1.000000           0.827936  0.162724   \n",
       "Fwd_Act_Data_Pkts        0.827936           1.000000 -0.018829   \n",
       "Dst_Port                 0.162724          -0.018829  1.000000   \n",
       "Fwd_Pkt_Len_Min          0.081399          -0.011121  0.508410   \n",
       "Flow_Duration            0.069897          -0.002837 -0.063070   \n",
       "...                           ...                ...       ...   \n",
       "Fwd_Pkt_Len_Mean         0.120772           0.002517  0.535553   \n",
       "Protocol                 0.095452           0.336095 -0.277742   \n",
       "Bwd_Pkt_Len_Mean        -0.062332          -0.118661  0.340004   \n",
       "Idle_Max                -0.004303          -0.030075 -0.079671   \n",
       "FIN_Flag_Cnt            -0.000989          -0.006848  0.007702   \n",
       "\n",
       "                   Fwd_Pkt_Len_Min  Flow_Duration  Bwd_PSH_Flags  Idle_Std  \\\n",
       "Fwd_Header_Len            0.081399       0.069897      -0.019750  0.060148   \n",
       "Fwd_Act_Data_Pkts        -0.011121      -0.002837      -0.038373  0.016131   \n",
       "Dst_Port                  0.508410      -0.063070       0.028314  0.003281   \n",
       "Fwd_Pkt_Len_Min           1.000000      -0.060544      -0.032219 -0.001439   \n",
       "Flow_Duration            -0.060544       1.000000       0.054156  0.732773   \n",
       "...                            ...            ...            ...       ...   \n",
       "Fwd_Pkt_Len_Mean          0.975215      -0.054266      -0.036469  0.005051   \n",
       "Protocol                  0.023205      -0.086556      -0.121583 -0.012169   \n",
       "Bwd_Pkt_Len_Mean          0.612924      -0.110422      -0.019765 -0.019327   \n",
       "Idle_Max                 -0.069088       0.956640       0.050898  0.721140   \n",
       "FIN_Flag_Cnt             -0.011715       0.002827       0.053950  0.000207   \n",
       "\n",
       "                   Subflow_Bwd_Pkts  Bwd_IAT_Min  Active_Std  ...  \\\n",
       "Fwd_Header_Len            -0.056346    -0.085040    0.249763  ...   \n",
       "Fwd_Act_Data_Pkts         -0.119192    -0.065568    0.058703  ...   \n",
       "Dst_Port                  -0.094940    -0.129208    0.005157  ...   \n",
       "Fwd_Pkt_Len_Min           -0.223470    -0.109229   -0.005633  ...   \n",
       "Flow_Duration              0.215306     0.633643    0.337718  ...   \n",
       "...                             ...          ...         ...  ...   \n",
       "Fwd_Pkt_Len_Mean          -0.235496    -0.113749    0.002016  ...   \n",
       "Protocol                  -0.197330    -0.141059    0.001321  ...   \n",
       "Bwd_Pkt_Len_Mean          -0.007752    -0.163644   -0.004781  ...   \n",
       "Idle_Max                   0.143909     0.725139    0.195263  ...   \n",
       "FIN_Flag_Cnt              -0.002604    -0.000474    0.001513  ...   \n",
       "\n",
       "                   Fwd_IAT_Tot  Flow_IAT_Mean  Src_Port  TotLen_Fwd_Pkts  \\\n",
       "Fwd_Header_Len        0.178414      -0.093856  0.054848         0.418706   \n",
       "Fwd_Act_Data_Pkts     0.057717      -0.073373  0.193127         0.208176   \n",
       "Dst_Port              0.014569      -0.125565 -0.598295         0.334806   \n",
       "Fwd_Pkt_Len_Min      -0.000384      -0.100272 -0.414633         0.647279   \n",
       "Flow_Duration         0.715144       0.734407 -0.151521         0.089187   \n",
       "...                        ...            ...       ...              ...   \n",
       "Fwd_Pkt_Len_Mean      0.013683      -0.105299 -0.428869         0.719441   \n",
       "Protocol              0.003143      -0.153144  0.463515         0.120057   \n",
       "Bwd_Pkt_Len_Mean     -0.016194      -0.172411 -0.236695         0.454332   \n",
       "Idle_Max              0.600942       0.838602 -0.171715         0.007784   \n",
       "FIN_Flag_Cnt          0.001473       0.003183 -0.018924        -0.009521   \n",
       "\n",
       "                   Fwd_Pkt_Len_Std  Fwd_Pkt_Len_Mean  Protocol  \\\n",
       "Fwd_Header_Len            0.138883          0.120772  0.095452   \n",
       "Fwd_Act_Data_Pkts         0.046652          0.002517  0.336095   \n",
       "Dst_Port                  0.151022          0.535553 -0.277742   \n",
       "Fwd_Pkt_Len_Min          -0.048177          0.975215  0.023205   \n",
       "Flow_Duration             0.009656         -0.054266 -0.086556   \n",
       "...                            ...               ...       ...   \n",
       "Fwd_Pkt_Len_Mean          0.164148          1.000000  0.032943   \n",
       "Protocol                  0.051228          0.032943  1.000000   \n",
       "Bwd_Pkt_Len_Mean          0.191518          0.646469 -0.223239   \n",
       "Idle_Max                 -0.004814         -0.067732 -0.104093   \n",
       "FIN_Flag_Cnt             -0.003314         -0.012197 -0.016957   \n",
       "\n",
       "                   Bwd_Pkt_Len_Mean  Idle_Max  FIN_Flag_Cnt  \n",
       "Fwd_Header_Len            -0.062332 -0.004303     -0.000989  \n",
       "Fwd_Act_Data_Pkts         -0.118661 -0.030075     -0.006848  \n",
       "Dst_Port                   0.340004 -0.079671      0.007702  \n",
       "Fwd_Pkt_Len_Min            0.612924 -0.069088     -0.011715  \n",
       "Flow_Duration             -0.110422  0.956640      0.002827  \n",
       "...                             ...       ...           ...  \n",
       "Fwd_Pkt_Len_Mean           0.646469 -0.067732     -0.012197  \n",
       "Protocol                  -0.223239 -0.104093     -0.016957  \n",
       "Bwd_Pkt_Len_Mean           1.000000 -0.127175     -0.018039  \n",
       "Idle_Max                  -0.127175  1.000000      0.002709  \n",
       "FIN_Flag_Cnt              -0.018039  0.002709      1.000000  \n",
       "\n",
       "[69 rows x 69 columns]"
      ]
     },
     "execution_count": 29,
     "metadata": {},
     "output_type": "execute_result"
    }
   ],
   "source": [
    "corr = data[TRAIN_COLS+TG_COL].corr()\n",
    "corr"
   ]
  },
  {
   "cell_type": "code",
   "execution_count": 30,
   "id": "70bebc24",
   "metadata": {},
   "outputs": [],
   "source": [
    "corr.to_csv('correlation_matrix')"
   ]
  },
  {
   "cell_type": "code",
   "execution_count": 31,
   "id": "13cd65b0",
   "metadata": {},
   "outputs": [
    {
     "name": "stdout",
     "output_type": "stream",
     "text": [
      "{'Fwd_Header_Len', 'Fwd_Pkt_Len_Min', 'Bwd_Blk_Rate_Avg', 'Idle_Std', 'Subflow_Bwd_Pkts', 'Bwd_IAT_Min', 'Active_Std', 'Bwd_IAT_Max', 'Pkt_Len_Var', 'Subflow_Fwd_Byts', 'Fwd_IAT_Std', 'Fwd_Pkts/b_Avg', 'Idle_Mean', 'Pkt_Len_Min', 'Fwd_PSH_Flags', 'Fwd_IAT_Min', 'Dst_IP', 'Fwd_Byts/b_Avg', 'Fwd_IAT_Max', 'SYN_Flag_Cnt', 'ECE_Flag_Cnt', 'Bwd_Byts/b_Avg', 'Flow_IAT_Std', 'Label', 'Fwd_Seg_Size_Avg', 'Flow_Pkts/s', 'Pkt_Len_Std', 'Pkt_Size_Avg', 'Fwd_Pkt_Len_Max', 'Subflow_Bwd_Byts', 'Active_Mean', 'Pkt_Len_Max', 'Active_Min', 'Src_IP', 'Fwd_Seg_Size_Min', 'Flow_Byts/s', 'Bwd_Pkt_Len_Min', 'Bwd_IAT_Tot', 'Bwd_IAT_Std', 'Sub_Cat', 'Bwd_Header_Len', 'Fwd_IAT_Tot', 'Timestamp', 'Fwd_Pkt_Len_Std', 'Fwd_Pkt_Len_Mean', 'FIN_Flag_Cnt', 'Bwd_Pkt_Len_Max', 'Fwd_Act_Data_Pkts', 'Dst_Port', 'Flow_Duration', 'Bwd_PSH_Flags', 'Bwd_Pkts/b_Avg', 'Tot_Bwd_Pkts', 'Init_Fwd_Win_Byts', 'Idle_Min', 'Active_Max', 'Bwd_URG_Flags', 'URG_Flag_Cnt', 'Pkt_Len_Mean', 'Subflow_Fwd_Pkts', 'Cat', 'Fwd_IAT_Mean', 'Bwd_IAT_Mean', 'CWE_Flag_Count', 'Fwd_URG_Flags', 'Bwd_Pkt_Len_Std', 'Down/Up_Ratio', 'Init_Bwd_Win_Byts', 'Fwd_Blk_Rate_Avg', 'TotLen_Bwd_Pkts', 'Bwd_Seg_Size_Avg', 'PSH_Flag_Cnt', 'Tot_Fwd_Pkts', 'Bwd_Pkts/s', 'Fwd_Pkts/s', 'RST_Flag_Cnt', 'Flow_IAT_Min', 'Flow_IAT_Max', 'ACK_Flag_Cnt', 'Flow_IAT_Mean', 'Src_Port', 'TotLen_Fwd_Pkts', 'Protocol', 'Bwd_Pkt_Len_Mean', 'Idle_Max', 'Flow_ID'}\n"
     ]
    }
   ],
   "source": [
    "print(cols)"
   ]
  },
  {
   "cell_type": "code",
   "execution_count": 32,
   "id": "96826837",
   "metadata": {},
   "outputs": [],
   "source": [
    "# Import label encoder\n",
    "from sklearn import preprocessing\n",
    "  \n",
    "# label_encoder object knows how to understand word labels.\n",
    "label_encoder = preprocessing.LabelEncoder()"
   ]
  },
  {
   "cell_type": "code",
   "execution_count": 33,
   "id": "46581b26",
   "metadata": {},
   "outputs": [],
   "source": [
    "data['Src_IP']= label_encoder.fit_transform(data['Src_IP'])"
   ]
  },
  {
   "cell_type": "code",
   "execution_count": 34,
   "id": "b6d647a4",
   "metadata": {},
   "outputs": [],
   "source": [
    "data['Dst_IP']= label_encoder.fit_transform(data['Dst_IP'])"
   ]
  },
  {
   "cell_type": "code",
   "execution_count": 35,
   "id": "065bd8e9",
   "metadata": {},
   "outputs": [],
   "source": [
    "data['Timestamp']= label_encoder.fit_transform(data['Timestamp'])"
   ]
  },
  {
   "cell_type": "code",
   "execution_count": 36,
   "id": "c66e1d14",
   "metadata": {},
   "outputs": [],
   "source": [
    "data['Label']= label_encoder.fit_transform(data['Label'])"
   ]
  },
  {
   "cell_type": "code",
   "execution_count": 37,
   "id": "43c3b6dc",
   "metadata": {},
   "outputs": [
    {
     "data": {
      "text/plain": [
       "(625783, 86)"
      ]
     },
     "execution_count": 37,
     "metadata": {},
     "output_type": "execute_result"
    }
   ],
   "source": [
    "data.head()\n",
    "data.shape\n"
   ]
  },
  {
   "cell_type": "code",
   "execution_count": 38,
   "id": "51285ece",
   "metadata": {},
   "outputs": [],
   "source": [
    "train_data = data[TRAIN_COLS+TG_COL]\n"
   ]
  },
  {
   "cell_type": "code",
   "execution_count": 39,
   "id": "90a6bd12",
   "metadata": {},
   "outputs": [
    {
     "data": {
      "text/plain": [
       "(625783, 73)"
      ]
     },
     "execution_count": 39,
     "metadata": {},
     "output_type": "execute_result"
    }
   ],
   "source": [
    "train_data.head()\n",
    "train_data.shape"
   ]
  },
  {
   "cell_type": "code",
   "execution_count": 40,
   "id": "87bc73cc",
   "metadata": {},
   "outputs": [
    {
     "name": "stdout",
     "output_type": "stream",
     "text": [
      "        Fwd_Header_Len  Fwd_Act_Data_Pkts  Dst_Port  Fwd_Pkt_Len_Min  \\\n",
      "0                    8                  1     10101              982   \n",
      "1                   20                  0       554                0   \n",
      "2                    0                  0      9020                0   \n",
      "3                    0                  0      9020                0   \n",
      "4                   16                  2      1900              434   \n",
      "...                ...                ...       ...              ...   \n",
      "625778               8                  1      8043               18   \n",
      "625779               0                  0       554                0   \n",
      "625780              32                  0      9020                0   \n",
      "625781              64                  2     49784             1388   \n",
      "625782              16                  2     10101             1430   \n",
      "\n",
      "        Flow_Duration  Bwd_PSH_Flags     Idle_Std  Subflow_Bwd_Pkts  \\\n",
      "0                  75              0     0.000000                 1   \n",
      "1                5310              0  2261.327486                 2   \n",
      "2                 141              0     0.707107                 3   \n",
      "3                 151              0     0.000000                 2   \n",
      "4                 153              0     0.707107                 1   \n",
      "...               ...            ...          ...               ...   \n",
      "625778            277              0     0.000000                 1   \n",
      "625779           1658              0     0.000000                 2   \n",
      "625780             77              0     0.000000                 1   \n",
      "625781            240              0     7.071068                 1   \n",
      "625782            198              0    32.526912                 1   \n",
      "\n",
      "        Bwd_IAT_Min  Active_Std  ...  Flow_IAT_Mean  Src_Port  \\\n",
      "0                 0         0.0  ...           75.0     10000   \n",
      "1              5310         0.0  ...         2655.0      2179   \n",
      "2                70         0.0  ...           70.5     52727   \n",
      "3               151         0.0  ...          151.0     52964   \n",
      "4                 0         0.0  ...           76.5     36763   \n",
      "...             ...         ...  ...            ...       ...   \n",
      "625778            0         0.0  ...          277.0     56112   \n",
      "625779         1658         0.0  ...         1658.0      4570   \n",
      "625780            0         0.0  ...           77.0     52739   \n",
      "625781            0         0.0  ...          120.0      9020   \n",
      "625782            0         0.0  ...           99.0     10000   \n",
      "\n",
      "        TotLen_Fwd_Pkts  Fwd_Pkt_Len_Std  Fwd_Pkt_Len_Mean  Protocol  \\\n",
      "0                   982         0.000000             982.0        17   \n",
      "1                     0         0.000000               0.0         6   \n",
      "2                     0         0.000000               0.0         6   \n",
      "3                     0         0.000000               0.0         6   \n",
      "4                   886        12.727922             443.0        17   \n",
      "...                 ...              ...               ...       ...   \n",
      "625778               18         0.000000              18.0        17   \n",
      "625779                0         0.000000               0.0         6   \n",
      "625780                0         0.000000               0.0         6   \n",
      "625781             2776         0.000000            1388.0         6   \n",
      "625782             2860         0.000000            1430.0        17   \n",
      "\n",
      "        Bwd_Pkt_Len_Mean  Idle_Max  FIN_Flag_Cnt  Label  \n",
      "0            1430.000000        75             0      0  \n",
      "1               0.000000      4254             0      0  \n",
      "2             935.333333        71             0      0  \n",
      "3            1388.000000       151             0      0  \n",
      "4             420.000000        77             0      0  \n",
      "...                  ...       ...           ...    ...  \n",
      "625778         18.000000       277             0      0  \n",
      "625779          0.000000      1658             0      0  \n",
      "625780          0.000000        77             0      0  \n",
      "625781       1388.000000       125             0      1  \n",
      "625782       1430.000000       122             0      0  \n",
      "\n",
      "[625783 rows x 73 columns]\n"
     ]
    }
   ],
   "source": [
    "print(train_data[np.isfinite(train_data)])"
   ]
  },
  {
   "cell_type": "code",
   "execution_count": 41,
   "id": "8617fe3c",
   "metadata": {},
   "outputs": [
    {
     "data": {
      "text/plain": [
       "(625415, 73)"
      ]
     },
     "execution_count": 41,
     "metadata": {},
     "output_type": "execute_result"
    }
   ],
   "source": [
    "import numpy as np\n",
    "\n",
    "\n",
    "train_data= train_data[np.isfinite(train_data).all(1)]\n",
    "# train_label = data['Label'] \n",
    "# train_label = train_label[np.isfinite(train_label).all(1)]\n",
    "train_data.shape\n",
    "\n"
   ]
  },
  {
   "cell_type": "code",
   "execution_count": 42,
   "id": "ebefd362",
   "metadata": {},
   "outputs": [
    {
     "data": {
      "text/plain": [
       "array([[2.08768267e-03, 5.37634409e-03, 1.54518058e-01, ...,\n",
       "        7.50202555e-04, 0.00000000e+00, 0.00000000e+00],\n",
       "       [5.21920668e-03, 0.00000000e+00, 8.47470591e-03, ...,\n",
       "        4.25514889e-02, 0.00000000e+00, 0.00000000e+00],\n",
       "       [0.00000000e+00, 0.00000000e+00, 1.37981674e-01, ...,\n",
       "        7.10191752e-04, 0.00000000e+00, 0.00000000e+00],\n",
       "       ...,\n",
       "       [8.35073069e-03, 0.00000000e+00, 1.37981674e-01, ...,\n",
       "        7.70207956e-04, 0.00000000e+00, 0.00000000e+00],\n",
       "       [1.67014614e-02, 1.07526882e-02, 7.61560937e-01, ...,\n",
       "        1.25033759e-03, 0.00000000e+00, 1.00000000e+00],\n",
       "       [4.17536534e-03, 1.07526882e-02, 1.54518058e-01, ...,\n",
       "        1.22032949e-03, 0.00000000e+00, 0.00000000e+00]])"
      ]
     },
     "execution_count": 42,
     "metadata": {},
     "output_type": "execute_result"
    }
   ],
   "source": [
    "from sklearn.preprocessing import MinMaxScaler\n",
    "scaler = MinMaxScaler()\n",
    "scaler.fit(train_data)\n",
    "scaler.transform(train_data)"
   ]
  },
  {
   "cell_type": "code",
   "execution_count": 43,
   "id": "8ef4eb34",
   "metadata": {},
   "outputs": [
    {
     "name": "stdout",
     "output_type": "stream",
     "text": [
      "(625415, 73)\n",
      "(625783,)\n"
     ]
    }
   ],
   "source": [
    "print(train_data.shape)\n",
    "print(data['Label'].shape)"
   ]
  },
  {
   "cell_type": "code",
   "execution_count": 44,
   "id": "2c177714",
   "metadata": {},
   "outputs": [],
   "source": [
    "from sklearn.model_selection import train_test_split\n",
    "\n",
    "\n",
    "y = train_data['Label']\n",
    "X = train_data.drop(columns=['Label'])\n",
    "# X = train_data\n",
    "X_train, X_test, y_train, y_test = train_test_split(X, y, test_size = 0.25)"
   ]
  },
  {
   "cell_type": "code",
   "execution_count": 45,
   "id": "cdd08952",
   "metadata": {},
   "outputs": [
    {
     "data": {
      "text/plain": [
       "RandomForestRegressor(random_state=0)"
      ]
     },
     "execution_count": 45,
     "metadata": {},
     "output_type": "execute_result"
    }
   ],
   "source": [
    "# Fitting Random Forest Regression to the dataset\n",
    "# import the regressor\n",
    "from sklearn.ensemble import RandomForestRegressor\n",
    "  \n",
    " # create regressor object\n",
    "regressor = RandomForestRegressor(n_estimators = 100, random_state = 0)\n",
    "  \n",
    "# fit the regressor with x and y data\n",
    "regressor.fit(X_train, y_train)"
   ]
  },
  {
   "cell_type": "code",
   "execution_count": 46,
   "id": "66e27e98",
   "metadata": {},
   "outputs": [
    {
     "name": "stdout",
     "output_type": "stream",
     "text": [
      "0.9999616255420393\n"
     ]
    }
   ],
   "source": [
    "from sklearn.metrics import accuracy_score\n",
    "\n",
    "Y_pred = regressor.predict(X_test)\n",
    "Y_pred = np.where(Y_pred >=0.5, 1, 0)\n",
    "print(accuracy_score(y_test, Y_pred))"
   ]
  },
  {
   "cell_type": "code",
   "execution_count": 47,
   "id": "6a5c1c20",
   "metadata": {},
   "outputs": [
    {
     "name": "stdout",
     "output_type": "stream",
     "text": [
      "Root Mean Square Error:\n",
      "\n",
      "0.006194712096682243\n"
     ]
    }
   ],
   "source": [
    "import math\n",
    " \n",
    "MSE = np.square(np.subtract(y_test, Y_pred)).mean() \n",
    " \n",
    "RMSE = math.sqrt(MSE)\n",
    "print(\"Root Mean Square Error:\\n\")\n",
    "print(RMSE)"
   ]
  },
  {
   "cell_type": "code",
   "execution_count": 48,
   "id": "a607f7f1",
   "metadata": {},
   "outputs": [
    {
     "name": "stdout",
     "output_type": "stream",
     "text": [
      "Mean Absolute Error: 3.8374457960781306e-05\n",
      "Mean Squared Error: 3.8374457960781306e-05\n",
      "R-squared scores: 0.9993633901581129\n",
      "Root Mean Square Error: 0.006194712096682243\n",
      "F1 score: 0.9997021149836164\n",
      "ROC Auc score: 0.9997022036926742\n"
     ]
    }
   ],
   "source": [
    "# Import library for metrics\n",
    "from sklearn.metrics import mean_squared_error, r2_score, mean_absolute_error, f1_score, roc_auc_score\n",
    "\n",
    "# Mean absolute error (MAE)\n",
    "mae = mean_absolute_error(y_test, Y_pred)\n",
    "\n",
    "# Mean squared error (MSE)\n",
    "mse = mean_squared_error(y_test, Y_pred)\n",
    "\n",
    "RMSE = math.sqrt(MSE)\n",
    "\n",
    "\n",
    "# R-squared scores\n",
    "r2 = r2_score(y_test, Y_pred)\n",
    "\n",
    "F1 = f1_score(y_test, Y_pred)\n",
    "\n",
    "roc_auc = roc_auc_score(y_test, Y_pred)\n",
    "\n",
    "\n",
    "\n",
    "# Print metrics\n",
    "print('Mean Absolute Error:', mae)\n",
    "print('Mean Squared Error:', mse)\n",
    "print('R-squared scores:', r2)\n",
    "\n",
    "print(\"Root Mean Square Error:\", RMSE)\n",
    "print(\"F1 score:\", F1)\n",
    "print(\"ROC Auc score:\", roc_auc)\n"
   ]
  },
  {
   "cell_type": "code",
   "execution_count": 49,
   "id": "de54b80b",
   "metadata": {},
   "outputs": [],
   "source": [
    "y_pred = np.where(Y_pred >=0.5, 1, 0)\n",
    "y_pred = pd.DataFrame(y_pred)"
   ]
  },
  {
   "cell_type": "code",
   "execution_count": 50,
   "id": "249009e2",
   "metadata": {},
   "outputs": [
    {
     "data": {
      "image/png": "[encoded data removed]",
      "text/plain": [
       "<Figure size 432x288 with 2 Axes>"
      ]
     },
     "metadata": {
      "needs_background": "light"
     },
     "output_type": "display_data"
    }
   ],
   "source": [
    "from sklearn import metrics\n",
    "\n",
    "confusion_matrix = metrics.confusion_matrix(y_test, Y_pred)\n",
    "\n",
    "cm_display = metrics.ConfusionMatrixDisplay(confusion_matrix = confusion_matrix, display_labels = [False, True])\n",
    "\n",
    "cm_display.plot()\n",
    "plt.show()"
   ]
  },
  {
   "cell_type": "code",
   "execution_count": 51,
   "id": "b8eb706f",
   "metadata": {},
   "outputs": [
    {
     "data": {
      "image/png": "[encoded data removed]",
      "text/plain": [
       "<Figure size 432x288 with 1 Axes>"
      ]
     },
     "metadata": {
      "needs_background": "light"
     },
     "output_type": "display_data"
    }
   ],
   "source": [
    "fpr, tpr, _ = metrics.roc_curve(y_test,  Y_pred)\n",
    "auc = metrics.roc_auc_score(y_test, Y_pred)\n",
    "#create ROC curve\n",
    "plt.plot(fpr,tpr,label=\"AUC=\"+str(auc))\n",
    "plt.ylabel('True Positive Rate')\n",
    "plt.xlabel('False Positive Rate')\n",
    "plt.legend(loc=4)\n",
    "plt.show()"
   ]
  },
  {
   "cell_type": "code",
   "execution_count": 52,
   "id": "964de25a",
   "metadata": {},
   "outputs": [
    {
     "name": "stdout",
     "output_type": "stream",
     "text": [
      "Sensitivity :  1.0\n",
      "Specificity :  0.9994044073853484\n"
     ]
    }
   ],
   "source": [
    "sensitivity = confusion_matrix[0,0]/(confusion_matrix[0,0]+confusion_matrix[0,1])\n",
    "print('Sensitivity : ', sensitivity )\n",
    "\n",
    "specificity = confusion_matrix[1,1]/(confusion_matrix[1,0]+confusion_matrix[1,1])\n",
    "print('Specificity : ', specificity)"
   ]
  }
 ],
 "metadata": {
  "kernelspec": {
   "display_name": "Python 3 (ipykernel)",
   "language": "python",
   "name": "python3"
  },
  "language_info": {
   "codemirror_mode": {
    "name": "ipython",
    "version": 3
   },
   "file_extension": ".py",
   "mimetype": "text/x-python",
   "name": "python",
   "nbconvert_exporter": "python",
   "pygments_lexer": "ipython3",
   "version": "3.9.12"
  }
 },
 "nbformat": 4,
 "nbformat_minor": 5
}
