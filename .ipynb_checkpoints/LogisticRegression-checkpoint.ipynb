{
 "cells": [
  {
   "cell_type": "code",
   "execution_count": 1,
   "id": "63d64101",
   "metadata": {},
   "outputs": [],
   "source": [
    "import numpy as np # linear algebra\n",
    "import pandas as pd # data processing, CSV file I/O (e.g. pd.read_csv)\n",
    "import matplotlib.pyplot as plt\n",
    "import seaborn as sns\n",
    "\n",
    "import os"
   ]
  },
  {
   "cell_type": "code",
   "execution_count": 2,
   "id": "82a1476e",
   "metadata": {},
   "outputs": [],
   "source": [
    "data = pd.read_csv(\"anomaly_data.csv\")"
   ]
  },
  {
   "cell_type": "code",
   "execution_count": 3,
   "id": "3f9847a3",
   "metadata": {},
   "outputs": [
    {
     "data": {
      "text/html": [
       "<div>\n",
       "<style scoped>\n",
       "    .dataframe tbody tr th:only-of-type {\n",
       "        vertical-align: middle;\n",
       "    }\n",
       "\n",
       "    .dataframe tbody tr th {\n",
       "        vertical-align: top;\n",
       "    }\n",
       "\n",
       "    .dataframe thead th {\n",
       "        text-align: right;\n",
       "    }\n",
       "</style>\n",
       "<table border=\"1\" class=\"dataframe\">\n",
       "  <thead>\n",
       "    <tr style=\"text-align: right;\">\n",
       "      <th></th>\n",
       "      <th>Flow_ID</th>\n",
       "      <th>Src_IP</th>\n",
       "      <th>Src_Port</th>\n",
       "      <th>Dst_IP</th>\n",
       "      <th>Dst_Port</th>\n",
       "      <th>Protocol</th>\n",
       "      <th>Timestamp</th>\n",
       "      <th>Flow_Duration</th>\n",
       "      <th>Tot_Fwd_Pkts</th>\n",
       "      <th>Tot_Bwd_Pkts</th>\n",
       "      <th>...</th>\n",
       "      <th>Active_Std</th>\n",
       "      <th>Active_Max</th>\n",
       "      <th>Active_Min</th>\n",
       "      <th>Idle_Mean</th>\n",
       "      <th>Idle_Std</th>\n",
       "      <th>Idle_Max</th>\n",
       "      <th>Idle_Min</th>\n",
       "      <th>Label</th>\n",
       "      <th>Cat</th>\n",
       "      <th>Sub_Cat</th>\n",
       "    </tr>\n",
       "  </thead>\n",
       "  <tbody>\n",
       "    <tr>\n",
       "      <th>0</th>\n",
       "      <td>192.168.0.13-192.168.0.16-10000-10101-17</td>\n",
       "      <td>192.168.0.13</td>\n",
       "      <td>10000</td>\n",
       "      <td>192.168.0.16</td>\n",
       "      <td>10101</td>\n",
       "      <td>17</td>\n",
       "      <td>25/07/2019 03:25:53 AM</td>\n",
       "      <td>75</td>\n",
       "      <td>1</td>\n",
       "      <td>1</td>\n",
       "      <td>...</td>\n",
       "      <td>0.0</td>\n",
       "      <td>0</td>\n",
       "      <td>0</td>\n",
       "      <td>75.0</td>\n",
       "      <td>0.000000</td>\n",
       "      <td>75</td>\n",
       "      <td>75</td>\n",
       "      <td>Anomaly</td>\n",
       "      <td>Mirai</td>\n",
       "      <td>Mirai-Ackflooding</td>\n",
       "    </tr>\n",
       "    <tr>\n",
       "      <th>1</th>\n",
       "      <td>192.168.0.13-222.160.179.132-554-2179-6</td>\n",
       "      <td>222.160.179.132</td>\n",
       "      <td>2179</td>\n",
       "      <td>192.168.0.13</td>\n",
       "      <td>554</td>\n",
       "      <td>6</td>\n",
       "      <td>26/05/2019 10:11:06 PM</td>\n",
       "      <td>5310</td>\n",
       "      <td>1</td>\n",
       "      <td>2</td>\n",
       "      <td>...</td>\n",
       "      <td>0.0</td>\n",
       "      <td>0</td>\n",
       "      <td>0</td>\n",
       "      <td>2655.0</td>\n",
       "      <td>2261.327486</td>\n",
       "      <td>4254</td>\n",
       "      <td>1056</td>\n",
       "      <td>Anomaly</td>\n",
       "      <td>DoS</td>\n",
       "      <td>DoS-Synflooding</td>\n",
       "    </tr>\n",
       "    <tr>\n",
       "      <th>2</th>\n",
       "      <td>192.168.0.13-192.168.0.16-9020-52727-6</td>\n",
       "      <td>192.168.0.16</td>\n",
       "      <td>52727</td>\n",
       "      <td>192.168.0.13</td>\n",
       "      <td>9020</td>\n",
       "      <td>6</td>\n",
       "      <td>11/7/2019 1:24</td>\n",
       "      <td>141</td>\n",
       "      <td>0</td>\n",
       "      <td>3</td>\n",
       "      <td>...</td>\n",
       "      <td>0.0</td>\n",
       "      <td>0</td>\n",
       "      <td>0</td>\n",
       "      <td>70.5</td>\n",
       "      <td>0.707107</td>\n",
       "      <td>71</td>\n",
       "      <td>70</td>\n",
       "      <td>Anomaly</td>\n",
       "      <td>Scan</td>\n",
       "      <td>Scan Port OS</td>\n",
       "    </tr>\n",
       "    <tr>\n",
       "      <th>3</th>\n",
       "      <td>192.168.0.13-192.168.0.16-9020-52964-6</td>\n",
       "      <td>192.168.0.16</td>\n",
       "      <td>52964</td>\n",
       "      <td>192.168.0.13</td>\n",
       "      <td>9020</td>\n",
       "      <td>6</td>\n",
       "      <td>4/9/2019 3:58</td>\n",
       "      <td>151</td>\n",
       "      <td>0</td>\n",
       "      <td>2</td>\n",
       "      <td>...</td>\n",
       "      <td>0.0</td>\n",
       "      <td>0</td>\n",
       "      <td>0</td>\n",
       "      <td>151.0</td>\n",
       "      <td>0.000000</td>\n",
       "      <td>151</td>\n",
       "      <td>151</td>\n",
       "      <td>Anomaly</td>\n",
       "      <td>Mirai</td>\n",
       "      <td>Mirai-Hostbruteforceg</td>\n",
       "    </tr>\n",
       "    <tr>\n",
       "      <th>4</th>\n",
       "      <td>192.168.0.1-239.255.255.250-36763-1900-17</td>\n",
       "      <td>192.168.0.1</td>\n",
       "      <td>36763</td>\n",
       "      <td>239.255.255.250</td>\n",
       "      <td>1900</td>\n",
       "      <td>17</td>\n",
       "      <td>10/9/2019 1:41</td>\n",
       "      <td>153</td>\n",
       "      <td>2</td>\n",
       "      <td>1</td>\n",
       "      <td>...</td>\n",
       "      <td>0.0</td>\n",
       "      <td>0</td>\n",
       "      <td>0</td>\n",
       "      <td>76.5</td>\n",
       "      <td>0.707107</td>\n",
       "      <td>77</td>\n",
       "      <td>76</td>\n",
       "      <td>Anomaly</td>\n",
       "      <td>Mirai</td>\n",
       "      <td>Mirai-Hostbruteforceg</td>\n",
       "    </tr>\n",
       "  </tbody>\n",
       "</table>\n",
       "<p>5 rows × 86 columns</p>\n",
       "</div>"
      ],
      "text/plain": [
       "                                     Flow_ID           Src_IP  Src_Port  \\\n",
       "0   192.168.0.13-192.168.0.16-10000-10101-17     192.168.0.13     10000   \n",
       "1    192.168.0.13-222.160.179.132-554-2179-6  222.160.179.132      2179   \n",
       "2     192.168.0.13-192.168.0.16-9020-52727-6     192.168.0.16     52727   \n",
       "3     192.168.0.13-192.168.0.16-9020-52964-6     192.168.0.16     52964   \n",
       "4  192.168.0.1-239.255.255.250-36763-1900-17      192.168.0.1     36763   \n",
       "\n",
       "            Dst_IP  Dst_Port  Protocol               Timestamp  Flow_Duration  \\\n",
       "0     192.168.0.16     10101        17  25/07/2019 03:25:53 AM             75   \n",
       "1     192.168.0.13       554         6  26/05/2019 10:11:06 PM           5310   \n",
       "2     192.168.0.13      9020         6          11/7/2019 1:24            141   \n",
       "3     192.168.0.13      9020         6           4/9/2019 3:58            151   \n",
       "4  239.255.255.250      1900        17          10/9/2019 1:41            153   \n",
       "\n",
       "   Tot_Fwd_Pkts  Tot_Bwd_Pkts  ...  Active_Std  Active_Max  Active_Min  \\\n",
       "0             1             1  ...         0.0           0           0   \n",
       "1             1             2  ...         0.0           0           0   \n",
       "2             0             3  ...         0.0           0           0   \n",
       "3             0             2  ...         0.0           0           0   \n",
       "4             2             1  ...         0.0           0           0   \n",
       "\n",
       "   Idle_Mean     Idle_Std  Idle_Max  Idle_Min    Label    Cat  \\\n",
       "0       75.0     0.000000        75        75  Anomaly  Mirai   \n",
       "1     2655.0  2261.327486      4254      1056  Anomaly    DoS   \n",
       "2       70.5     0.707107        71        70  Anomaly   Scan   \n",
       "3      151.0     0.000000       151       151  Anomaly  Mirai   \n",
       "4       76.5     0.707107        77        76  Anomaly  Mirai   \n",
       "\n",
       "                 Sub_Cat  \n",
       "0      Mirai-Ackflooding  \n",
       "1        DoS-Synflooding  \n",
       "2           Scan Port OS  \n",
       "3  Mirai-Hostbruteforceg  \n",
       "4  Mirai-Hostbruteforceg  \n",
       "\n",
       "[5 rows x 86 columns]"
      ]
     },
     "execution_count": 3,
     "metadata": {},
     "output_type": "execute_result"
    }
   ],
   "source": [
    "data.head()"
   ]
  },
  {
   "cell_type": "code",
   "execution_count": 4,
   "id": "53e93003",
   "metadata": {},
   "outputs": [
    {
     "data": {
      "text/plain": [
       "(625783, 86)"
      ]
     },
     "execution_count": 4,
     "metadata": {},
     "output_type": "execute_result"
    }
   ],
   "source": [
    "data.shape"
   ]
  },
  {
   "cell_type": "code",
   "execution_count": 5,
   "id": "aa7b62f9",
   "metadata": {},
   "outputs": [],
   "source": [
    "null_check = data.isnull().sum()\n",
    "\n",
    "null_check.to_csv('null_count')\n",
    "#no null data has been found"
   ]
  },
  {
   "cell_type": "code",
   "execution_count": 6,
   "id": "18589165",
   "metadata": {},
   "outputs": [
    {
     "data": {
      "text/plain": [
       "array(['Anomaly', 'Normal'], dtype=object)"
      ]
     },
     "execution_count": 6,
     "metadata": {},
     "output_type": "execute_result"
    }
   ],
   "source": [
    "data['Label'].unique()"
   ]
  },
  {
   "cell_type": "code",
   "execution_count": 7,
   "id": "e5ec5436",
   "metadata": {},
   "outputs": [
    {
     "data": {
      "text/plain": [
       "array([0], dtype=int64)"
      ]
     },
     "execution_count": 7,
     "metadata": {},
     "output_type": "execute_result"
    }
   ],
   "source": [
    "data['Fwd_PSH_Flags'].unique()"
   ]
  },
  {
   "cell_type": "code",
   "execution_count": 8,
   "id": "7fcac8a5",
   "metadata": {},
   "outputs": [
    {
     "data": {
      "text/plain": [
       "array([0, 1], dtype=int64)"
      ]
     },
     "execution_count": 8,
     "metadata": {},
     "output_type": "execute_result"
    }
   ],
   "source": [
    "data['Bwd_PSH_Flags'].unique()"
   ]
  },
  {
   "cell_type": "code",
   "execution_count": 9,
   "id": "a2525f02",
   "metadata": {},
   "outputs": [
    {
     "data": {
      "text/plain": [
       "array([0], dtype=int64)"
      ]
     },
     "execution_count": 9,
     "metadata": {},
     "output_type": "execute_result"
    }
   ],
   "source": [
    "data['Fwd_URG_Flags'].unique()"
   ]
  },
  {
   "cell_type": "code",
   "execution_count": 10,
   "id": "b31b4472",
   "metadata": {},
   "outputs": [
    {
     "data": {
      "text/plain": [
       "array([0, 1], dtype=int64)"
      ]
     },
     "execution_count": 10,
     "metadata": {},
     "output_type": "execute_result"
    }
   ],
   "source": [
    "data['Bwd_URG_Flags'].unique()"
   ]
  },
  {
   "cell_type": "code",
   "execution_count": 11,
   "id": "f863e26d",
   "metadata": {},
   "outputs": [
    {
     "data": {
      "text/plain": [
       "array([0, 1], dtype=int64)"
      ]
     },
     "execution_count": 11,
     "metadata": {},
     "output_type": "execute_result"
    }
   ],
   "source": [
    "data['FIN_Flag_Cnt'].unique()"
   ]
  },
  {
   "cell_type": "code",
   "execution_count": 12,
   "id": "e709c364",
   "metadata": {},
   "outputs": [
    {
     "data": {
      "text/plain": [
       "array([0, 1], dtype=int64)"
      ]
     },
     "execution_count": 12,
     "metadata": {},
     "output_type": "execute_result"
    }
   ],
   "source": [
    "data['RST_Flag_Cnt'].unique()"
   ]
  },
  {
   "cell_type": "code",
   "execution_count": 13,
   "id": "430e639c",
   "metadata": {},
   "outputs": [
    {
     "data": {
      "text/plain": [
       "array([0, 1], dtype=int64)"
      ]
     },
     "execution_count": 13,
     "metadata": {},
     "output_type": "execute_result"
    }
   ],
   "source": [
    "data['URG_Flag_Cnt'].unique()"
   ]
  },
  {
   "cell_type": "code",
   "execution_count": 14,
   "id": "4fc54ad3",
   "metadata": {},
   "outputs": [
    {
     "data": {
      "text/plain": [
       "array([0, 1], dtype=int64)"
      ]
     },
     "execution_count": 14,
     "metadata": {},
     "output_type": "execute_result"
    }
   ],
   "source": [
    "data['CWE_Flag_Count'].unique()"
   ]
  },
  {
   "cell_type": "code",
   "execution_count": 15,
   "id": "23adbc35",
   "metadata": {},
   "outputs": [
    {
     "data": {
      "text/plain": [
       "array([0, 1], dtype=int64)"
      ]
     },
     "execution_count": 15,
     "metadata": {},
     "output_type": "execute_result"
    }
   ],
   "source": [
    "data['ECE_Flag_Cnt'].unique()"
   ]
  },
  {
   "cell_type": "code",
   "execution_count": 16,
   "id": "c33100cf",
   "metadata": {},
   "outputs": [
    {
     "data": {
      "text/plain": [
       "array([ 1,  2,  0,  3,  4,  5, 10,  7,  8,  6, 13, 12, 11,  9, 14],\n",
       "      dtype=int64)"
      ]
     },
     "execution_count": 16,
     "metadata": {},
     "output_type": "execute_result"
    }
   ],
   "source": [
    "data['Down/Up_Ratio'].unique()"
   ]
  },
  {
   "cell_type": "code",
   "execution_count": 17,
   "id": "d431eaa1",
   "metadata": {},
   "outputs": [
    {
     "data": {
      "text/plain": [
       "array([0], dtype=int64)"
      ]
     },
     "execution_count": 17,
     "metadata": {},
     "output_type": "execute_result"
    }
   ],
   "source": [
    "data['Fwd_Byts/b_Avg'].unique()"
   ]
  },
  {
   "cell_type": "code",
   "execution_count": 18,
   "id": "b0a932bb",
   "metadata": {},
   "outputs": [
    {
     "data": {
      "text/plain": [
       "array([0], dtype=int64)"
      ]
     },
     "execution_count": 18,
     "metadata": {},
     "output_type": "execute_result"
    }
   ],
   "source": [
    "data['Fwd_Pkts/b_Avg'].unique()"
   ]
  },
  {
   "cell_type": "code",
   "execution_count": 19,
   "id": "0c3d854a",
   "metadata": {},
   "outputs": [
    {
     "data": {
      "text/plain": [
       "array([0], dtype=int64)"
      ]
     },
     "execution_count": 19,
     "metadata": {},
     "output_type": "execute_result"
    }
   ],
   "source": [
    "data['Fwd_Blk_Rate_Avg'].unique()"
   ]
  },
  {
   "cell_type": "code",
   "execution_count": 20,
   "id": "370297ac",
   "metadata": {},
   "outputs": [
    {
     "data": {
      "text/plain": [
       "array([0], dtype=int64)"
      ]
     },
     "execution_count": 20,
     "metadata": {},
     "output_type": "execute_result"
    }
   ],
   "source": [
    "data['Bwd_Byts/b_Avg'].unique()"
   ]
  },
  {
   "cell_type": "code",
   "execution_count": 21,
   "id": "6516edac",
   "metadata": {},
   "outputs": [
    {
     "data": {
      "text/plain": [
       "array([0], dtype=int64)"
      ]
     },
     "execution_count": 21,
     "metadata": {},
     "output_type": "execute_result"
    }
   ],
   "source": [
    "data['Bwd_Pkts/b_Avg'].unique()"
   ]
  },
  {
   "cell_type": "code",
   "execution_count": 22,
   "id": "bd0ae774",
   "metadata": {},
   "outputs": [
    {
     "data": {
      "text/plain": [
       "array([0], dtype=int64)"
      ]
     },
     "execution_count": 22,
     "metadata": {},
     "output_type": "execute_result"
    }
   ],
   "source": [
    "data['Bwd_Blk_Rate_Avg'].unique()"
   ]
  },
  {
   "cell_type": "code",
   "execution_count": 23,
   "id": "fc59d9c4",
   "metadata": {},
   "outputs": [
    {
     "data": {
      "text/plain": [
       "array([-1], dtype=int64)"
      ]
     },
     "execution_count": 23,
     "metadata": {},
     "output_type": "execute_result"
    }
   ],
   "source": [
    "data['Init_Fwd_Win_Byts'].unique()"
   ]
  },
  {
   "cell_type": "code",
   "execution_count": 24,
   "id": "6a5e67af",
   "metadata": {},
   "outputs": [
    {
     "data": {
      "text/plain": [
       "array([0], dtype=int64)"
      ]
     },
     "execution_count": 24,
     "metadata": {},
     "output_type": "execute_result"
    }
   ],
   "source": [
    "data['Fwd_Seg_Size_Min'].unique()"
   ]
  },
  {
   "cell_type": "code",
   "execution_count": 25,
   "id": "377058fc",
   "metadata": {},
   "outputs": [
    {
     "name": "stdout",
     "output_type": "stream",
     "text": [
      "(585710, 86)\n",
      "(40073, 86)\n"
     ]
    }
   ],
   "source": [
    "print(data[data.Label=='Anomaly'].shape)\n",
    "print(data[data.Label=='Normal'].shape)"
   ]
  },
  {
   "cell_type": "code",
   "execution_count": 26,
   "id": "2cce385d",
   "metadata": {},
   "outputs": [],
   "source": [
    "temp_ignore_cols = set(['Flow_ID', 'Label', 'Fwd_PSH_Flags', 'Fwd_URG_Flags', 'Fwd_Byts/b_Avg', \n",
    "                        'Fwd_Pkts/b_Avg', 'Fwd_Blk_Rate_Avg','Bwd_Byts/b_Avg', 'Bwd_Pkts/b_Avg', 'Bwd_Blk_Rate_Avg',\n",
    "                        'Init_Fwd_Win_Byts', 'Fwd_Seg_Size_Min', 'Cat', 'Sub_Cat'])"
   ]
  },
  {
   "cell_type": "code",
   "execution_count": 27,
   "id": "21ec5db3",
   "metadata": {},
   "outputs": [],
   "source": [
    "cols = set(data.columns)"
   ]
  },
  {
   "cell_type": "code",
   "execution_count": 28,
   "id": "008def9f",
   "metadata": {},
   "outputs": [
    {
     "name": "stdout",
     "output_type": "stream",
     "text": [
      "Number of Features : 72\n"
     ]
    }
   ],
   "source": [
    "TRAIN_COLS = list(cols-temp_ignore_cols)\n",
    "TG_COL = [\"Label\"]\n",
    "print(\"Number of Features :\", len(TRAIN_COLS))"
   ]
  },
  {
   "cell_type": "code",
   "execution_count": 29,
   "id": "b4d0d6d4",
   "metadata": {},
   "outputs": [
    {
     "data": {
      "text/html": [
       "<div>\n",
       "<style scoped>\n",
       "    .dataframe tbody tr th:only-of-type {\n",
       "        vertical-align: middle;\n",
       "    }\n",
       "\n",
       "    .dataframe tbody tr th {\n",
       "        vertical-align: top;\n",
       "    }\n",
       "\n",
       "    .dataframe thead th {\n",
       "        text-align: right;\n",
       "    }\n",
       "</style>\n",
       "<table border=\"1\" class=\"dataframe\">\n",
       "  <thead>\n",
       "    <tr style=\"text-align: right;\">\n",
       "      <th></th>\n",
       "      <th>Flow_IAT_Min</th>\n",
       "      <th>Init_Bwd_Win_Byts</th>\n",
       "      <th>Pkt_Len_Std</th>\n",
       "      <th>Flow_Pkts/s</th>\n",
       "      <th>Pkt_Len_Var</th>\n",
       "      <th>Protocol</th>\n",
       "      <th>Fwd_IAT_Max</th>\n",
       "      <th>SYN_Flag_Cnt</th>\n",
       "      <th>Subflow_Fwd_Byts</th>\n",
       "      <th>Bwd_IAT_Std</th>\n",
       "      <th>...</th>\n",
       "      <th>Idle_Min</th>\n",
       "      <th>Fwd_Header_Len</th>\n",
       "      <th>Down/Up_Ratio</th>\n",
       "      <th>Bwd_IAT_Tot</th>\n",
       "      <th>ECE_Flag_Cnt</th>\n",
       "      <th>Fwd_Pkt_Len_Mean</th>\n",
       "      <th>Subflow_Bwd_Byts</th>\n",
       "      <th>Active_Mean</th>\n",
       "      <th>Bwd_Pkt_Len_Min</th>\n",
       "      <th>Bwd_URG_Flags</th>\n",
       "    </tr>\n",
       "  </thead>\n",
       "  <tbody>\n",
       "    <tr>\n",
       "      <th>Flow_IAT_Min</th>\n",
       "      <td>1.000000</td>\n",
       "      <td>0.114233</td>\n",
       "      <td>-0.077966</td>\n",
       "      <td>-0.087275</td>\n",
       "      <td>-0.072541</td>\n",
       "      <td>-0.162765</td>\n",
       "      <td>0.003300</td>\n",
       "      <td>0.616690</td>\n",
       "      <td>-0.094695</td>\n",
       "      <td>0.005444</td>\n",
       "      <td>...</td>\n",
       "      <td>0.889170</td>\n",
       "      <td>-0.114069</td>\n",
       "      <td>-0.124270</td>\n",
       "      <td>0.517580</td>\n",
       "      <td>0.003525</td>\n",
       "      <td>-0.113427</td>\n",
       "      <td>-0.101266</td>\n",
       "      <td>0.000680</td>\n",
       "      <td>-0.160546</td>\n",
       "      <td>0.002885</td>\n",
       "    </tr>\n",
       "    <tr>\n",
       "      <th>Init_Bwd_Win_Byts</th>\n",
       "      <td>0.114233</td>\n",
       "      <td>1.000000</td>\n",
       "      <td>-0.101205</td>\n",
       "      <td>-0.144553</td>\n",
       "      <td>-0.094366</td>\n",
       "      <td>-0.376601</td>\n",
       "      <td>0.019245</td>\n",
       "      <td>0.146240</td>\n",
       "      <td>-0.194007</td>\n",
       "      <td>0.032383</td>\n",
       "      <td>...</td>\n",
       "      <td>0.103672</td>\n",
       "      <td>-0.000521</td>\n",
       "      <td>-0.050248</td>\n",
       "      <td>0.085499</td>\n",
       "      <td>0.017206</td>\n",
       "      <td>-0.250515</td>\n",
       "      <td>-0.167309</td>\n",
       "      <td>0.017191</td>\n",
       "      <td>-0.311468</td>\n",
       "      <td>0.011131</td>\n",
       "    </tr>\n",
       "    <tr>\n",
       "      <th>Pkt_Len_Std</th>\n",
       "      <td>-0.077966</td>\n",
       "      <td>-0.101205</td>\n",
       "      <td>1.000000</td>\n",
       "      <td>-0.116850</td>\n",
       "      <td>0.985420</td>\n",
       "      <td>-0.125368</td>\n",
       "      <td>0.043067</td>\n",
       "      <td>-0.134224</td>\n",
       "      <td>0.047819</td>\n",
       "      <td>0.038730</td>\n",
       "      <td>...</td>\n",
       "      <td>-0.071483</td>\n",
       "      <td>-0.039874</td>\n",
       "      <td>-0.071502</td>\n",
       "      <td>-0.004320</td>\n",
       "      <td>-0.000454</td>\n",
       "      <td>-0.024389</td>\n",
       "      <td>0.127303</td>\n",
       "      <td>-0.002960</td>\n",
       "      <td>0.009205</td>\n",
       "      <td>0.002066</td>\n",
       "    </tr>\n",
       "    <tr>\n",
       "      <th>Flow_Pkts/s</th>\n",
       "      <td>-0.087275</td>\n",
       "      <td>-0.144553</td>\n",
       "      <td>-0.116850</td>\n",
       "      <td>1.000000</td>\n",
       "      <td>-0.107801</td>\n",
       "      <td>0.371634</td>\n",
       "      <td>-0.014181</td>\n",
       "      <td>-0.112178</td>\n",
       "      <td>-0.078895</td>\n",
       "      <td>-0.012519</td>\n",
       "      <td>...</td>\n",
       "      <td>-0.082030</td>\n",
       "      <td>0.278971</td>\n",
       "      <td>0.024729</td>\n",
       "      <td>-0.057120</td>\n",
       "      <td>-0.002499</td>\n",
       "      <td>-0.162782</td>\n",
       "      <td>-0.143019</td>\n",
       "      <td>-0.016867</td>\n",
       "      <td>-0.226770</td>\n",
       "      <td>-0.001972</td>\n",
       "    </tr>\n",
       "    <tr>\n",
       "      <th>Pkt_Len_Var</th>\n",
       "      <td>-0.072541</td>\n",
       "      <td>-0.094366</td>\n",
       "      <td>0.985420</td>\n",
       "      <td>-0.107801</td>\n",
       "      <td>1.000000</td>\n",
       "      <td>-0.140995</td>\n",
       "      <td>0.028399</td>\n",
       "      <td>-0.123984</td>\n",
       "      <td>0.005825</td>\n",
       "      <td>0.024852</td>\n",
       "      <td>...</td>\n",
       "      <td>-0.067105</td>\n",
       "      <td>-0.051751</td>\n",
       "      <td>-0.073902</td>\n",
       "      <td>-0.014532</td>\n",
       "      <td>-0.000428</td>\n",
       "      <td>-0.054446</td>\n",
       "      <td>0.115694</td>\n",
       "      <td>-0.007144</td>\n",
       "      <td>-0.024491</td>\n",
       "      <td>0.002507</td>\n",
       "    </tr>\n",
       "    <tr>\n",
       "      <th>...</th>\n",
       "      <td>...</td>\n",
       "      <td>...</td>\n",
       "      <td>...</td>\n",
       "      <td>...</td>\n",
       "      <td>...</td>\n",
       "      <td>...</td>\n",
       "      <td>...</td>\n",
       "      <td>...</td>\n",
       "      <td>...</td>\n",
       "      <td>...</td>\n",
       "      <td>...</td>\n",
       "      <td>...</td>\n",
       "      <td>...</td>\n",
       "      <td>...</td>\n",
       "      <td>...</td>\n",
       "      <td>...</td>\n",
       "      <td>...</td>\n",
       "      <td>...</td>\n",
       "      <td>...</td>\n",
       "      <td>...</td>\n",
       "      <td>...</td>\n",
       "    </tr>\n",
       "    <tr>\n",
       "      <th>Fwd_Pkt_Len_Mean</th>\n",
       "      <td>-0.113427</td>\n",
       "      <td>-0.250515</td>\n",
       "      <td>-0.024389</td>\n",
       "      <td>-0.162782</td>\n",
       "      <td>-0.054446</td>\n",
       "      <td>0.032943</td>\n",
       "      <td>0.011474</td>\n",
       "      <td>-0.199958</td>\n",
       "      <td>0.719441</td>\n",
       "      <td>0.000148</td>\n",
       "      <td>...</td>\n",
       "      <td>-0.107018</td>\n",
       "      <td>0.120772</td>\n",
       "      <td>0.389462</td>\n",
       "      <td>-0.080761</td>\n",
       "      <td>-0.004065</td>\n",
       "      <td>1.000000</td>\n",
       "      <td>0.145145</td>\n",
       "      <td>-0.025681</td>\n",
       "      <td>0.677063</td>\n",
       "      <td>-0.000232</td>\n",
       "    </tr>\n",
       "    <tr>\n",
       "      <th>Subflow_Bwd_Byts</th>\n",
       "      <td>-0.101266</td>\n",
       "      <td>-0.167309</td>\n",
       "      <td>0.127303</td>\n",
       "      <td>-0.143019</td>\n",
       "      <td>0.115694</td>\n",
       "      <td>-0.206127</td>\n",
       "      <td>0.047344</td>\n",
       "      <td>-0.171111</td>\n",
       "      <td>0.094838</td>\n",
       "      <td>0.021880</td>\n",
       "      <td>...</td>\n",
       "      <td>-0.093280</td>\n",
       "      <td>0.012799</td>\n",
       "      <td>-0.037296</td>\n",
       "      <td>0.024703</td>\n",
       "      <td>-0.001970</td>\n",
       "      <td>0.145145</td>\n",
       "      <td>1.000000</td>\n",
       "      <td>0.157076</td>\n",
       "      <td>0.494446</td>\n",
       "      <td>0.001071</td>\n",
       "    </tr>\n",
       "    <tr>\n",
       "      <th>Active_Mean</th>\n",
       "      <td>0.000680</td>\n",
       "      <td>0.017191</td>\n",
       "      <td>-0.002960</td>\n",
       "      <td>-0.016867</td>\n",
       "      <td>-0.007144</td>\n",
       "      <td>-0.028840</td>\n",
       "      <td>0.273009</td>\n",
       "      <td>0.132724</td>\n",
       "      <td>0.047625</td>\n",
       "      <td>0.202238</td>\n",
       "      <td>...</td>\n",
       "      <td>0.131824</td>\n",
       "      <td>0.124062</td>\n",
       "      <td>0.086154</td>\n",
       "      <td>0.287941</td>\n",
       "      <td>0.001867</td>\n",
       "      <td>-0.025681</td>\n",
       "      <td>0.157076</td>\n",
       "      <td>1.000000</td>\n",
       "      <td>-0.046243</td>\n",
       "      <td>-0.000396</td>\n",
       "    </tr>\n",
       "    <tr>\n",
       "      <th>Bwd_Pkt_Len_Min</th>\n",
       "      <td>-0.160546</td>\n",
       "      <td>-0.311468</td>\n",
       "      <td>0.009205</td>\n",
       "      <td>-0.226770</td>\n",
       "      <td>-0.024491</td>\n",
       "      <td>-0.167450</td>\n",
       "      <td>-0.022630</td>\n",
       "      <td>-0.275760</td>\n",
       "      <td>0.479139</td>\n",
       "      <td>-0.026420</td>\n",
       "      <td>...</td>\n",
       "      <td>-0.152617</td>\n",
       "      <td>-0.025158</td>\n",
       "      <td>0.178063</td>\n",
       "      <td>-0.125976</td>\n",
       "      <td>-0.004624</td>\n",
       "      <td>0.677063</td>\n",
       "      <td>0.494446</td>\n",
       "      <td>-0.046243</td>\n",
       "      <td>1.000000</td>\n",
       "      <td>0.000808</td>\n",
       "    </tr>\n",
       "    <tr>\n",
       "      <th>Bwd_URG_Flags</th>\n",
       "      <td>0.002885</td>\n",
       "      <td>0.011131</td>\n",
       "      <td>0.002066</td>\n",
       "      <td>-0.001972</td>\n",
       "      <td>0.002507</td>\n",
       "      <td>-0.005279</td>\n",
       "      <td>-0.000298</td>\n",
       "      <td>0.015413</td>\n",
       "      <td>-0.001333</td>\n",
       "      <td>0.000073</td>\n",
       "      <td>...</td>\n",
       "      <td>0.002478</td>\n",
       "      <td>-0.000752</td>\n",
       "      <td>0.001044</td>\n",
       "      <td>0.001472</td>\n",
       "      <td>0.272730</td>\n",
       "      <td>-0.000232</td>\n",
       "      <td>0.001071</td>\n",
       "      <td>-0.000396</td>\n",
       "      <td>0.000808</td>\n",
       "      <td>1.000000</td>\n",
       "    </tr>\n",
       "  </tbody>\n",
       "</table>\n",
       "<p>69 rows × 69 columns</p>\n",
       "</div>"
      ],
      "text/plain": [
       "                   Flow_IAT_Min  Init_Bwd_Win_Byts  Pkt_Len_Std  Flow_Pkts/s  \\\n",
       "Flow_IAT_Min           1.000000           0.114233    -0.077966    -0.087275   \n",
       "Init_Bwd_Win_Byts      0.114233           1.000000    -0.101205    -0.144553   \n",
       "Pkt_Len_Std           -0.077966          -0.101205     1.000000    -0.116850   \n",
       "Flow_Pkts/s           -0.087275          -0.144553    -0.116850     1.000000   \n",
       "Pkt_Len_Var           -0.072541          -0.094366     0.985420    -0.107801   \n",
       "...                         ...                ...          ...          ...   \n",
       "Fwd_Pkt_Len_Mean      -0.113427          -0.250515    -0.024389    -0.162782   \n",
       "Subflow_Bwd_Byts      -0.101266          -0.167309     0.127303    -0.143019   \n",
       "Active_Mean            0.000680           0.017191    -0.002960    -0.016867   \n",
       "Bwd_Pkt_Len_Min       -0.160546          -0.311468     0.009205    -0.226770   \n",
       "Bwd_URG_Flags          0.002885           0.011131     0.002066    -0.001972   \n",
       "\n",
       "                   Pkt_Len_Var  Protocol  Fwd_IAT_Max  SYN_Flag_Cnt  \\\n",
       "Flow_IAT_Min         -0.072541 -0.162765     0.003300      0.616690   \n",
       "Init_Bwd_Win_Byts    -0.094366 -0.376601     0.019245      0.146240   \n",
       "Pkt_Len_Std           0.985420 -0.125368     0.043067     -0.134224   \n",
       "Flow_Pkts/s          -0.107801  0.371634    -0.014181     -0.112178   \n",
       "Pkt_Len_Var           1.000000 -0.140995     0.028399     -0.123984   \n",
       "...                        ...       ...          ...           ...   \n",
       "Fwd_Pkt_Len_Mean     -0.054446  0.032943     0.011474     -0.199958   \n",
       "Subflow_Bwd_Byts      0.115694 -0.206127     0.047344     -0.171111   \n",
       "Active_Mean          -0.007144 -0.028840     0.273009      0.132724   \n",
       "Bwd_Pkt_Len_Min      -0.024491 -0.167450    -0.022630     -0.275760   \n",
       "Bwd_URG_Flags         0.002507 -0.005279    -0.000298      0.015413   \n",
       "\n",
       "                   Subflow_Fwd_Byts  Bwd_IAT_Std  ...  Idle_Min  \\\n",
       "Flow_IAT_Min              -0.094695     0.005444  ...  0.889170   \n",
       "Init_Bwd_Win_Byts         -0.194007     0.032383  ...  0.103672   \n",
       "Pkt_Len_Std                0.047819     0.038730  ... -0.071483   \n",
       "Flow_Pkts/s               -0.078895    -0.012519  ... -0.082030   \n",
       "Pkt_Len_Var                0.005825     0.024852  ... -0.067105   \n",
       "...                             ...          ...  ...       ...   \n",
       "Fwd_Pkt_Len_Mean           0.719441     0.000148  ... -0.107018   \n",
       "Subflow_Bwd_Byts           0.094838     0.021880  ... -0.093280   \n",
       "Active_Mean                0.047625     0.202238  ...  0.131824   \n",
       "Bwd_Pkt_Len_Min            0.479139    -0.026420  ... -0.152617   \n",
       "Bwd_URG_Flags             -0.001333     0.000073  ...  0.002478   \n",
       "\n",
       "                   Fwd_Header_Len  Down/Up_Ratio  Bwd_IAT_Tot  ECE_Flag_Cnt  \\\n",
       "Flow_IAT_Min            -0.114069      -0.124270     0.517580      0.003525   \n",
       "Init_Bwd_Win_Byts       -0.000521      -0.050248     0.085499      0.017206   \n",
       "Pkt_Len_Std             -0.039874      -0.071502    -0.004320     -0.000454   \n",
       "Flow_Pkts/s              0.278971       0.024729    -0.057120     -0.002499   \n",
       "Pkt_Len_Var             -0.051751      -0.073902    -0.014532     -0.000428   \n",
       "...                           ...            ...          ...           ...   \n",
       "Fwd_Pkt_Len_Mean         0.120772       0.389462    -0.080761     -0.004065   \n",
       "Subflow_Bwd_Byts         0.012799      -0.037296     0.024703     -0.001970   \n",
       "Active_Mean              0.124062       0.086154     0.287941      0.001867   \n",
       "Bwd_Pkt_Len_Min         -0.025158       0.178063    -0.125976     -0.004624   \n",
       "Bwd_URG_Flags           -0.000752       0.001044     0.001472      0.272730   \n",
       "\n",
       "                   Fwd_Pkt_Len_Mean  Subflow_Bwd_Byts  Active_Mean  \\\n",
       "Flow_IAT_Min              -0.113427         -0.101266     0.000680   \n",
       "Init_Bwd_Win_Byts         -0.250515         -0.167309     0.017191   \n",
       "Pkt_Len_Std               -0.024389          0.127303    -0.002960   \n",
       "Flow_Pkts/s               -0.162782         -0.143019    -0.016867   \n",
       "Pkt_Len_Var               -0.054446          0.115694    -0.007144   \n",
       "...                             ...               ...          ...   \n",
       "Fwd_Pkt_Len_Mean           1.000000          0.145145    -0.025681   \n",
       "Subflow_Bwd_Byts           0.145145          1.000000     0.157076   \n",
       "Active_Mean               -0.025681          0.157076     1.000000   \n",
       "Bwd_Pkt_Len_Min            0.677063          0.494446    -0.046243   \n",
       "Bwd_URG_Flags             -0.000232          0.001071    -0.000396   \n",
       "\n",
       "                   Bwd_Pkt_Len_Min  Bwd_URG_Flags  \n",
       "Flow_IAT_Min             -0.160546       0.002885  \n",
       "Init_Bwd_Win_Byts        -0.311468       0.011131  \n",
       "Pkt_Len_Std               0.009205       0.002066  \n",
       "Flow_Pkts/s              -0.226770      -0.001972  \n",
       "Pkt_Len_Var              -0.024491       0.002507  \n",
       "...                            ...            ...  \n",
       "Fwd_Pkt_Len_Mean          0.677063      -0.000232  \n",
       "Subflow_Bwd_Byts          0.494446       0.001071  \n",
       "Active_Mean              -0.046243      -0.000396  \n",
       "Bwd_Pkt_Len_Min           1.000000       0.000808  \n",
       "Bwd_URG_Flags             0.000808       1.000000  \n",
       "\n",
       "[69 rows x 69 columns]"
      ]
     },
     "execution_count": 29,
     "metadata": {},
     "output_type": "execute_result"
    }
   ],
   "source": [
    "corr = data[TRAIN_COLS+TG_COL].corr()\n",
    "corr"
   ]
  },
  {
   "cell_type": "code",
   "execution_count": 30,
   "id": "70bebc24",
   "metadata": {},
   "outputs": [],
   "source": [
    "corr.to_csv('correlation_matrix')"
   ]
  },
  {
   "cell_type": "code",
   "execution_count": 31,
   "id": "13cd65b0",
   "metadata": {},
   "outputs": [
    {
     "name": "stdout",
     "output_type": "stream",
     "text": [
      "{'Init_Bwd_Win_Byts', 'Pkt_Len_Std', 'Flow_Pkts/s', 'Init_Fwd_Win_Byts', 'Fwd_PSH_Flags', 'Pkt_Len_Var', 'Fwd_IAT_Max', 'SYN_Flag_Cnt', 'Active_Std', 'Pkt_Size_Avg', 'Bwd_IAT_Max', 'Fwd_IAT_Std', 'Bwd_IAT_Min', 'Bwd_Header_Len', 'Flow_IAT_Max', 'Bwd_Seg_Size_Avg', 'Bwd_IAT_Mean', 'Pkt_Len_Mean', 'Pkt_Len_Min', 'Dst_Port', 'RST_Flag_Cnt', 'Sub_Cat', 'ACK_Flag_Cnt', 'Src_Port', 'Active_Max', 'Flow_Byts/s', 'Fwd_Pkt_Len_Std', 'Fwd_IAT_Min', 'Pkt_Len_Max', 'Src_IP', 'Fwd_IAT_Mean', 'Tot_Bwd_Pkts', 'Idle_Mean', 'Fwd_Pkt_Len_Max', 'Flow_Duration', 'Cat', 'Bwd_Pkts/s', 'Active_Min', 'Idle_Min', 'Down/Up_Ratio', 'Bwd_IAT_Tot', 'Bwd_Pkt_Len_Min', 'Bwd_URG_Flags', 'Flow_IAT_Min', 'Protocol', 'Subflow_Fwd_Byts', 'Bwd_IAT_Std', 'Subflow_Bwd_Pkts', 'Timestamp', 'TotLen_Bwd_Pkts', 'Fwd_Pkts/s', 'Flow_ID', 'Fwd_Act_Data_Pkts', 'PSH_Flag_Cnt', 'Fwd_Byts/b_Avg', 'TotLen_Fwd_Pkts', 'Bwd_Pkt_Len_Std', 'Fwd_URG_Flags', 'Fwd_IAT_Tot', 'FIN_Flag_Cnt', 'Tot_Fwd_Pkts', 'Bwd_Pkts/b_Avg', 'Fwd_Pkt_Len_Min', 'Label', 'Fwd_Blk_Rate_Avg', 'Bwd_Pkt_Len_Mean', 'CWE_Flag_Count', 'Subflow_Fwd_Pkts', 'Bwd_Blk_Rate_Avg', 'Bwd_Pkt_Len_Max', 'Flow_IAT_Std', 'Bwd_PSH_Flags', 'Idle_Std', 'Fwd_Seg_Size_Avg', 'Fwd_Seg_Size_Min', 'URG_Flag_Cnt', 'Flow_IAT_Mean', 'Idle_Max', 'Dst_IP', 'Fwd_Header_Len', 'ECE_Flag_Cnt', 'Fwd_Pkt_Len_Mean', 'Fwd_Pkts/b_Avg', 'Subflow_Bwd_Byts', 'Active_Mean', 'Bwd_Byts/b_Avg'}\n"
     ]
    }
   ],
   "source": [
    "print(cols)"
   ]
  },
  {
   "cell_type": "code",
   "execution_count": 32,
   "id": "96826837",
   "metadata": {},
   "outputs": [],
   "source": [
    "# Import label encoder\n",
    "from sklearn import preprocessing\n",
    "  \n",
    "# label_encoder object knows how to understand word labels.\n",
    "label_encoder = preprocessing.LabelEncoder()"
   ]
  },
  {
   "cell_type": "code",
   "execution_count": 33,
   "id": "46581b26",
   "metadata": {},
   "outputs": [],
   "source": [
    "data['Src_IP']= label_encoder.fit_transform(data['Src_IP'])"
   ]
  },
  {
   "cell_type": "code",
   "execution_count": 34,
   "id": "b6d647a4",
   "metadata": {},
   "outputs": [],
   "source": [
    "data['Dst_IP']= label_encoder.fit_transform(data['Dst_IP'])"
   ]
  },
  {
   "cell_type": "code",
   "execution_count": 35,
   "id": "065bd8e9",
   "metadata": {},
   "outputs": [],
   "source": [
    "data['Timestamp']= label_encoder.fit_transform(data['Timestamp'])"
   ]
  },
  {
   "cell_type": "code",
   "execution_count": 36,
   "id": "c66e1d14",
   "metadata": {},
   "outputs": [],
   "source": [
    "data['Label']= label_encoder.fit_transform(data['Label'])"
   ]
  },
  {
   "cell_type": "code",
   "execution_count": 37,
   "id": "43c3b6dc",
   "metadata": {},
   "outputs": [
    {
     "data": {
      "text/plain": [
       "(625783, 86)"
      ]
     },
     "execution_count": 37,
     "metadata": {},
     "output_type": "execute_result"
    }
   ],
   "source": [
    "data.head()\n",
    "data.shape\n"
   ]
  },
  {
   "cell_type": "code",
   "execution_count": 38,
   "id": "51285ece",
   "metadata": {},
   "outputs": [],
   "source": [
    "train_data = data[TRAIN_COLS+TG_COL]\n"
   ]
  },
  {
   "cell_type": "code",
   "execution_count": 39,
   "id": "90a6bd12",
   "metadata": {},
   "outputs": [
    {
     "data": {
      "text/plain": [
       "(625783, 73)"
      ]
     },
     "execution_count": 39,
     "metadata": {},
     "output_type": "execute_result"
    }
   ],
   "source": [
    "train_data.head()\n",
    "train_data.shape"
   ]
  },
  {
   "cell_type": "code",
   "execution_count": 40,
   "id": "87bc73cc",
   "metadata": {},
   "outputs": [
    {
     "name": "stdout",
     "output_type": "stream",
     "text": [
      "        Flow_IAT_Min  Init_Bwd_Win_Byts  Pkt_Len_Std   Flow_Pkts/s  \\\n",
      "0                 75                 -1   258.652921  26666.666670   \n",
      "1               1056              14600     0.000000    564.971751   \n",
      "2                 70               1869   679.000000  21276.595740   \n",
      "3                151               1869     0.000000  13245.033110   \n",
      "4                 76                 -1    15.176737  19607.843140   \n",
      "...              ...                ...          ...           ...   \n",
      "625778           277                 -1     0.000000   7220.216606   \n",
      "625779          1658              14600     0.000000   1206.272618   \n",
      "625780            77              32679     0.000000  25974.025970   \n",
      "625781           115               1869     0.000000  12500.000000   \n",
      "625782            76                 -1     0.000000  15151.515150   \n",
      "\n",
      "          Pkt_Len_Var  Protocol  Fwd_IAT_Max  SYN_Flag_Cnt  Subflow_Fwd_Byts  \\\n",
      "0        66901.333330        17            0             0               982   \n",
      "1            0.000000         6            0             1                 0   \n",
      "2       461041.000000         6            0             0                 0   \n",
      "3            0.000000         6            0             0                 0   \n",
      "4          230.333333        17           76             0               886   \n",
      "...               ...       ...          ...           ...               ...   \n",
      "625778       0.000000        17            0             0                18   \n",
      "625779       0.000000         6            0             1                 0   \n",
      "625780       0.000000         6            0             0                 0   \n",
      "625781       0.000000         6          125             0              2776   \n",
      "625782       0.000000        17          122             0              2860   \n",
      "\n",
      "        Bwd_IAT_Std  ...  Fwd_Header_Len  Down/Up_Ratio  Bwd_IAT_Tot  \\\n",
      "0          0.000000  ...               8              1            0   \n",
      "1          0.000000  ...              20              2         5310   \n",
      "2          0.707107  ...               0              0          141   \n",
      "3          0.000000  ...               0              0          151   \n",
      "4          0.000000  ...              16              0            0   \n",
      "...             ...  ...             ...            ...          ...   \n",
      "625778     0.000000  ...               8              1            0   \n",
      "625779     0.000000  ...               0              0         1658   \n",
      "625780     0.000000  ...              32              1            0   \n",
      "625781     0.000000  ...              64              0            0   \n",
      "625782     0.000000  ...              16              0            0   \n",
      "\n",
      "        ECE_Flag_Cnt  Fwd_Pkt_Len_Mean  Subflow_Bwd_Byts  Active_Mean  \\\n",
      "0                  0             982.0              1430          0.0   \n",
      "1                  0               0.0                 0          0.0   \n",
      "2                  0               0.0              2806          0.0   \n",
      "3                  0               0.0              2776          0.0   \n",
      "4                  0             443.0               420          0.0   \n",
      "...              ...               ...               ...          ...   \n",
      "625778             0              18.0                18          0.0   \n",
      "625779             0               0.0                 0          0.0   \n",
      "625780             0               0.0                 0          0.0   \n",
      "625781             0            1388.0              1388          0.0   \n",
      "625782             0            1430.0              1430          0.0   \n",
      "\n",
      "        Bwd_Pkt_Len_Min  Bwd_URG_Flags  Label  \n",
      "0                  1430              0      0  \n",
      "1                     0              0      0  \n",
      "2                    30              0      0  \n",
      "3                  1388              0      0  \n",
      "4                   420              0      0  \n",
      "...                 ...            ...    ...  \n",
      "625778               18              0      0  \n",
      "625779                0              0      0  \n",
      "625780                0              0      0  \n",
      "625781             1388              0      1  \n",
      "625782             1430              0      0  \n",
      "\n",
      "[625783 rows x 73 columns]\n"
     ]
    }
   ],
   "source": [
    "print(train_data[np.isfinite(train_data)])"
   ]
  },
  {
   "cell_type": "code",
   "execution_count": 41,
   "id": "8617fe3c",
   "metadata": {},
   "outputs": [
    {
     "data": {
      "text/plain": [
       "(625415, 73)"
      ]
     },
     "execution_count": 41,
     "metadata": {},
     "output_type": "execute_result"
    }
   ],
   "source": [
    "import numpy as np\n",
    "\n",
    "\n",
    "train_data= train_data[np.isfinite(train_data).all(1)]\n",
    "# train_label = data['Label'] \n",
    "# train_label = train_label[np.isfinite(train_label).all(1)]\n",
    "train_data.shape\n",
    "\n"
   ]
  },
  {
   "cell_type": "code",
   "execution_count": 42,
   "id": "ebefd362",
   "metadata": {},
   "outputs": [
    {
     "data": {
      "text/plain": [
       "array([[7.50202555e-04, 0.00000000e+00, 3.06849315e-01, ...,\n",
       "        9.79452055e-01, 0.00000000e+00, 0.00000000e+00],\n",
       "       [1.05628520e-02, 2.22793579e-01, 0.00000000e+00, ...,\n",
       "        0.00000000e+00, 0.00000000e+00, 0.00000000e+00],\n",
       "       [7.00189051e-04, 2.85339355e-02, 8.05522259e-01, ...,\n",
       "        2.05479452e-02, 0.00000000e+00, 0.00000000e+00],\n",
       "       ...,\n",
       "       [7.70207956e-04, 4.98657227e-01, 0.00000000e+00, ...,\n",
       "        0.00000000e+00, 0.00000000e+00, 0.00000000e+00],\n",
       "       [1.15031058e-03, 2.85339355e-02, 0.00000000e+00, ...,\n",
       "        9.50684932e-01, 0.00000000e+00, 1.00000000e+00],\n",
       "       [7.60205255e-04, 0.00000000e+00, 0.00000000e+00, ...,\n",
       "        9.79452055e-01, 0.00000000e+00, 0.00000000e+00]])"
      ]
     },
     "execution_count": 42,
     "metadata": {},
     "output_type": "execute_result"
    }
   ],
   "source": [
    "from sklearn.preprocessing import MinMaxScaler\n",
    "scaler = MinMaxScaler()\n",
    "scaler.fit(train_data)\n",
    "scaler.transform(train_data)"
   ]
  },
  {
   "cell_type": "code",
   "execution_count": 43,
   "id": "8ef4eb34",
   "metadata": {},
   "outputs": [
    {
     "name": "stdout",
     "output_type": "stream",
     "text": [
      "(625415, 73)\n",
      "(625783,)\n"
     ]
    }
   ],
   "source": [
    "print(train_data.shape)\n",
    "print(data['Label'].shape)"
   ]
  },
  {
   "cell_type": "code",
   "execution_count": 44,
   "id": "2c177714",
   "metadata": {},
   "outputs": [],
   "source": [
    "from sklearn.model_selection import train_test_split\n",
    "\n",
    "\n",
    "y = train_data['Label']\n",
    "X = train_data.drop(columns=['Label'])\n",
    "# X = train_data\n",
    "X_train, X_test, y_train, y_test = train_test_split(X, y, test_size = 0.25)"
   ]
  },
  {
   "cell_type": "code",
   "execution_count": 45,
   "id": "cdd08952",
   "metadata": {},
   "outputs": [
    {
     "data": {
      "text/plain": [
       "DecisionTreeClassifier()"
      ]
     },
     "execution_count": 45,
     "metadata": {},
     "output_type": "execute_result"
    }
   ],
   "source": [
    "from sklearn import tree\n",
    "from sklearn.tree import DecisionTreeClassifier\n",
    "  \n",
    "dtree = DecisionTreeClassifier()\n",
    "  \n",
    "# fit the regressor with x and y data\n",
    "dtree.fit(X_train, y_train)"
   ]
  },
  {
   "cell_type": "code",
   "execution_count": 46,
   "id": "66e27e98",
   "metadata": {},
   "outputs": [
    {
     "name": "stdout",
     "output_type": "stream",
     "text": [
      "0.999916855341085\n"
     ]
    }
   ],
   "source": [
    "from sklearn.metrics import accuracy_score\n",
    "\n",
    "Y_pred = dtree.predict(X_test)\n",
    "Y_pred = np.where(Y_pred >=0.5, 1, 0)\n",
    "print(accuracy_score(y_test, Y_pred))"
   ]
  },
  {
   "cell_type": "code",
   "execution_count": 47,
   "id": "6a5c1c20",
   "metadata": {},
   "outputs": [
    {
     "name": "stdout",
     "output_type": "stream",
     "text": [
      "Root Mean Square Error:\n",
      "\n",
      "0.009118369312274326\n"
     ]
    }
   ],
   "source": [
    "import math\n",
    " \n",
    "MSE = np.square(np.subtract(y_test, Y_pred)).mean() \n",
    " \n",
    "RMSE = math.sqrt(MSE)\n",
    "print(\"Root Mean Square Error:\\n\")\n",
    "print(RMSE)"
   ]
  },
  {
   "cell_type": "code",
   "execution_count": 48,
   "id": "a607f7f1",
   "metadata": {},
   "outputs": [
    {
     "name": "stdout",
     "output_type": "stream",
     "text": [
      "Mean Absolute Error: 8.314465891502615e-05\n",
      "Mean Squared Error: 8.314465891502615e-05\n",
      "R-squared scores: 0.9985905339128909\n",
      "Root Mean Square Error: 0.009118369312274326\n",
      "F1 score: 0.9993396657692895\n",
      "ROC Auc score: 0.9996713258822438\n"
     ]
    }
   ],
   "source": [
    "# Import library for metrics\n",
    "from sklearn.metrics import mean_squared_error, r2_score, mean_absolute_error, f1_score, roc_auc_score\n",
    "\n",
    "# Mean absolute error (MAE)\n",
    "mae = mean_absolute_error(y_test, Y_pred)\n",
    "\n",
    "# Mean squared error (MSE)\n",
    "mse = mean_squared_error(y_test, Y_pred)\n",
    "\n",
    "RMSE = math.sqrt(MSE)\n",
    "\n",
    "\n",
    "# R-squared scores\n",
    "r2 = r2_score(y_test, Y_pred)\n",
    "\n",
    "F1 = f1_score(y_test, Y_pred)\n",
    "\n",
    "roc_auc = roc_auc_score(y_test, Y_pred)\n",
    "\n",
    "\n",
    "\n",
    "# Print metrics\n",
    "print('Mean Absolute Error:', mae)\n",
    "print('Mean Squared Error:', mse)\n",
    "print('R-squared scores:', r2)\n",
    "\n",
    "print(\"Root Mean Square Error:\", RMSE)\n",
    "print(\"F1 score:\", F1)\n",
    "print(\"ROC Auc score:\", roc_auc)\n"
   ]
  },
  {
   "cell_type": "code",
   "execution_count": 49,
   "id": "de54b80b",
   "metadata": {},
   "outputs": [],
   "source": [
    "import pickle\n",
    "# save the model to disk\n",
    "filename = 'DecissionTree_model.sav'\n",
    "pickle.dump(dtree, open(filename, 'wb'))\n",
    "\n",
    "# some time later...\n",
    " \n",
    "# load the model from disk\n",
    "#loaded_model = pickle.load(open(filename, 'rb'))\n",
    "#result = loaded_model.score(X_test, Y_test)\n",
    "#print(result)"
   ]
  },
  {
   "cell_type": "code",
   "execution_count": 50,
   "id": "249009e2",
   "metadata": {},
   "outputs": [
    {
     "data": {
      "image/png": "[encoded data removed]",
      "text/plain": [
       "<Figure size 432x288 with 2 Axes>"
      ]
     },
     "metadata": {
      "needs_background": "light"
     },
     "output_type": "display_data"
    }
   ],
   "source": [
    "from sklearn import metrics\n",
    "\n",
    "confusion_matrix = metrics.confusion_matrix(y_test, Y_pred)\n",
    "\n",
    "cm_display = metrics.ConfusionMatrixDisplay(confusion_matrix = confusion_matrix, display_labels = [False, True])\n",
    "\n",
    "cm_display.plot()\n",
    "plt.show()"
   ]
  },
  {
   "cell_type": "code",
   "execution_count": 51,
   "id": "b8eb706f",
   "metadata": {},
   "outputs": [
    {
     "data": {
      "image/png": "[encoded data removed]",
      "text/plain": [
       "<Figure size 432x288 with 1 Axes>"
      ]
     },
     "metadata": {
      "needs_background": "light"
     },
     "output_type": "display_data"
    }
   ],
   "source": [
    "fpr, tpr, _ = metrics.roc_curve(y_test,  Y_pred)\n",
    "auc = metrics.roc_auc_score(y_test, Y_pred)\n",
    "#create ROC curve\n",
    "plt.plot(fpr,tpr,label=\"AUC=\"+str(auc))\n",
    "plt.ylabel('True Positive Rate')\n",
    "plt.xlabel('False Positive Rate')\n",
    "plt.legend(loc=4)\n",
    "plt.show()"
   ]
  },
  {
   "cell_type": "code",
   "execution_count": 52,
   "id": "964de25a",
   "metadata": {},
   "outputs": [
    {
     "name": "stdout",
     "output_type": "stream",
     "text": [
      "Sensitivity :  0.9999522220174595\n",
      "Specificity :  0.9993904297470283\n"
     ]
    }
   ],
   "source": [
    "sensitivity = confusion_matrix[0,0]/(confusion_matrix[0,0]+confusion_matrix[0,1])\n",
    "print('Sensitivity : ', sensitivity )\n",
    "\n",
    "specificity = confusion_matrix[1,1]/(confusion_matrix[1,0]+confusion_matrix[1,1])\n",
    "print('Specificity : ', specificity)"
   ]
  }
 ],
 "metadata": {
  "kernelspec": {
   "display_name": "Python 3 (ipykernel)",
   "language": "python",
   "name": "python3"
  },
  "language_info": {
   "codemirror_mode": {
    "name": "ipython",
    "version": 3
   },
   "file_extension": ".py",
   "mimetype": "text/x-python",
   "name": "python",
   "nbconvert_exporter": "python",
   "pygments_lexer": "ipython3",
   "version": "3.9.12"
  }
 },
 "nbformat": 4,
 "nbformat_minor": 5
}
