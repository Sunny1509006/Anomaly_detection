{
 "cells": [
  {
   "cell_type": "code",
   "execution_count": 1,
   "id": "63d64101",
   "metadata": {},
   "outputs": [],
   "source": [
    "import numpy as np # linear algebra\n",
    "import pandas as pd # data processing, CSV file I/O (e.g. pd.read_csv)\n",
    "import matplotlib.pyplot as plt\n",
    "import seaborn as sns\n",
    "\n",
    "import os"
   ]
  },
  {
   "cell_type": "code",
   "execution_count": 2,
   "id": "82a1476e",
   "metadata": {},
   "outputs": [],
   "source": [
    "data = pd.read_csv(\"anomaly_data.csv\")"
   ]
  },
  {
   "cell_type": "code",
   "execution_count": 3,
   "id": "3f9847a3",
   "metadata": {},
   "outputs": [
    {
     "data": {
      "text/html": [
       "<div>\n",
       "<style scoped>\n",
       "    .dataframe tbody tr th:only-of-type {\n",
       "        vertical-align: middle;\n",
       "    }\n",
       "\n",
       "    .dataframe tbody tr th {\n",
       "        vertical-align: top;\n",
       "    }\n",
       "\n",
       "    .dataframe thead th {\n",
       "        text-align: right;\n",
       "    }\n",
       "</style>\n",
       "<table border=\"1\" class=\"dataframe\">\n",
       "  <thead>\n",
       "    <tr style=\"text-align: right;\">\n",
       "      <th></th>\n",
       "      <th>Flow_ID</th>\n",
       "      <th>Src_IP</th>\n",
       "      <th>Src_Port</th>\n",
       "      <th>Dst_IP</th>\n",
       "      <th>Dst_Port</th>\n",
       "      <th>Protocol</th>\n",
       "      <th>Timestamp</th>\n",
       "      <th>Flow_Duration</th>\n",
       "      <th>Tot_Fwd_Pkts</th>\n",
       "      <th>Tot_Bwd_Pkts</th>\n",
       "      <th>...</th>\n",
       "      <th>Active_Std</th>\n",
       "      <th>Active_Max</th>\n",
       "      <th>Active_Min</th>\n",
       "      <th>Idle_Mean</th>\n",
       "      <th>Idle_Std</th>\n",
       "      <th>Idle_Max</th>\n",
       "      <th>Idle_Min</th>\n",
       "      <th>Label</th>\n",
       "      <th>Cat</th>\n",
       "      <th>Sub_Cat</th>\n",
       "    </tr>\n",
       "  </thead>\n",
       "  <tbody>\n",
       "    <tr>\n",
       "      <th>0</th>\n",
       "      <td>192.168.0.13-192.168.0.16-10000-10101-17</td>\n",
       "      <td>192.168.0.13</td>\n",
       "      <td>10000</td>\n",
       "      <td>192.168.0.16</td>\n",
       "      <td>10101</td>\n",
       "      <td>17</td>\n",
       "      <td>25/07/2019 03:25:53 AM</td>\n",
       "      <td>75</td>\n",
       "      <td>1</td>\n",
       "      <td>1</td>\n",
       "      <td>...</td>\n",
       "      <td>0.0</td>\n",
       "      <td>0</td>\n",
       "      <td>0</td>\n",
       "      <td>75.0</td>\n",
       "      <td>0.000000</td>\n",
       "      <td>75</td>\n",
       "      <td>75</td>\n",
       "      <td>Anomaly</td>\n",
       "      <td>Mirai</td>\n",
       "      <td>Mirai-Ackflooding</td>\n",
       "    </tr>\n",
       "    <tr>\n",
       "      <th>1</th>\n",
       "      <td>192.168.0.13-222.160.179.132-554-2179-6</td>\n",
       "      <td>222.160.179.132</td>\n",
       "      <td>2179</td>\n",
       "      <td>192.168.0.13</td>\n",
       "      <td>554</td>\n",
       "      <td>6</td>\n",
       "      <td>26/05/2019 10:11:06 PM</td>\n",
       "      <td>5310</td>\n",
       "      <td>1</td>\n",
       "      <td>2</td>\n",
       "      <td>...</td>\n",
       "      <td>0.0</td>\n",
       "      <td>0</td>\n",
       "      <td>0</td>\n",
       "      <td>2655.0</td>\n",
       "      <td>2261.327486</td>\n",
       "      <td>4254</td>\n",
       "      <td>1056</td>\n",
       "      <td>Anomaly</td>\n",
       "      <td>DoS</td>\n",
       "      <td>DoS-Synflooding</td>\n",
       "    </tr>\n",
       "    <tr>\n",
       "      <th>2</th>\n",
       "      <td>192.168.0.13-192.168.0.16-9020-52727-6</td>\n",
       "      <td>192.168.0.16</td>\n",
       "      <td>52727</td>\n",
       "      <td>192.168.0.13</td>\n",
       "      <td>9020</td>\n",
       "      <td>6</td>\n",
       "      <td>11/7/2019 1:24</td>\n",
       "      <td>141</td>\n",
       "      <td>0</td>\n",
       "      <td>3</td>\n",
       "      <td>...</td>\n",
       "      <td>0.0</td>\n",
       "      <td>0</td>\n",
       "      <td>0</td>\n",
       "      <td>70.5</td>\n",
       "      <td>0.707107</td>\n",
       "      <td>71</td>\n",
       "      <td>70</td>\n",
       "      <td>Anomaly</td>\n",
       "      <td>Scan</td>\n",
       "      <td>Scan Port OS</td>\n",
       "    </tr>\n",
       "    <tr>\n",
       "      <th>3</th>\n",
       "      <td>192.168.0.13-192.168.0.16-9020-52964-6</td>\n",
       "      <td>192.168.0.16</td>\n",
       "      <td>52964</td>\n",
       "      <td>192.168.0.13</td>\n",
       "      <td>9020</td>\n",
       "      <td>6</td>\n",
       "      <td>4/9/2019 3:58</td>\n",
       "      <td>151</td>\n",
       "      <td>0</td>\n",
       "      <td>2</td>\n",
       "      <td>...</td>\n",
       "      <td>0.0</td>\n",
       "      <td>0</td>\n",
       "      <td>0</td>\n",
       "      <td>151.0</td>\n",
       "      <td>0.000000</td>\n",
       "      <td>151</td>\n",
       "      <td>151</td>\n",
       "      <td>Anomaly</td>\n",
       "      <td>Mirai</td>\n",
       "      <td>Mirai-Hostbruteforceg</td>\n",
       "    </tr>\n",
       "    <tr>\n",
       "      <th>4</th>\n",
       "      <td>192.168.0.1-239.255.255.250-36763-1900-17</td>\n",
       "      <td>192.168.0.1</td>\n",
       "      <td>36763</td>\n",
       "      <td>239.255.255.250</td>\n",
       "      <td>1900</td>\n",
       "      <td>17</td>\n",
       "      <td>10/9/2019 1:41</td>\n",
       "      <td>153</td>\n",
       "      <td>2</td>\n",
       "      <td>1</td>\n",
       "      <td>...</td>\n",
       "      <td>0.0</td>\n",
       "      <td>0</td>\n",
       "      <td>0</td>\n",
       "      <td>76.5</td>\n",
       "      <td>0.707107</td>\n",
       "      <td>77</td>\n",
       "      <td>76</td>\n",
       "      <td>Anomaly</td>\n",
       "      <td>Mirai</td>\n",
       "      <td>Mirai-Hostbruteforceg</td>\n",
       "    </tr>\n",
       "  </tbody>\n",
       "</table>\n",
       "<p>5 rows × 86 columns</p>\n",
       "</div>"
      ],
      "text/plain": [
       "                                     Flow_ID           Src_IP  Src_Port  \\\n",
       "0   192.168.0.13-192.168.0.16-10000-10101-17     192.168.0.13     10000   \n",
       "1    192.168.0.13-222.160.179.132-554-2179-6  222.160.179.132      2179   \n",
       "2     192.168.0.13-192.168.0.16-9020-52727-6     192.168.0.16     52727   \n",
       "3     192.168.0.13-192.168.0.16-9020-52964-6     192.168.0.16     52964   \n",
       "4  192.168.0.1-239.255.255.250-36763-1900-17      192.168.0.1     36763   \n",
       "\n",
       "            Dst_IP  Dst_Port  Protocol               Timestamp  Flow_Duration  \\\n",
       "0     192.168.0.16     10101        17  25/07/2019 03:25:53 AM             75   \n",
       "1     192.168.0.13       554         6  26/05/2019 10:11:06 PM           5310   \n",
       "2     192.168.0.13      9020         6          11/7/2019 1:24            141   \n",
       "3     192.168.0.13      9020         6           4/9/2019 3:58            151   \n",
       "4  239.255.255.250      1900        17          10/9/2019 1:41            153   \n",
       "\n",
       "   Tot_Fwd_Pkts  Tot_Bwd_Pkts  ...  Active_Std  Active_Max  Active_Min  \\\n",
       "0             1             1  ...         0.0           0           0   \n",
       "1             1             2  ...         0.0           0           0   \n",
       "2             0             3  ...         0.0           0           0   \n",
       "3             0             2  ...         0.0           0           0   \n",
       "4             2             1  ...         0.0           0           0   \n",
       "\n",
       "   Idle_Mean     Idle_Std  Idle_Max  Idle_Min    Label    Cat  \\\n",
       "0       75.0     0.000000        75        75  Anomaly  Mirai   \n",
       "1     2655.0  2261.327486      4254      1056  Anomaly    DoS   \n",
       "2       70.5     0.707107        71        70  Anomaly   Scan   \n",
       "3      151.0     0.000000       151       151  Anomaly  Mirai   \n",
       "4       76.5     0.707107        77        76  Anomaly  Mirai   \n",
       "\n",
       "                 Sub_Cat  \n",
       "0      Mirai-Ackflooding  \n",
       "1        DoS-Synflooding  \n",
       "2           Scan Port OS  \n",
       "3  Mirai-Hostbruteforceg  \n",
       "4  Mirai-Hostbruteforceg  \n",
       "\n",
       "[5 rows x 86 columns]"
      ]
     },
     "execution_count": 3,
     "metadata": {},
     "output_type": "execute_result"
    }
   ],
   "source": [
    "data.head()"
   ]
  },
  {
   "cell_type": "code",
   "execution_count": 4,
   "id": "53e93003",
   "metadata": {},
   "outputs": [
    {
     "data": {
      "text/plain": [
       "(625783, 86)"
      ]
     },
     "execution_count": 4,
     "metadata": {},
     "output_type": "execute_result"
    }
   ],
   "source": [
    "data.shape"
   ]
  },
  {
   "cell_type": "code",
   "execution_count": 5,
   "id": "aa7b62f9",
   "metadata": {},
   "outputs": [],
   "source": [
    "null_check = data.isnull().sum()\n",
    "\n",
    "null_check.to_csv('null_count')\n",
    "#no null data has been found"
   ]
  },
  {
   "cell_type": "code",
   "execution_count": 6,
   "id": "18589165",
   "metadata": {},
   "outputs": [
    {
     "data": {
      "text/plain": [
       "array(['Anomaly', 'Normal'], dtype=object)"
      ]
     },
     "execution_count": 6,
     "metadata": {},
     "output_type": "execute_result"
    }
   ],
   "source": [
    "data['Label'].unique()"
   ]
  },
  {
   "cell_type": "code",
   "execution_count": 7,
   "id": "e5ec5436",
   "metadata": {},
   "outputs": [
    {
     "data": {
      "text/plain": [
       "array([0], dtype=int64)"
      ]
     },
     "execution_count": 7,
     "metadata": {},
     "output_type": "execute_result"
    }
   ],
   "source": [
    "data['Fwd_PSH_Flags'].unique()"
   ]
  },
  {
   "cell_type": "code",
   "execution_count": 8,
   "id": "7fcac8a5",
   "metadata": {},
   "outputs": [
    {
     "data": {
      "text/plain": [
       "array([0, 1], dtype=int64)"
      ]
     },
     "execution_count": 8,
     "metadata": {},
     "output_type": "execute_result"
    }
   ],
   "source": [
    "data['Bwd_PSH_Flags'].unique()"
   ]
  },
  {
   "cell_type": "code",
   "execution_count": 9,
   "id": "a2525f02",
   "metadata": {},
   "outputs": [
    {
     "data": {
      "text/plain": [
       "array([0], dtype=int64)"
      ]
     },
     "execution_count": 9,
     "metadata": {},
     "output_type": "execute_result"
    }
   ],
   "source": [
    "data['Fwd_URG_Flags'].unique()"
   ]
  },
  {
   "cell_type": "code",
   "execution_count": 10,
   "id": "b31b4472",
   "metadata": {},
   "outputs": [
    {
     "data": {
      "text/plain": [
       "array([0, 1], dtype=int64)"
      ]
     },
     "execution_count": 10,
     "metadata": {},
     "output_type": "execute_result"
    }
   ],
   "source": [
    "data['Bwd_URG_Flags'].unique()"
   ]
  },
  {
   "cell_type": "code",
   "execution_count": 11,
   "id": "f863e26d",
   "metadata": {},
   "outputs": [
    {
     "data": {
      "text/plain": [
       "array([0, 1], dtype=int64)"
      ]
     },
     "execution_count": 11,
     "metadata": {},
     "output_type": "execute_result"
    }
   ],
   "source": [
    "data['FIN_Flag_Cnt'].unique()"
   ]
  },
  {
   "cell_type": "code",
   "execution_count": 12,
   "id": "e709c364",
   "metadata": {},
   "outputs": [
    {
     "data": {
      "text/plain": [
       "array([0, 1], dtype=int64)"
      ]
     },
     "execution_count": 12,
     "metadata": {},
     "output_type": "execute_result"
    }
   ],
   "source": [
    "data['RST_Flag_Cnt'].unique()"
   ]
  },
  {
   "cell_type": "code",
   "execution_count": 13,
   "id": "430e639c",
   "metadata": {},
   "outputs": [
    {
     "data": {
      "text/plain": [
       "array([0, 1], dtype=int64)"
      ]
     },
     "execution_count": 13,
     "metadata": {},
     "output_type": "execute_result"
    }
   ],
   "source": [
    "data['URG_Flag_Cnt'].unique()"
   ]
  },
  {
   "cell_type": "code",
   "execution_count": 14,
   "id": "4fc54ad3",
   "metadata": {},
   "outputs": [
    {
     "data": {
      "text/plain": [
       "array([0, 1], dtype=int64)"
      ]
     },
     "execution_count": 14,
     "metadata": {},
     "output_type": "execute_result"
    }
   ],
   "source": [
    "data['CWE_Flag_Count'].unique()"
   ]
  },
  {
   "cell_type": "code",
   "execution_count": 15,
   "id": "23adbc35",
   "metadata": {},
   "outputs": [
    {
     "data": {
      "text/plain": [
       "array([0, 1], dtype=int64)"
      ]
     },
     "execution_count": 15,
     "metadata": {},
     "output_type": "execute_result"
    }
   ],
   "source": [
    "data['ECE_Flag_Cnt'].unique()"
   ]
  },
  {
   "cell_type": "code",
   "execution_count": 16,
   "id": "c33100cf",
   "metadata": {},
   "outputs": [
    {
     "data": {
      "text/plain": [
       "array([ 1,  2,  0,  3,  4,  5, 10,  7,  8,  6, 13, 12, 11,  9, 14],\n",
       "      dtype=int64)"
      ]
     },
     "execution_count": 16,
     "metadata": {},
     "output_type": "execute_result"
    }
   ],
   "source": [
    "data['Down/Up_Ratio'].unique()"
   ]
  },
  {
   "cell_type": "code",
   "execution_count": 17,
   "id": "d431eaa1",
   "metadata": {},
   "outputs": [
    {
     "data": {
      "text/plain": [
       "array([0], dtype=int64)"
      ]
     },
     "execution_count": 17,
     "metadata": {},
     "output_type": "execute_result"
    }
   ],
   "source": [
    "data['Fwd_Byts/b_Avg'].unique()"
   ]
  },
  {
   "cell_type": "code",
   "execution_count": 18,
   "id": "b0a932bb",
   "metadata": {},
   "outputs": [
    {
     "data": {
      "text/plain": [
       "array([0], dtype=int64)"
      ]
     },
     "execution_count": 18,
     "metadata": {},
     "output_type": "execute_result"
    }
   ],
   "source": [
    "data['Fwd_Pkts/b_Avg'].unique()"
   ]
  },
  {
   "cell_type": "code",
   "execution_count": 19,
   "id": "0c3d854a",
   "metadata": {},
   "outputs": [
    {
     "data": {
      "text/plain": [
       "array([0], dtype=int64)"
      ]
     },
     "execution_count": 19,
     "metadata": {},
     "output_type": "execute_result"
    }
   ],
   "source": [
    "data['Fwd_Blk_Rate_Avg'].unique()"
   ]
  },
  {
   "cell_type": "code",
   "execution_count": 20,
   "id": "370297ac",
   "metadata": {},
   "outputs": [
    {
     "data": {
      "text/plain": [
       "array([0], dtype=int64)"
      ]
     },
     "execution_count": 20,
     "metadata": {},
     "output_type": "execute_result"
    }
   ],
   "source": [
    "data['Bwd_Byts/b_Avg'].unique()"
   ]
  },
  {
   "cell_type": "code",
   "execution_count": 21,
   "id": "6516edac",
   "metadata": {},
   "outputs": [
    {
     "data": {
      "text/plain": [
       "array([0], dtype=int64)"
      ]
     },
     "execution_count": 21,
     "metadata": {},
     "output_type": "execute_result"
    }
   ],
   "source": [
    "data['Bwd_Pkts/b_Avg'].unique()"
   ]
  },
  {
   "cell_type": "code",
   "execution_count": 22,
   "id": "bd0ae774",
   "metadata": {},
   "outputs": [
    {
     "data": {
      "text/plain": [
       "array([0], dtype=int64)"
      ]
     },
     "execution_count": 22,
     "metadata": {},
     "output_type": "execute_result"
    }
   ],
   "source": [
    "data['Bwd_Blk_Rate_Avg'].unique()"
   ]
  },
  {
   "cell_type": "code",
   "execution_count": 23,
   "id": "fc59d9c4",
   "metadata": {},
   "outputs": [
    {
     "data": {
      "text/plain": [
       "array([-1], dtype=int64)"
      ]
     },
     "execution_count": 23,
     "metadata": {},
     "output_type": "execute_result"
    }
   ],
   "source": [
    "data['Init_Fwd_Win_Byts'].unique()"
   ]
  },
  {
   "cell_type": "code",
   "execution_count": 24,
   "id": "6a5e67af",
   "metadata": {},
   "outputs": [
    {
     "data": {
      "text/plain": [
       "array([0], dtype=int64)"
      ]
     },
     "execution_count": 24,
     "metadata": {},
     "output_type": "execute_result"
    }
   ],
   "source": [
    "data['Fwd_Seg_Size_Min'].unique()"
   ]
  },
  {
   "cell_type": "code",
   "execution_count": 25,
   "id": "377058fc",
   "metadata": {},
   "outputs": [
    {
     "name": "stdout",
     "output_type": "stream",
     "text": [
      "(585710, 86)\n",
      "(40073, 86)\n"
     ]
    }
   ],
   "source": [
    "print(data[data.Label=='Anomaly'].shape)\n",
    "print(data[data.Label=='Normal'].shape)"
   ]
  },
  {
   "cell_type": "code",
   "execution_count": 26,
   "id": "2cce385d",
   "metadata": {},
   "outputs": [],
   "source": [
    "temp_ignore_cols = set(['Flow_ID', 'Label', 'Fwd_PSH_Flags', 'Fwd_URG_Flags', 'Fwd_Byts/b_Avg', \n",
    "                        'Fwd_Pkts/b_Avg', 'Fwd_Blk_Rate_Avg','Bwd_Byts/b_Avg', 'Bwd_Pkts/b_Avg', 'Bwd_Blk_Rate_Avg',\n",
    "                        'Init_Fwd_Win_Byts', 'Fwd_Seg_Size_Min', 'Cat', 'Sub_Cat'])"
   ]
  },
  {
   "cell_type": "code",
   "execution_count": 27,
   "id": "21ec5db3",
   "metadata": {},
   "outputs": [],
   "source": [
    "cols = set(data.columns)"
   ]
  },
  {
   "cell_type": "code",
   "execution_count": 28,
   "id": "008def9f",
   "metadata": {},
   "outputs": [
    {
     "name": "stdout",
     "output_type": "stream",
     "text": [
      "Number of Features : 72\n"
     ]
    }
   ],
   "source": [
    "TRAIN_COLS = list(cols-temp_ignore_cols)\n",
    "TG_COL = [\"Label\"]\n",
    "print(\"Number of Features :\", len(TRAIN_COLS))"
   ]
  },
  {
   "cell_type": "code",
   "execution_count": 29,
   "id": "b4d0d6d4",
   "metadata": {},
   "outputs": [
    {
     "data": {
      "text/html": [
       "<div>\n",
       "<style scoped>\n",
       "    .dataframe tbody tr th:only-of-type {\n",
       "        vertical-align: middle;\n",
       "    }\n",
       "\n",
       "    .dataframe tbody tr th {\n",
       "        vertical-align: top;\n",
       "    }\n",
       "\n",
       "    .dataframe thead th {\n",
       "        text-align: right;\n",
       "    }\n",
       "</style>\n",
       "<table border=\"1\" class=\"dataframe\">\n",
       "  <thead>\n",
       "    <tr style=\"text-align: right;\">\n",
       "      <th></th>\n",
       "      <th>Bwd_IAT_Min</th>\n",
       "      <th>Flow_Duration</th>\n",
       "      <th>Init_Bwd_Win_Byts</th>\n",
       "      <th>Bwd_Pkts/s</th>\n",
       "      <th>Bwd_Seg_Size_Avg</th>\n",
       "      <th>Pkt_Len_Max</th>\n",
       "      <th>Active_Mean</th>\n",
       "      <th>Fwd_Pkt_Len_Max</th>\n",
       "      <th>Flow_IAT_Max</th>\n",
       "      <th>Fwd_IAT_Max</th>\n",
       "      <th>...</th>\n",
       "      <th>Bwd_Pkt_Len_Std</th>\n",
       "      <th>FIN_Flag_Cnt</th>\n",
       "      <th>Subflow_Bwd_Pkts</th>\n",
       "      <th>Flow_Byts/s</th>\n",
       "      <th>Flow_IAT_Std</th>\n",
       "      <th>PSH_Flag_Cnt</th>\n",
       "      <th>Bwd_IAT_Max</th>\n",
       "      <th>Down/Up_Ratio</th>\n",
       "      <th>Fwd_IAT_Std</th>\n",
       "      <th>Bwd_PSH_Flags</th>\n",
       "    </tr>\n",
       "  </thead>\n",
       "  <tbody>\n",
       "    <tr>\n",
       "      <th>Bwd_IAT_Min</th>\n",
       "      <td>1.000000</td>\n",
       "      <td>0.633643</td>\n",
       "      <td>0.094313</td>\n",
       "      <td>-0.065857</td>\n",
       "      <td>-0.163644</td>\n",
       "      <td>-0.161582</td>\n",
       "      <td>0.132359</td>\n",
       "      <td>-0.113390</td>\n",
       "      <td>0.725507</td>\n",
       "      <td>0.160736</td>\n",
       "      <td>...</td>\n",
       "      <td>-0.026296</td>\n",
       "      <td>-0.000474</td>\n",
       "      <td>0.091028</td>\n",
       "      <td>-0.119419</td>\n",
       "      <td>0.419766</td>\n",
       "      <td>0.008717</td>\n",
       "      <td>0.796458</td>\n",
       "      <td>-0.078741</td>\n",
       "      <td>0.069517</td>\n",
       "      <td>0.008717</td>\n",
       "    </tr>\n",
       "    <tr>\n",
       "      <th>Flow_Duration</th>\n",
       "      <td>0.633643</td>\n",
       "      <td>1.000000</td>\n",
       "      <td>0.075825</td>\n",
       "      <td>-0.059062</td>\n",
       "      <td>-0.110422</td>\n",
       "      <td>-0.087173</td>\n",
       "      <td>0.318634</td>\n",
       "      <td>-0.048892</td>\n",
       "      <td>0.956828</td>\n",
       "      <td>0.690755</td>\n",
       "      <td>...</td>\n",
       "      <td>0.007581</td>\n",
       "      <td>0.002827</td>\n",
       "      <td>0.215306</td>\n",
       "      <td>-0.096971</td>\n",
       "      <td>0.743892</td>\n",
       "      <td>0.054156</td>\n",
       "      <td>0.883815</td>\n",
       "      <td>0.000554</td>\n",
       "      <td>0.562203</td>\n",
       "      <td>0.054156</td>\n",
       "    </tr>\n",
       "    <tr>\n",
       "      <th>Init_Bwd_Win_Byts</th>\n",
       "      <td>0.094313</td>\n",
       "      <td>0.075825</td>\n",
       "      <td>1.000000</td>\n",
       "      <td>-0.114106</td>\n",
       "      <td>-0.328285</td>\n",
       "      <td>-0.326909</td>\n",
       "      <td>0.017191</td>\n",
       "      <td>-0.253598</td>\n",
       "      <td>0.085047</td>\n",
       "      <td>0.019245</td>\n",
       "      <td>...</td>\n",
       "      <td>-0.035462</td>\n",
       "      <td>-0.001264</td>\n",
       "      <td>0.089735</td>\n",
       "      <td>-0.238675</td>\n",
       "      <td>0.015781</td>\n",
       "      <td>0.077945</td>\n",
       "      <td>0.093361</td>\n",
       "      <td>-0.050248</td>\n",
       "      <td>0.022629</td>\n",
       "      <td>0.077945</td>\n",
       "    </tr>\n",
       "    <tr>\n",
       "      <th>Bwd_Pkts/s</th>\n",
       "      <td>-0.065857</td>\n",
       "      <td>-0.059062</td>\n",
       "      <td>-0.114106</td>\n",
       "      <td>1.000000</td>\n",
       "      <td>-0.189941</td>\n",
       "      <td>-0.198142</td>\n",
       "      <td>-0.018820</td>\n",
       "      <td>-0.158090</td>\n",
       "      <td>-0.064605</td>\n",
       "      <td>-0.014689</td>\n",
       "      <td>...</td>\n",
       "      <td>-0.035470</td>\n",
       "      <td>-0.002597</td>\n",
       "      <td>-0.066144</td>\n",
       "      <td>0.231854</td>\n",
       "      <td>-0.018549</td>\n",
       "      <td>-0.029151</td>\n",
       "      <td>-0.059403</td>\n",
       "      <td>0.139402</td>\n",
       "      <td>-0.009995</td>\n",
       "      <td>-0.029151</td>\n",
       "    </tr>\n",
       "    <tr>\n",
       "      <th>Bwd_Seg_Size_Avg</th>\n",
       "      <td>-0.163644</td>\n",
       "      <td>-0.110422</td>\n",
       "      <td>-0.328285</td>\n",
       "      <td>-0.189941</td>\n",
       "      <td>1.000000</td>\n",
       "      <td>0.952269</td>\n",
       "      <td>-0.045655</td>\n",
       "      <td>0.651610</td>\n",
       "      <td>-0.128576</td>\n",
       "      <td>-0.015886</td>\n",
       "      <td>...</td>\n",
       "      <td>0.046268</td>\n",
       "      <td>-0.018039</td>\n",
       "      <td>-0.007752</td>\n",
       "      <td>0.468508</td>\n",
       "      <td>-0.029373</td>\n",
       "      <td>-0.019765</td>\n",
       "      <td>-0.139348</td>\n",
       "      <td>0.134411</td>\n",
       "      <td>-0.015148</td>\n",
       "      <td>-0.019765</td>\n",
       "    </tr>\n",
       "    <tr>\n",
       "      <th>...</th>\n",
       "      <td>...</td>\n",
       "      <td>...</td>\n",
       "      <td>...</td>\n",
       "      <td>...</td>\n",
       "      <td>...</td>\n",
       "      <td>...</td>\n",
       "      <td>...</td>\n",
       "      <td>...</td>\n",
       "      <td>...</td>\n",
       "      <td>...</td>\n",
       "      <td>...</td>\n",
       "      <td>...</td>\n",
       "      <td>...</td>\n",
       "      <td>...</td>\n",
       "      <td>...</td>\n",
       "      <td>...</td>\n",
       "      <td>...</td>\n",
       "      <td>...</td>\n",
       "      <td>...</td>\n",
       "      <td>...</td>\n",
       "      <td>...</td>\n",
       "    </tr>\n",
       "    <tr>\n",
       "      <th>PSH_Flag_Cnt</th>\n",
       "      <td>0.008717</td>\n",
       "      <td>0.054156</td>\n",
       "      <td>0.077945</td>\n",
       "      <td>-0.029151</td>\n",
       "      <td>-0.019765</td>\n",
       "      <td>0.024948</td>\n",
       "      <td>0.009961</td>\n",
       "      <td>-0.038059</td>\n",
       "      <td>0.051636</td>\n",
       "      <td>0.067325</td>\n",
       "      <td>...</td>\n",
       "      <td>0.112902</td>\n",
       "      <td>0.053950</td>\n",
       "      <td>0.030593</td>\n",
       "      <td>-0.020189</td>\n",
       "      <td>0.071826</td>\n",
       "      <td>1.000000</td>\n",
       "      <td>0.048730</td>\n",
       "      <td>0.007515</td>\n",
       "      <td>0.064451</td>\n",
       "      <td>1.000000</td>\n",
       "    </tr>\n",
       "    <tr>\n",
       "      <th>Bwd_IAT_Max</th>\n",
       "      <td>0.796458</td>\n",
       "      <td>0.883815</td>\n",
       "      <td>0.093361</td>\n",
       "      <td>-0.059403</td>\n",
       "      <td>-0.139348</td>\n",
       "      <td>-0.121616</td>\n",
       "      <td>0.249036</td>\n",
       "      <td>-0.086089</td>\n",
       "      <td>0.906055</td>\n",
       "      <td>0.496491</td>\n",
       "      <td>...</td>\n",
       "      <td>0.005055</td>\n",
       "      <td>0.000755</td>\n",
       "      <td>0.170215</td>\n",
       "      <td>-0.107965</td>\n",
       "      <td>0.632561</td>\n",
       "      <td>0.048730</td>\n",
       "      <td>1.000000</td>\n",
       "      <td>-0.023646</td>\n",
       "      <td>0.445708</td>\n",
       "      <td>0.048730</td>\n",
       "    </tr>\n",
       "    <tr>\n",
       "      <th>Down/Up_Ratio</th>\n",
       "      <td>-0.078741</td>\n",
       "      <td>0.000554</td>\n",
       "      <td>-0.050248</td>\n",
       "      <td>0.139402</td>\n",
       "      <td>0.134411</td>\n",
       "      <td>0.100840</td>\n",
       "      <td>0.086154</td>\n",
       "      <td>0.353099</td>\n",
       "      <td>-0.016366</td>\n",
       "      <td>0.024680</td>\n",
       "      <td>...</td>\n",
       "      <td>-0.183371</td>\n",
       "      <td>0.013480</td>\n",
       "      <td>-0.214187</td>\n",
       "      <td>0.063578</td>\n",
       "      <td>0.071723</td>\n",
       "      <td>0.007515</td>\n",
       "      <td>-0.023646</td>\n",
       "      <td>1.000000</td>\n",
       "      <td>0.029048</td>\n",
       "      <td>0.007515</td>\n",
       "    </tr>\n",
       "    <tr>\n",
       "      <th>Fwd_IAT_Std</th>\n",
       "      <td>0.069517</td>\n",
       "      <td>0.562203</td>\n",
       "      <td>0.022629</td>\n",
       "      <td>-0.009995</td>\n",
       "      <td>-0.015148</td>\n",
       "      <td>0.008293</td>\n",
       "      <td>0.231270</td>\n",
       "      <td>0.011703</td>\n",
       "      <td>0.502875</td>\n",
       "      <td>0.826718</td>\n",
       "      <td>...</td>\n",
       "      <td>0.031438</td>\n",
       "      <td>0.001366</td>\n",
       "      <td>0.097334</td>\n",
       "      <td>-0.018040</td>\n",
       "      <td>0.469940</td>\n",
       "      <td>0.064451</td>\n",
       "      <td>0.445708</td>\n",
       "      <td>0.029048</td>\n",
       "      <td>1.000000</td>\n",
       "      <td>0.064451</td>\n",
       "    </tr>\n",
       "    <tr>\n",
       "      <th>Bwd_PSH_Flags</th>\n",
       "      <td>0.008717</td>\n",
       "      <td>0.054156</td>\n",
       "      <td>0.077945</td>\n",
       "      <td>-0.029151</td>\n",
       "      <td>-0.019765</td>\n",
       "      <td>0.024948</td>\n",
       "      <td>0.009961</td>\n",
       "      <td>-0.038059</td>\n",
       "      <td>0.051636</td>\n",
       "      <td>0.067325</td>\n",
       "      <td>...</td>\n",
       "      <td>0.112902</td>\n",
       "      <td>0.053950</td>\n",
       "      <td>0.030593</td>\n",
       "      <td>-0.020189</td>\n",
       "      <td>0.071826</td>\n",
       "      <td>1.000000</td>\n",
       "      <td>0.048730</td>\n",
       "      <td>0.007515</td>\n",
       "      <td>0.064451</td>\n",
       "      <td>1.000000</td>\n",
       "    </tr>\n",
       "  </tbody>\n",
       "</table>\n",
       "<p>69 rows × 69 columns</p>\n",
       "</div>"
      ],
      "text/plain": [
       "                   Bwd_IAT_Min  Flow_Duration  Init_Bwd_Win_Byts  Bwd_Pkts/s  \\\n",
       "Bwd_IAT_Min           1.000000       0.633643           0.094313   -0.065857   \n",
       "Flow_Duration         0.633643       1.000000           0.075825   -0.059062   \n",
       "Init_Bwd_Win_Byts     0.094313       0.075825           1.000000   -0.114106   \n",
       "Bwd_Pkts/s           -0.065857      -0.059062          -0.114106    1.000000   \n",
       "Bwd_Seg_Size_Avg     -0.163644      -0.110422          -0.328285   -0.189941   \n",
       "...                        ...            ...                ...         ...   \n",
       "PSH_Flag_Cnt          0.008717       0.054156           0.077945   -0.029151   \n",
       "Bwd_IAT_Max           0.796458       0.883815           0.093361   -0.059403   \n",
       "Down/Up_Ratio        -0.078741       0.000554          -0.050248    0.139402   \n",
       "Fwd_IAT_Std           0.069517       0.562203           0.022629   -0.009995   \n",
       "Bwd_PSH_Flags         0.008717       0.054156           0.077945   -0.029151   \n",
       "\n",
       "                   Bwd_Seg_Size_Avg  Pkt_Len_Max  Active_Mean  \\\n",
       "Bwd_IAT_Min               -0.163644    -0.161582     0.132359   \n",
       "Flow_Duration             -0.110422    -0.087173     0.318634   \n",
       "Init_Bwd_Win_Byts         -0.328285    -0.326909     0.017191   \n",
       "Bwd_Pkts/s                -0.189941    -0.198142    -0.018820   \n",
       "Bwd_Seg_Size_Avg           1.000000     0.952269    -0.045655   \n",
       "...                             ...          ...          ...   \n",
       "PSH_Flag_Cnt              -0.019765     0.024948     0.009961   \n",
       "Bwd_IAT_Max               -0.139348    -0.121616     0.249036   \n",
       "Down/Up_Ratio              0.134411     0.100840     0.086154   \n",
       "Fwd_IAT_Std               -0.015148     0.008293     0.231270   \n",
       "Bwd_PSH_Flags             -0.019765     0.024948     0.009961   \n",
       "\n",
       "                   Fwd_Pkt_Len_Max  Flow_IAT_Max  Fwd_IAT_Max  ...  \\\n",
       "Bwd_IAT_Min              -0.113390      0.725507     0.160736  ...   \n",
       "Flow_Duration            -0.048892      0.956828     0.690755  ...   \n",
       "Init_Bwd_Win_Byts        -0.253598      0.085047     0.019245  ...   \n",
       "Bwd_Pkts/s               -0.158090     -0.064605    -0.014689  ...   \n",
       "Bwd_Seg_Size_Avg          0.651610     -0.128576    -0.015886  ...   \n",
       "...                            ...           ...          ...  ...   \n",
       "PSH_Flag_Cnt             -0.038059      0.051636     0.067325  ...   \n",
       "Bwd_IAT_Max              -0.086089      0.906055     0.496491  ...   \n",
       "Down/Up_Ratio             0.353099     -0.016366     0.024680  ...   \n",
       "Fwd_IAT_Std               0.011703      0.502875     0.826718  ...   \n",
       "Bwd_PSH_Flags            -0.038059      0.051636     0.067325  ...   \n",
       "\n",
       "                   Bwd_Pkt_Len_Std  FIN_Flag_Cnt  Subflow_Bwd_Pkts  \\\n",
       "Bwd_IAT_Min              -0.026296     -0.000474          0.091028   \n",
       "Flow_Duration             0.007581      0.002827          0.215306   \n",
       "Init_Bwd_Win_Byts        -0.035462     -0.001264          0.089735   \n",
       "Bwd_Pkts/s               -0.035470     -0.002597         -0.066144   \n",
       "Bwd_Seg_Size_Avg          0.046268     -0.018039         -0.007752   \n",
       "...                            ...           ...               ...   \n",
       "PSH_Flag_Cnt              0.112902      0.053950          0.030593   \n",
       "Bwd_IAT_Max               0.005055      0.000755          0.170215   \n",
       "Down/Up_Ratio            -0.183371      0.013480         -0.214187   \n",
       "Fwd_IAT_Std               0.031438      0.001366          0.097334   \n",
       "Bwd_PSH_Flags             0.112902      0.053950          0.030593   \n",
       "\n",
       "                   Flow_Byts/s  Flow_IAT_Std  PSH_Flag_Cnt  Bwd_IAT_Max  \\\n",
       "Bwd_IAT_Min          -0.119419      0.419766      0.008717     0.796458   \n",
       "Flow_Duration        -0.096971      0.743892      0.054156     0.883815   \n",
       "Init_Bwd_Win_Byts    -0.238675      0.015781      0.077945     0.093361   \n",
       "Bwd_Pkts/s            0.231854     -0.018549     -0.029151    -0.059403   \n",
       "Bwd_Seg_Size_Avg      0.468508     -0.029373     -0.019765    -0.139348   \n",
       "...                        ...           ...           ...          ...   \n",
       "PSH_Flag_Cnt         -0.020189      0.071826      1.000000     0.048730   \n",
       "Bwd_IAT_Max          -0.107965      0.632561      0.048730     1.000000   \n",
       "Down/Up_Ratio         0.063578      0.071723      0.007515    -0.023646   \n",
       "Fwd_IAT_Std          -0.018040      0.469940      0.064451     0.445708   \n",
       "Bwd_PSH_Flags        -0.020189      0.071826      1.000000     0.048730   \n",
       "\n",
       "                   Down/Up_Ratio  Fwd_IAT_Std  Bwd_PSH_Flags  \n",
       "Bwd_IAT_Min            -0.078741     0.069517       0.008717  \n",
       "Flow_Duration           0.000554     0.562203       0.054156  \n",
       "Init_Bwd_Win_Byts      -0.050248     0.022629       0.077945  \n",
       "Bwd_Pkts/s              0.139402    -0.009995      -0.029151  \n",
       "Bwd_Seg_Size_Avg        0.134411    -0.015148      -0.019765  \n",
       "...                          ...          ...            ...  \n",
       "PSH_Flag_Cnt            0.007515     0.064451       1.000000  \n",
       "Bwd_IAT_Max            -0.023646     0.445708       0.048730  \n",
       "Down/Up_Ratio           1.000000     0.029048       0.007515  \n",
       "Fwd_IAT_Std             0.029048     1.000000       0.064451  \n",
       "Bwd_PSH_Flags           0.007515     0.064451       1.000000  \n",
       "\n",
       "[69 rows x 69 columns]"
      ]
     },
     "execution_count": 29,
     "metadata": {},
     "output_type": "execute_result"
    }
   ],
   "source": [
    "corr = data[TRAIN_COLS+TG_COL].corr()\n",
    "corr"
   ]
  },
  {
   "cell_type": "code",
   "execution_count": 30,
   "id": "70bebc24",
   "metadata": {},
   "outputs": [],
   "source": [
    "corr.to_csv('correlation_matrix')"
   ]
  },
  {
   "cell_type": "code",
   "execution_count": 31,
   "id": "13cd65b0",
   "metadata": {},
   "outputs": [
    {
     "name": "stdout",
     "output_type": "stream",
     "text": [
      "{'Fwd_Blk_Rate_Avg', 'Flow_Duration', 'Bwd_Pkts/s', 'Pkt_Len_Max', 'Sub_Cat', 'Fwd_IAT_Mean', 'Flow_Pkts/s', 'Fwd_IAT_Tot', 'Flow_ID', 'SYN_Flag_Cnt', 'Idle_Std', 'Pkt_Len_Mean', 'Tot_Fwd_Pkts', 'Idle_Mean', 'TotLen_Bwd_Pkts', 'Subflow_Bwd_Byts', 'Pkt_Size_Avg', 'RST_Flag_Cnt', 'Bwd_IAT_Tot', 'Subflow_Fwd_Pkts', 'URG_Flag_Cnt', 'Bwd_IAT_Mean', 'ECE_Flag_Cnt', 'Subflow_Fwd_Byts', 'Src_Port', 'Idle_Min', 'Init_Fwd_Win_Byts', 'Pkt_Len_Var', 'Fwd_Pkt_Len_Mean', 'Flow_IAT_Min', 'Tot_Bwd_Pkts', 'Label', 'Dst_Port', 'Active_Std', 'Active_Max', 'Bwd_Pkt_Len_Std', 'FIN_Flag_Cnt', 'Fwd_PSH_Flags', 'Bwd_IAT_Max', 'Fwd_IAT_Std', 'Bwd_Blk_Rate_Avg', 'Bwd_IAT_Min', 'Init_Bwd_Win_Byts', 'Bwd_Seg_Size_Avg', 'Bwd_Byts/b_Avg', 'Active_Mean', 'Fwd_Pkt_Len_Max', 'Flow_IAT_Max', 'Fwd_IAT_Max', 'Fwd_Act_Data_Pkts', 'Flow_IAT_Mean', 'Bwd_URG_Flags', 'Bwd_Pkt_Len_Max', 'Bwd_Pkt_Len_Mean', 'Dst_IP', 'Pkt_Len_Std', 'Fwd_Seg_Size_Min', 'Bwd_Header_Len', 'Fwd_URG_Flags', 'Protocol', 'TotLen_Fwd_Pkts', 'Fwd_Header_Len', 'Fwd_Pkt_Len_Std', 'Fwd_Pkts/b_Avg', 'Fwd_Seg_Size_Avg', 'Cat', 'Idle_Max', 'Active_Min', 'Bwd_IAT_Std', 'Bwd_Pkt_Len_Min', 'Pkt_Len_Min', 'ACK_Flag_Cnt', 'CWE_Flag_Count', 'Fwd_Pkt_Len_Min', 'Fwd_IAT_Min', 'Timestamp', 'Fwd_Pkts/s', 'Subflow_Bwd_Pkts', 'Flow_Byts/s', 'Flow_IAT_Std', 'PSH_Flag_Cnt', 'Down/Up_Ratio', 'Fwd_Byts/b_Avg', 'Bwd_Pkts/b_Avg', 'Src_IP', 'Bwd_PSH_Flags'}\n"
     ]
    }
   ],
   "source": [
    "print(cols)"
   ]
  },
  {
   "cell_type": "code",
   "execution_count": 32,
   "id": "96826837",
   "metadata": {},
   "outputs": [],
   "source": [
    "# Import label encoder\n",
    "from sklearn import preprocessing\n",
    "  \n",
    "# label_encoder object knows how to understand word labels.\n",
    "label_encoder = preprocessing.LabelEncoder()"
   ]
  },
  {
   "cell_type": "code",
   "execution_count": 33,
   "id": "46581b26",
   "metadata": {},
   "outputs": [],
   "source": [
    "data['Src_IP']= label_encoder.fit_transform(data['Src_IP'])"
   ]
  },
  {
   "cell_type": "code",
   "execution_count": 34,
   "id": "b6d647a4",
   "metadata": {},
   "outputs": [],
   "source": [
    "data['Dst_IP']= label_encoder.fit_transform(data['Dst_IP'])"
   ]
  },
  {
   "cell_type": "code",
   "execution_count": 35,
   "id": "065bd8e9",
   "metadata": {},
   "outputs": [],
   "source": [
    "data['Timestamp']= label_encoder.fit_transform(data['Timestamp'])"
   ]
  },
  {
   "cell_type": "code",
   "execution_count": 36,
   "id": "c66e1d14",
   "metadata": {},
   "outputs": [],
   "source": [
    "data['Label']= label_encoder.fit_transform(data['Label'])"
   ]
  },
  {
   "cell_type": "code",
   "execution_count": 37,
   "id": "43c3b6dc",
   "metadata": {},
   "outputs": [
    {
     "data": {
      "text/plain": [
       "(625783, 86)"
      ]
     },
     "execution_count": 37,
     "metadata": {},
     "output_type": "execute_result"
    }
   ],
   "source": [
    "data.head()\n",
    "data.shape\n"
   ]
  },
  {
   "cell_type": "code",
   "execution_count": 38,
   "id": "51285ece",
   "metadata": {},
   "outputs": [],
   "source": [
    "train_data = data[TRAIN_COLS+TG_COL]\n"
   ]
  },
  {
   "cell_type": "code",
   "execution_count": 39,
   "id": "90a6bd12",
   "metadata": {},
   "outputs": [
    {
     "data": {
      "text/plain": [
       "(625783, 73)"
      ]
     },
     "execution_count": 39,
     "metadata": {},
     "output_type": "execute_result"
    }
   ],
   "source": [
    "train_data.head()\n",
    "train_data.shape"
   ]
  },
  {
   "cell_type": "code",
   "execution_count": 40,
   "id": "87bc73cc",
   "metadata": {},
   "outputs": [
    {
     "name": "stdout",
     "output_type": "stream",
     "text": [
      "        Bwd_IAT_Min  Flow_Duration  Init_Bwd_Win_Byts    Bwd_Pkts/s  \\\n",
      "0                 0             75                 -1  13333.333330   \n",
      "1              5310           5310              14600    376.647834   \n",
      "2                70            141               1869  21276.595740   \n",
      "3               151            151               1869  13245.033110   \n",
      "4                 0            153                 -1   6535.947712   \n",
      "...             ...            ...                ...           ...   \n",
      "625778            0            277                 -1   3610.108303   \n",
      "625779         1658           1658              14600   1206.272618   \n",
      "625780            0             77              32679  12987.012990   \n",
      "625781            0            240               1869   4166.666667   \n",
      "625782            0            198                 -1   5050.505051   \n",
      "\n",
      "        Bwd_Seg_Size_Avg  Pkt_Len_Max  Active_Mean  Fwd_Pkt_Len_Max  \\\n",
      "0            1430.000000         1430          0.0              982   \n",
      "1               0.000000            0          0.0                0   \n",
      "2             935.333333         1388          0.0                0   \n",
      "3            1388.000000         1388          0.0                0   \n",
      "4             420.000000          452          0.0              452   \n",
      "...                  ...          ...          ...              ...   \n",
      "625778         18.000000           18          0.0               18   \n",
      "625779          0.000000            0          0.0                0   \n",
      "625780          0.000000            0          0.0                0   \n",
      "625781       1388.000000         1388          0.0             1388   \n",
      "625782       1430.000000         1430          0.0             1430   \n",
      "\n",
      "        Flow_IAT_Max  Fwd_IAT_Max  ...  Subflow_Bwd_Pkts   Flow_Byts/s  \\\n",
      "0                 75            0  ...                 1  3.216000e+07   \n",
      "1               4254            0  ...                 2  0.000000e+00   \n",
      "2                 71            0  ...                 3  1.990071e+07   \n",
      "3                151            0  ...                 2  1.838411e+07   \n",
      "4                 77           76  ...                 1  8.535948e+06   \n",
      "...              ...          ...  ...               ...           ...   \n",
      "625778           277            0  ...                 1  1.299639e+05   \n",
      "625779          1658            0  ...                 2  0.000000e+00   \n",
      "625780            77            0  ...                 1  0.000000e+00   \n",
      "625781           125          125  ...                 1  1.735000e+07   \n",
      "625782           122          122  ...                 1  2.166667e+07   \n",
      "\n",
      "        Flow_IAT_Std  PSH_Flag_Cnt  Bwd_IAT_Max  Down/Up_Ratio  Fwd_IAT_Std  \\\n",
      "0           0.000000             0            0              1          0.0   \n",
      "1        2261.327486             0         5310              2          0.0   \n",
      "2           0.707107             0           71              0          0.0   \n",
      "3           0.000000             0          151              0          0.0   \n",
      "4           0.707107             0            0              0          0.0   \n",
      "...              ...           ...          ...            ...          ...   \n",
      "625778      0.000000             0            0              1          0.0   \n",
      "625779      0.000000             0         1658              0          0.0   \n",
      "625780      0.000000             0            0              1          0.0   \n",
      "625781      7.071068             0            0              0          0.0   \n",
      "625782     32.526912             0            0              0          0.0   \n",
      "\n",
      "        Src_IP  Bwd_PSH_Flags  Label  \n",
      "0        25883              0      0  \n",
      "1        34617              0      0  \n",
      "2        25886              0      0  \n",
      "3        25886              0      0  \n",
      "4        25881              0      0  \n",
      "...        ...            ...    ...  \n",
      "625778   25889              0      0  \n",
      "625779   30623              0      0  \n",
      "625780   25886              0      0  \n",
      "625781   25883              0      1  \n",
      "625782   25883              0      0  \n",
      "\n",
      "[625783 rows x 73 columns]\n"
     ]
    }
   ],
   "source": [
    "print(train_data[np.isfinite(train_data)])"
   ]
  },
  {
   "cell_type": "code",
   "execution_count": 41,
   "id": "8617fe3c",
   "metadata": {},
   "outputs": [
    {
     "data": {
      "text/plain": [
       "(625415, 73)"
      ]
     },
     "execution_count": 41,
     "metadata": {},
     "output_type": "execute_result"
    }
   ],
   "source": [
    "import numpy as np\n",
    "\n",
    "\n",
    "train_data= train_data[np.isfinite(train_data).all(1)]\n",
    "# train_label = data['Label'] \n",
    "# train_label = train_label[np.isfinite(train_label).all(1)]\n",
    "train_data.shape\n",
    "\n"
   ]
  },
  {
   "cell_type": "code",
   "execution_count": 42,
   "id": "ebefd362",
   "metadata": {},
   "outputs": [
    {
     "data": {
      "text/plain": [
       "array([[0.00000000e+00, 7.40125821e-04, 0.00000000e+00, ...,\n",
       "        4.46381760e-01, 0.00000000e+00, 0.00000000e+00],\n",
       "       [5.31143409e-02, 5.30990268e-02, 2.22793579e-01, ...,\n",
       "        5.97009520e-01, 0.00000000e+00, 0.00000000e+00],\n",
       "       [7.00189051e-04, 1.40023804e-03, 2.85339355e-02, ...,\n",
       "        4.46433499e-01, 0.00000000e+00, 0.00000000e+00],\n",
       "       ...,\n",
       "       [0.00000000e+00, 7.60129222e-04, 4.98657227e-01, ...,\n",
       "        4.46433499e-01, 0.00000000e+00, 0.00000000e+00],\n",
       "       [0.00000000e+00, 2.39040637e-03, 2.85339355e-02, ...,\n",
       "        4.46381760e-01, 0.00000000e+00, 1.00000000e+00],\n",
       "       [0.00000000e+00, 1.97033496e-03, 0.00000000e+00, ...,\n",
       "        4.46381760e-01, 0.00000000e+00, 0.00000000e+00]])"
      ]
     },
     "execution_count": 42,
     "metadata": {},
     "output_type": "execute_result"
    }
   ],
   "source": [
    "from sklearn.preprocessing import MinMaxScaler\n",
    "scaler = MinMaxScaler()\n",
    "scaler.fit(train_data)\n",
    "scaler.transform(train_data)"
   ]
  },
  {
   "cell_type": "code",
   "execution_count": 43,
   "id": "8ef4eb34",
   "metadata": {},
   "outputs": [
    {
     "name": "stdout",
     "output_type": "stream",
     "text": [
      "(625415, 73)\n",
      "(625783,)\n"
     ]
    }
   ],
   "source": [
    "print(train_data.shape)\n",
    "print(data['Label'].shape)"
   ]
  },
  {
   "cell_type": "code",
   "execution_count": 44,
   "id": "2c177714",
   "metadata": {},
   "outputs": [],
   "source": [
    "from sklearn.model_selection import train_test_split\n",
    "\n",
    "\n",
    "y = train_data['Label']\n",
    "X = train_data.drop(columns=['Label'])\n",
    "# X = train_data\n",
    "X_train, X_test, y_train, y_test = train_test_split(X, y, test_size = 0.25)"
   ]
  },
  {
   "cell_type": "code",
   "execution_count": 45,
   "id": "cdd08952",
   "metadata": {},
   "outputs": [
    {
     "name": "stderr",
     "output_type": "stream",
     "text": [
      "C:\\Users\\hp\\anaconda3\\lib\\site-packages\\sklearn\\linear_model\\_logistic.py:814: ConvergenceWarning: lbfgs failed to converge (status=1):\n",
      "STOP: TOTAL NO. of ITERATIONS REACHED LIMIT.\n",
      "\n",
      "Increase the number of iterations (max_iter) or scale the data as shown in:\n",
      "    https://scikit-learn.org/stable/modules/preprocessing.html\n",
      "Please also refer to the documentation for alternative solver options:\n",
      "    https://scikit-learn.org/stable/modules/linear_model.html#logistic-regression\n",
      "  n_iter_i = _check_optimize_result(\n"
     ]
    },
    {
     "data": {
      "text/plain": [
       "LogisticRegression()"
      ]
     },
     "execution_count": 45,
     "metadata": {},
     "output_type": "execute_result"
    }
   ],
   "source": [
    "from sklearn import linear_model\n",
    "  \n",
    "logr = linear_model.LogisticRegression()\n",
    "  \n",
    "# fit the regressor with x and y data\n",
    "logr.fit(X_train, y_train)"
   ]
  },
  {
   "cell_type": "code",
   "execution_count": 46,
   "id": "66e27e98",
   "metadata": {},
   "outputs": [
    {
     "name": "stdout",
     "output_type": "stream",
     "text": [
      "0.9698824462437802\n"
     ]
    }
   ],
   "source": [
    "from sklearn.metrics import accuracy_score\n",
    "\n",
    "Y_pred = logr.predict(X_test)\n",
    "Y_pred = np.where(Y_pred >=0.5, 1, 0)\n",
    "print(accuracy_score(y_test, Y_pred))"
   ]
  },
  {
   "cell_type": "code",
   "execution_count": 47,
   "id": "6a5c1c20",
   "metadata": {},
   "outputs": [
    {
     "name": "stdout",
     "output_type": "stream",
     "text": [
      "Root Mean Square Error:\n",
      "\n",
      "0.1735440974398722\n"
     ]
    }
   ],
   "source": [
    "import math\n",
    " \n",
    "MSE = np.square(np.subtract(y_test, Y_pred)).mean() \n",
    " \n",
    "RMSE = math.sqrt(MSE)\n",
    "print(\"Root Mean Square Error:\\n\")\n",
    "print(RMSE)"
   ]
  },
  {
   "cell_type": "code",
   "execution_count": 48,
   "id": "a607f7f1",
   "metadata": {},
   "outputs": [
    {
     "name": "stdout",
     "output_type": "stream",
     "text": [
      "Mean Absolute Error: 0.03011755375621986\n",
      "Mean Squared Error: 0.03011755375621986\n",
      "R-squared scores: 0.4983730516452556\n",
      "Root Mean Square Error: 0.1735440974398722\n",
      "F1 score: 0.7246037779987133\n",
      "ROC Auc score: 0.805809616127145\n"
     ]
    }
   ],
   "source": [
    "# Import library for metrics\n",
    "from sklearn.metrics import mean_squared_error, r2_score, mean_absolute_error, f1_score, roc_auc_score\n",
    "\n",
    "# Mean absolute error (MAE)\n",
    "mae = mean_absolute_error(y_test, Y_pred)\n",
    "\n",
    "# Mean squared error (MSE)\n",
    "mse = mean_squared_error(y_test, Y_pred)\n",
    "\n",
    "RMSE = math.sqrt(MSE)\n",
    "\n",
    "\n",
    "# R-squared scores\n",
    "r2 = r2_score(y_test, Y_pred)\n",
    "\n",
    "F1 = f1_score(y_test, Y_pred)\n",
    "\n",
    "roc_auc = roc_auc_score(y_test, Y_pred)\n",
    "\n",
    "\n",
    "\n",
    "# Print metrics\n",
    "print('Mean Absolute Error:', mae)\n",
    "print('Mean Squared Error:', mse)\n",
    "print('R-squared scores:', r2)\n",
    "\n",
    "print(\"Root Mean Square Error:\", RMSE)\n",
    "print(\"F1 score:\", F1)\n",
    "print(\"ROC Auc score:\", roc_auc)\n"
   ]
  },
  {
   "cell_type": "code",
   "execution_count": 50,
   "id": "de54b80b",
   "metadata": {},
   "outputs": [],
   "source": [
    "import pickle\n",
    "# save the model to disk\n",
    "filename = 'LogisticRegression_model.sav'\n",
    "pickle.dump(logr, open(filename, 'wb'))\n",
    "\n",
    "# some time later...\n",
    " \n",
    "# load the model from disk\n",
    "#loaded_model = pickle.load(open(filename, 'rb'))\n",
    "#result = loaded_model.score(X_test, Y_test)\n",
    "#print(result)"
   ]
  },
  {
   "cell_type": "code",
   "execution_count": 51,
   "id": "249009e2",
   "metadata": {},
   "outputs": [
    {
     "data": {
      "image/png": "[encoded data removed]",
      "text/plain": [
       "<Figure size 432x288 with 2 Axes>"
      ]
     },
     "metadata": {
      "needs_background": "light"
     },
     "output_type": "display_data"
    }
   ],
   "source": [
    "from sklearn import metrics\n",
    "\n",
    "confusion_matrix = metrics.confusion_matrix(y_test, Y_pred)\n",
    "\n",
    "cm_display = metrics.ConfusionMatrixDisplay(confusion_matrix = confusion_matrix, display_labels = [False, True])\n",
    "\n",
    "cm_display.plot()\n",
    "plt.show()"
   ]
  },
  {
   "cell_type": "code",
   "execution_count": 52,
   "id": "b8eb706f",
   "metadata": {},
   "outputs": [
    {
     "data": {
      "image/png": "[encoded data removed]",
      "text/plain": [
       "<Figure size 432x288 with 1 Axes>"
      ]
     },
     "metadata": {
      "needs_background": "light"
     },
     "output_type": "display_data"
    }
   ],
   "source": [
    "fpr, tpr, _ = metrics.roc_curve(y_test,  Y_pred)\n",
    "auc = metrics.roc_auc_score(y_test, Y_pred)\n",
    "#create ROC curve\n",
    "plt.plot(fpr,tpr,label=\"AUC=\"+str(auc))\n",
    "plt.ylabel('True Positive Rate')\n",
    "plt.xlabel('False Positive Rate')\n",
    "plt.legend(loc=4)\n",
    "plt.show()"
   ]
  },
  {
   "cell_type": "code",
   "execution_count": 53,
   "id": "964de25a",
   "metadata": {},
   "outputs": [
    {
     "name": "stdout",
     "output_type": "stream",
     "text": [
      "Sensitivity :  0.994033747257779\n",
      "Specificity :  0.6175854849965108\n"
     ]
    }
   ],
   "source": [
    "sensitivity = confusion_matrix[0,0]/(confusion_matrix[0,0]+confusion_matrix[0,1])\n",
    "print('Sensitivity : ', sensitivity )\n",
    "\n",
    "specificity = confusion_matrix[1,1]/(confusion_matrix[1,0]+confusion_matrix[1,1])\n",
    "print('Specificity : ', specificity)"
   ]
  }
 ],
 "metadata": {
  "kernelspec": {
   "display_name": "Python 3 (ipykernel)",
   "language": "python",
   "name": "python3"
  },
  "language_info": {
   "codemirror_mode": {
    "name": "ipython",
    "version": 3
   },
   "file_extension": ".py",
   "mimetype": "text/x-python",
   "name": "python",
   "nbconvert_exporter": "python",
   "pygments_lexer": "ipython3",
   "version": "3.9.12"
  }
 },
 "nbformat": 4,
 "nbformat_minor": 5
}
