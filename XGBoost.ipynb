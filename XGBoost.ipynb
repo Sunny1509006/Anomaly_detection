{
 "cells": [
  {
   "cell_type": "code",
   "execution_count": 1,
   "id": "63d64101",
   "metadata": {},
   "outputs": [],
   "source": [
    "import numpy as np # linear algebra\n",
    "import pandas as pd # data processing, CSV file I/O (e.g. pd.read_csv)\n",
    "import matplotlib.pyplot as plt\n",
    "import seaborn as sns\n",
    "\n",
    "import os"
   ]
  },
  {
   "cell_type": "code",
   "execution_count": 2,
   "id": "82a1476e",
   "metadata": {},
   "outputs": [],
   "source": [
    "data = pd.read_csv(\"anomaly_data.csv\")"
   ]
  },
  {
   "cell_type": "code",
   "execution_count": 3,
   "id": "3f9847a3",
   "metadata": {},
   "outputs": [
    {
     "data": {
      "text/html": [
       "<div>\n",
       "<style scoped>\n",
       "    .dataframe tbody tr th:only-of-type {\n",
       "        vertical-align: middle;\n",
       "    }\n",
       "\n",
       "    .dataframe tbody tr th {\n",
       "        vertical-align: top;\n",
       "    }\n",
       "\n",
       "    .dataframe thead th {\n",
       "        text-align: right;\n",
       "    }\n",
       "</style>\n",
       "<table border=\"1\" class=\"dataframe\">\n",
       "  <thead>\n",
       "    <tr style=\"text-align: right;\">\n",
       "      <th></th>\n",
       "      <th>Flow_ID</th>\n",
       "      <th>Src_IP</th>\n",
       "      <th>Src_Port</th>\n",
       "      <th>Dst_IP</th>\n",
       "      <th>Dst_Port</th>\n",
       "      <th>Protocol</th>\n",
       "      <th>Timestamp</th>\n",
       "      <th>Flow_Duration</th>\n",
       "      <th>Tot_Fwd_Pkts</th>\n",
       "      <th>Tot_Bwd_Pkts</th>\n",
       "      <th>...</th>\n",
       "      <th>Active_Std</th>\n",
       "      <th>Active_Max</th>\n",
       "      <th>Active_Min</th>\n",
       "      <th>Idle_Mean</th>\n",
       "      <th>Idle_Std</th>\n",
       "      <th>Idle_Max</th>\n",
       "      <th>Idle_Min</th>\n",
       "      <th>Label</th>\n",
       "      <th>Cat</th>\n",
       "      <th>Sub_Cat</th>\n",
       "    </tr>\n",
       "  </thead>\n",
       "  <tbody>\n",
       "    <tr>\n",
       "      <th>0</th>\n",
       "      <td>192.168.0.13-192.168.0.16-10000-10101-17</td>\n",
       "      <td>192.168.0.13</td>\n",
       "      <td>10000</td>\n",
       "      <td>192.168.0.16</td>\n",
       "      <td>10101</td>\n",
       "      <td>17</td>\n",
       "      <td>25/07/2019 03:25:53 AM</td>\n",
       "      <td>75</td>\n",
       "      <td>1</td>\n",
       "      <td>1</td>\n",
       "      <td>...</td>\n",
       "      <td>0.0</td>\n",
       "      <td>0</td>\n",
       "      <td>0</td>\n",
       "      <td>75.0</td>\n",
       "      <td>0.000000</td>\n",
       "      <td>75</td>\n",
       "      <td>75</td>\n",
       "      <td>Anomaly</td>\n",
       "      <td>Mirai</td>\n",
       "      <td>Mirai-Ackflooding</td>\n",
       "    </tr>\n",
       "    <tr>\n",
       "      <th>1</th>\n",
       "      <td>192.168.0.13-222.160.179.132-554-2179-6</td>\n",
       "      <td>222.160.179.132</td>\n",
       "      <td>2179</td>\n",
       "      <td>192.168.0.13</td>\n",
       "      <td>554</td>\n",
       "      <td>6</td>\n",
       "      <td>26/05/2019 10:11:06 PM</td>\n",
       "      <td>5310</td>\n",
       "      <td>1</td>\n",
       "      <td>2</td>\n",
       "      <td>...</td>\n",
       "      <td>0.0</td>\n",
       "      <td>0</td>\n",
       "      <td>0</td>\n",
       "      <td>2655.0</td>\n",
       "      <td>2261.327486</td>\n",
       "      <td>4254</td>\n",
       "      <td>1056</td>\n",
       "      <td>Anomaly</td>\n",
       "      <td>DoS</td>\n",
       "      <td>DoS-Synflooding</td>\n",
       "    </tr>\n",
       "    <tr>\n",
       "      <th>2</th>\n",
       "      <td>192.168.0.13-192.168.0.16-9020-52727-6</td>\n",
       "      <td>192.168.0.16</td>\n",
       "      <td>52727</td>\n",
       "      <td>192.168.0.13</td>\n",
       "      <td>9020</td>\n",
       "      <td>6</td>\n",
       "      <td>11/7/2019 1:24</td>\n",
       "      <td>141</td>\n",
       "      <td>0</td>\n",
       "      <td>3</td>\n",
       "      <td>...</td>\n",
       "      <td>0.0</td>\n",
       "      <td>0</td>\n",
       "      <td>0</td>\n",
       "      <td>70.5</td>\n",
       "      <td>0.707107</td>\n",
       "      <td>71</td>\n",
       "      <td>70</td>\n",
       "      <td>Anomaly</td>\n",
       "      <td>Scan</td>\n",
       "      <td>Scan Port OS</td>\n",
       "    </tr>\n",
       "    <tr>\n",
       "      <th>3</th>\n",
       "      <td>192.168.0.13-192.168.0.16-9020-52964-6</td>\n",
       "      <td>192.168.0.16</td>\n",
       "      <td>52964</td>\n",
       "      <td>192.168.0.13</td>\n",
       "      <td>9020</td>\n",
       "      <td>6</td>\n",
       "      <td>4/9/2019 3:58</td>\n",
       "      <td>151</td>\n",
       "      <td>0</td>\n",
       "      <td>2</td>\n",
       "      <td>...</td>\n",
       "      <td>0.0</td>\n",
       "      <td>0</td>\n",
       "      <td>0</td>\n",
       "      <td>151.0</td>\n",
       "      <td>0.000000</td>\n",
       "      <td>151</td>\n",
       "      <td>151</td>\n",
       "      <td>Anomaly</td>\n",
       "      <td>Mirai</td>\n",
       "      <td>Mirai-Hostbruteforceg</td>\n",
       "    </tr>\n",
       "    <tr>\n",
       "      <th>4</th>\n",
       "      <td>192.168.0.1-239.255.255.250-36763-1900-17</td>\n",
       "      <td>192.168.0.1</td>\n",
       "      <td>36763</td>\n",
       "      <td>239.255.255.250</td>\n",
       "      <td>1900</td>\n",
       "      <td>17</td>\n",
       "      <td>10/9/2019 1:41</td>\n",
       "      <td>153</td>\n",
       "      <td>2</td>\n",
       "      <td>1</td>\n",
       "      <td>...</td>\n",
       "      <td>0.0</td>\n",
       "      <td>0</td>\n",
       "      <td>0</td>\n",
       "      <td>76.5</td>\n",
       "      <td>0.707107</td>\n",
       "      <td>77</td>\n",
       "      <td>76</td>\n",
       "      <td>Anomaly</td>\n",
       "      <td>Mirai</td>\n",
       "      <td>Mirai-Hostbruteforceg</td>\n",
       "    </tr>\n",
       "  </tbody>\n",
       "</table>\n",
       "<p>5 rows × 86 columns</p>\n",
       "</div>"
      ],
      "text/plain": [
       "                                     Flow_ID           Src_IP  Src_Port  \\\n",
       "0   192.168.0.13-192.168.0.16-10000-10101-17     192.168.0.13     10000   \n",
       "1    192.168.0.13-222.160.179.132-554-2179-6  222.160.179.132      2179   \n",
       "2     192.168.0.13-192.168.0.16-9020-52727-6     192.168.0.16     52727   \n",
       "3     192.168.0.13-192.168.0.16-9020-52964-6     192.168.0.16     52964   \n",
       "4  192.168.0.1-239.255.255.250-36763-1900-17      192.168.0.1     36763   \n",
       "\n",
       "            Dst_IP  Dst_Port  Protocol               Timestamp  Flow_Duration  \\\n",
       "0     192.168.0.16     10101        17  25/07/2019 03:25:53 AM             75   \n",
       "1     192.168.0.13       554         6  26/05/2019 10:11:06 PM           5310   \n",
       "2     192.168.0.13      9020         6          11/7/2019 1:24            141   \n",
       "3     192.168.0.13      9020         6           4/9/2019 3:58            151   \n",
       "4  239.255.255.250      1900        17          10/9/2019 1:41            153   \n",
       "\n",
       "   Tot_Fwd_Pkts  Tot_Bwd_Pkts  ...  Active_Std  Active_Max  Active_Min  \\\n",
       "0             1             1  ...         0.0           0           0   \n",
       "1             1             2  ...         0.0           0           0   \n",
       "2             0             3  ...         0.0           0           0   \n",
       "3             0             2  ...         0.0           0           0   \n",
       "4             2             1  ...         0.0           0           0   \n",
       "\n",
       "   Idle_Mean     Idle_Std  Idle_Max  Idle_Min    Label    Cat  \\\n",
       "0       75.0     0.000000        75        75  Anomaly  Mirai   \n",
       "1     2655.0  2261.327486      4254      1056  Anomaly    DoS   \n",
       "2       70.5     0.707107        71        70  Anomaly   Scan   \n",
       "3      151.0     0.000000       151       151  Anomaly  Mirai   \n",
       "4       76.5     0.707107        77        76  Anomaly  Mirai   \n",
       "\n",
       "                 Sub_Cat  \n",
       "0      Mirai-Ackflooding  \n",
       "1        DoS-Synflooding  \n",
       "2           Scan Port OS  \n",
       "3  Mirai-Hostbruteforceg  \n",
       "4  Mirai-Hostbruteforceg  \n",
       "\n",
       "[5 rows x 86 columns]"
      ]
     },
     "execution_count": 3,
     "metadata": {},
     "output_type": "execute_result"
    }
   ],
   "source": [
    "data.head()"
   ]
  },
  {
   "cell_type": "code",
   "execution_count": 4,
   "id": "53e93003",
   "metadata": {},
   "outputs": [
    {
     "data": {
      "text/plain": [
       "(625783, 86)"
      ]
     },
     "execution_count": 4,
     "metadata": {},
     "output_type": "execute_result"
    }
   ],
   "source": [
    "data.shape"
   ]
  },
  {
   "cell_type": "code",
   "execution_count": 5,
   "id": "aa7b62f9",
   "metadata": {},
   "outputs": [],
   "source": [
    "null_check = data.isnull().sum()\n",
    "\n",
    "null_check.to_csv('null_count')\n",
    "#no null data has been found"
   ]
  },
  {
   "cell_type": "code",
   "execution_count": 6,
   "id": "18589165",
   "metadata": {},
   "outputs": [
    {
     "data": {
      "text/plain": [
       "array(['Anomaly', 'Normal'], dtype=object)"
      ]
     },
     "execution_count": 6,
     "metadata": {},
     "output_type": "execute_result"
    }
   ],
   "source": [
    "data['Label'].unique()"
   ]
  },
  {
   "cell_type": "code",
   "execution_count": 7,
   "id": "e5ec5436",
   "metadata": {},
   "outputs": [
    {
     "data": {
      "text/plain": [
       "array([0], dtype=int64)"
      ]
     },
     "execution_count": 7,
     "metadata": {},
     "output_type": "execute_result"
    }
   ],
   "source": [
    "data['Fwd_PSH_Flags'].unique()"
   ]
  },
  {
   "cell_type": "code",
   "execution_count": 8,
   "id": "7fcac8a5",
   "metadata": {},
   "outputs": [
    {
     "data": {
      "text/plain": [
       "array([0, 1], dtype=int64)"
      ]
     },
     "execution_count": 8,
     "metadata": {},
     "output_type": "execute_result"
    }
   ],
   "source": [
    "data['Bwd_PSH_Flags'].unique()"
   ]
  },
  {
   "cell_type": "code",
   "execution_count": 9,
   "id": "a2525f02",
   "metadata": {},
   "outputs": [
    {
     "data": {
      "text/plain": [
       "array([0], dtype=int64)"
      ]
     },
     "execution_count": 9,
     "metadata": {},
     "output_type": "execute_result"
    }
   ],
   "source": [
    "data['Fwd_URG_Flags'].unique()"
   ]
  },
  {
   "cell_type": "code",
   "execution_count": 10,
   "id": "b31b4472",
   "metadata": {},
   "outputs": [
    {
     "data": {
      "text/plain": [
       "array([0, 1], dtype=int64)"
      ]
     },
     "execution_count": 10,
     "metadata": {},
     "output_type": "execute_result"
    }
   ],
   "source": [
    "data['Bwd_URG_Flags'].unique()"
   ]
  },
  {
   "cell_type": "code",
   "execution_count": 11,
   "id": "f863e26d",
   "metadata": {},
   "outputs": [
    {
     "data": {
      "text/plain": [
       "array([0, 1], dtype=int64)"
      ]
     },
     "execution_count": 11,
     "metadata": {},
     "output_type": "execute_result"
    }
   ],
   "source": [
    "data['FIN_Flag_Cnt'].unique()"
   ]
  },
  {
   "cell_type": "code",
   "execution_count": 12,
   "id": "e709c364",
   "metadata": {},
   "outputs": [
    {
     "data": {
      "text/plain": [
       "array([0, 1], dtype=int64)"
      ]
     },
     "execution_count": 12,
     "metadata": {},
     "output_type": "execute_result"
    }
   ],
   "source": [
    "data['RST_Flag_Cnt'].unique()"
   ]
  },
  {
   "cell_type": "code",
   "execution_count": 13,
   "id": "430e639c",
   "metadata": {},
   "outputs": [
    {
     "data": {
      "text/plain": [
       "array([0, 1], dtype=int64)"
      ]
     },
     "execution_count": 13,
     "metadata": {},
     "output_type": "execute_result"
    }
   ],
   "source": [
    "data['URG_Flag_Cnt'].unique()"
   ]
  },
  {
   "cell_type": "code",
   "execution_count": 14,
   "id": "4fc54ad3",
   "metadata": {},
   "outputs": [
    {
     "data": {
      "text/plain": [
       "array([0, 1], dtype=int64)"
      ]
     },
     "execution_count": 14,
     "metadata": {},
     "output_type": "execute_result"
    }
   ],
   "source": [
    "data['CWE_Flag_Count'].unique()"
   ]
  },
  {
   "cell_type": "code",
   "execution_count": 15,
   "id": "23adbc35",
   "metadata": {},
   "outputs": [
    {
     "data": {
      "text/plain": [
       "array([0, 1], dtype=int64)"
      ]
     },
     "execution_count": 15,
     "metadata": {},
     "output_type": "execute_result"
    }
   ],
   "source": [
    "data['ECE_Flag_Cnt'].unique()"
   ]
  },
  {
   "cell_type": "code",
   "execution_count": 16,
   "id": "c33100cf",
   "metadata": {},
   "outputs": [
    {
     "data": {
      "text/plain": [
       "array([ 1,  2,  0,  3,  4,  5, 10,  7,  8,  6, 13, 12, 11,  9, 14],\n",
       "      dtype=int64)"
      ]
     },
     "execution_count": 16,
     "metadata": {},
     "output_type": "execute_result"
    }
   ],
   "source": [
    "data['Down/Up_Ratio'].unique()"
   ]
  },
  {
   "cell_type": "code",
   "execution_count": 17,
   "id": "d431eaa1",
   "metadata": {},
   "outputs": [
    {
     "data": {
      "text/plain": [
       "array([0], dtype=int64)"
      ]
     },
     "execution_count": 17,
     "metadata": {},
     "output_type": "execute_result"
    }
   ],
   "source": [
    "data['Fwd_Byts/b_Avg'].unique()"
   ]
  },
  {
   "cell_type": "code",
   "execution_count": 18,
   "id": "b0a932bb",
   "metadata": {},
   "outputs": [
    {
     "data": {
      "text/plain": [
       "array([0], dtype=int64)"
      ]
     },
     "execution_count": 18,
     "metadata": {},
     "output_type": "execute_result"
    }
   ],
   "source": [
    "data['Fwd_Pkts/b_Avg'].unique()"
   ]
  },
  {
   "cell_type": "code",
   "execution_count": 19,
   "id": "0c3d854a",
   "metadata": {},
   "outputs": [
    {
     "data": {
      "text/plain": [
       "array([0], dtype=int64)"
      ]
     },
     "execution_count": 19,
     "metadata": {},
     "output_type": "execute_result"
    }
   ],
   "source": [
    "data['Fwd_Blk_Rate_Avg'].unique()"
   ]
  },
  {
   "cell_type": "code",
   "execution_count": 20,
   "id": "370297ac",
   "metadata": {},
   "outputs": [
    {
     "data": {
      "text/plain": [
       "array([0], dtype=int64)"
      ]
     },
     "execution_count": 20,
     "metadata": {},
     "output_type": "execute_result"
    }
   ],
   "source": [
    "data['Bwd_Byts/b_Avg'].unique()"
   ]
  },
  {
   "cell_type": "code",
   "execution_count": 21,
   "id": "6516edac",
   "metadata": {},
   "outputs": [
    {
     "data": {
      "text/plain": [
       "array([0], dtype=int64)"
      ]
     },
     "execution_count": 21,
     "metadata": {},
     "output_type": "execute_result"
    }
   ],
   "source": [
    "data['Bwd_Pkts/b_Avg'].unique()"
   ]
  },
  {
   "cell_type": "code",
   "execution_count": 22,
   "id": "bd0ae774",
   "metadata": {},
   "outputs": [
    {
     "data": {
      "text/plain": [
       "array([0], dtype=int64)"
      ]
     },
     "execution_count": 22,
     "metadata": {},
     "output_type": "execute_result"
    }
   ],
   "source": [
    "data['Bwd_Blk_Rate_Avg'].unique()"
   ]
  },
  {
   "cell_type": "code",
   "execution_count": 23,
   "id": "fc59d9c4",
   "metadata": {},
   "outputs": [
    {
     "data": {
      "text/plain": [
       "array([-1], dtype=int64)"
      ]
     },
     "execution_count": 23,
     "metadata": {},
     "output_type": "execute_result"
    }
   ],
   "source": [
    "data['Init_Fwd_Win_Byts'].unique()"
   ]
  },
  {
   "cell_type": "code",
   "execution_count": 24,
   "id": "6a5e67af",
   "metadata": {},
   "outputs": [
    {
     "data": {
      "text/plain": [
       "array([0], dtype=int64)"
      ]
     },
     "execution_count": 24,
     "metadata": {},
     "output_type": "execute_result"
    }
   ],
   "source": [
    "data['Fwd_Seg_Size_Min'].unique()"
   ]
  },
  {
   "cell_type": "code",
   "execution_count": 25,
   "id": "377058fc",
   "metadata": {},
   "outputs": [
    {
     "name": "stdout",
     "output_type": "stream",
     "text": [
      "(585710, 86)\n",
      "(40073, 86)\n"
     ]
    }
   ],
   "source": [
    "print(data[data.Label=='Anomaly'].shape)\n",
    "print(data[data.Label=='Normal'].shape)"
   ]
  },
  {
   "cell_type": "code",
   "execution_count": 26,
   "id": "2cce385d",
   "metadata": {},
   "outputs": [],
   "source": [
    "temp_ignore_cols = set(['Flow_ID', 'Label', 'Fwd_PSH_Flags', 'Fwd_URG_Flags', 'Fwd_Byts/b_Avg', \n",
    "                        'Fwd_Pkts/b_Avg', 'Fwd_Blk_Rate_Avg','Bwd_Byts/b_Avg', 'Bwd_Pkts/b_Avg', 'Bwd_Blk_Rate_Avg',\n",
    "                        'Init_Fwd_Win_Byts', 'Fwd_Seg_Size_Min', 'Cat', 'Sub_Cat'])"
   ]
  },
  {
   "cell_type": "code",
   "execution_count": 27,
   "id": "21ec5db3",
   "metadata": {},
   "outputs": [],
   "source": [
    "cols = set(data.columns)"
   ]
  },
  {
   "cell_type": "code",
   "execution_count": 28,
   "id": "008def9f",
   "metadata": {},
   "outputs": [
    {
     "name": "stdout",
     "output_type": "stream",
     "text": [
      "Number of Features : 72\n"
     ]
    }
   ],
   "source": [
    "TRAIN_COLS = list(cols-temp_ignore_cols)\n",
    "TG_COL = [\"Label\"]\n",
    "print(\"Number of Features :\", len(TRAIN_COLS))"
   ]
  },
  {
   "cell_type": "code",
   "execution_count": 29,
   "id": "b4d0d6d4",
   "metadata": {},
   "outputs": [
    {
     "data": {
      "text/html": [
       "<div>\n",
       "<style scoped>\n",
       "    .dataframe tbody tr th:only-of-type {\n",
       "        vertical-align: middle;\n",
       "    }\n",
       "\n",
       "    .dataframe tbody tr th {\n",
       "        vertical-align: top;\n",
       "    }\n",
       "\n",
       "    .dataframe thead th {\n",
       "        text-align: right;\n",
       "    }\n",
       "</style>\n",
       "<table border=\"1\" class=\"dataframe\">\n",
       "  <thead>\n",
       "    <tr style=\"text-align: right;\">\n",
       "      <th></th>\n",
       "      <th>Flow_Pkts/s</th>\n",
       "      <th>Flow_Duration</th>\n",
       "      <th>Bwd_IAT_Tot</th>\n",
       "      <th>Pkt_Size_Avg</th>\n",
       "      <th>Bwd_PSH_Flags</th>\n",
       "      <th>TotLen_Fwd_Pkts</th>\n",
       "      <th>Pkt_Len_Mean</th>\n",
       "      <th>Idle_Min</th>\n",
       "      <th>Tot_Bwd_Pkts</th>\n",
       "      <th>Subflow_Fwd_Pkts</th>\n",
       "      <th>...</th>\n",
       "      <th>Active_Mean</th>\n",
       "      <th>Pkt_Len_Min</th>\n",
       "      <th>Bwd_IAT_Mean</th>\n",
       "      <th>Bwd_IAT_Max</th>\n",
       "      <th>Bwd_Seg_Size_Avg</th>\n",
       "      <th>Flow_IAT_Min</th>\n",
       "      <th>Subflow_Bwd_Pkts</th>\n",
       "      <th>Flow_IAT_Max</th>\n",
       "      <th>SYN_Flag_Cnt</th>\n",
       "      <th>Dst_Port</th>\n",
       "    </tr>\n",
       "  </thead>\n",
       "  <tbody>\n",
       "    <tr>\n",
       "      <th>Flow_Pkts/s</th>\n",
       "      <td>1.000000</td>\n",
       "      <td>-0.060482</td>\n",
       "      <td>-0.057120</td>\n",
       "      <td>-0.255823</td>\n",
       "      <td>-0.044816</td>\n",
       "      <td>-0.078895</td>\n",
       "      <td>-0.256423</td>\n",
       "      <td>-0.082030</td>\n",
       "      <td>-0.111406</td>\n",
       "      <td>0.409807</td>\n",
       "      <td>...</td>\n",
       "      <td>-0.016867</td>\n",
       "      <td>-0.203893</td>\n",
       "      <td>-0.069405</td>\n",
       "      <td>-0.061647</td>\n",
       "      <td>-0.251164</td>\n",
       "      <td>-0.087275</td>\n",
       "      <td>-0.111406</td>\n",
       "      <td>-0.066813</td>\n",
       "      <td>-0.112178</td>\n",
       "      <td>-0.115974</td>\n",
       "    </tr>\n",
       "    <tr>\n",
       "      <th>Flow_Duration</th>\n",
       "      <td>-0.060482</td>\n",
       "      <td>1.000000</td>\n",
       "      <td>0.912065</td>\n",
       "      <td>-0.111317</td>\n",
       "      <td>0.054156</td>\n",
       "      <td>0.089187</td>\n",
       "      <td>-0.106195</td>\n",
       "      <td>0.587755</td>\n",
       "      <td>0.215306</td>\n",
       "      <td>0.001276</td>\n",
       "      <td>...</td>\n",
       "      <td>0.318634</td>\n",
       "      <td>-0.104844</td>\n",
       "      <td>0.746066</td>\n",
       "      <td>0.883815</td>\n",
       "      <td>-0.110422</td>\n",
       "      <td>0.504674</td>\n",
       "      <td>0.215306</td>\n",
       "      <td>0.956828</td>\n",
       "      <td>0.331486</td>\n",
       "      <td>-0.063070</td>\n",
       "    </tr>\n",
       "    <tr>\n",
       "      <th>Bwd_IAT_Tot</th>\n",
       "      <td>-0.057120</td>\n",
       "      <td>0.912065</td>\n",
       "      <td>1.000000</td>\n",
       "      <td>-0.125997</td>\n",
       "      <td>0.048255</td>\n",
       "      <td>-0.022402</td>\n",
       "      <td>-0.122602</td>\n",
       "      <td>0.522876</td>\n",
       "      <td>0.245691</td>\n",
       "      <td>-0.025835</td>\n",
       "      <td>...</td>\n",
       "      <td>0.287941</td>\n",
       "      <td>-0.115782</td>\n",
       "      <td>0.822225</td>\n",
       "      <td>0.970454</td>\n",
       "      <td>-0.124813</td>\n",
       "      <td>0.517580</td>\n",
       "      <td>0.245691</td>\n",
       "      <td>0.878610</td>\n",
       "      <td>0.373826</td>\n",
       "      <td>-0.083333</td>\n",
       "    </tr>\n",
       "    <tr>\n",
       "      <th>Pkt_Size_Avg</th>\n",
       "      <td>-0.255823</td>\n",
       "      <td>-0.111317</td>\n",
       "      <td>-0.125997</td>\n",
       "      <td>1.000000</td>\n",
       "      <td>-0.021393</td>\n",
       "      <td>0.426189</td>\n",
       "      <td>0.996426</td>\n",
       "      <td>-0.169087</td>\n",
       "      <td>0.003414</td>\n",
       "      <td>-0.173451</td>\n",
       "      <td>...</td>\n",
       "      <td>-0.046344</td>\n",
       "      <td>0.901149</td>\n",
       "      <td>-0.163231</td>\n",
       "      <td>-0.139542</td>\n",
       "      <td>0.979022</td>\n",
       "      <td>-0.178256</td>\n",
       "      <td>0.003414</td>\n",
       "      <td>-0.128868</td>\n",
       "      <td>-0.308331</td>\n",
       "      <td>0.320271</td>\n",
       "    </tr>\n",
       "    <tr>\n",
       "      <th>Bwd_PSH_Flags</th>\n",
       "      <td>-0.044816</td>\n",
       "      <td>0.054156</td>\n",
       "      <td>0.048255</td>\n",
       "      <td>-0.021393</td>\n",
       "      <td>1.000000</td>\n",
       "      <td>-0.028162</td>\n",
       "      <td>-0.022474</td>\n",
       "      <td>-0.015392</td>\n",
       "      <td>0.030593</td>\n",
       "      <td>-0.039449</td>\n",
       "      <td>...</td>\n",
       "      <td>0.009961</td>\n",
       "      <td>-0.042380</td>\n",
       "      <td>0.024060</td>\n",
       "      <td>0.048730</td>\n",
       "      <td>-0.019765</td>\n",
       "      <td>-0.017639</td>\n",
       "      <td>0.030593</td>\n",
       "      <td>0.051636</td>\n",
       "      <td>-0.052242</td>\n",
       "      <td>0.028314</td>\n",
       "    </tr>\n",
       "    <tr>\n",
       "      <th>...</th>\n",
       "      <td>...</td>\n",
       "      <td>...</td>\n",
       "      <td>...</td>\n",
       "      <td>...</td>\n",
       "      <td>...</td>\n",
       "      <td>...</td>\n",
       "      <td>...</td>\n",
       "      <td>...</td>\n",
       "      <td>...</td>\n",
       "      <td>...</td>\n",
       "      <td>...</td>\n",
       "      <td>...</td>\n",
       "      <td>...</td>\n",
       "      <td>...</td>\n",
       "      <td>...</td>\n",
       "      <td>...</td>\n",
       "      <td>...</td>\n",
       "      <td>...</td>\n",
       "      <td>...</td>\n",
       "      <td>...</td>\n",
       "      <td>...</td>\n",
       "    </tr>\n",
       "    <tr>\n",
       "      <th>Flow_IAT_Min</th>\n",
       "      <td>-0.087275</td>\n",
       "      <td>0.504674</td>\n",
       "      <td>0.517580</td>\n",
       "      <td>-0.178256</td>\n",
       "      <td>-0.017639</td>\n",
       "      <td>-0.094695</td>\n",
       "      <td>-0.180348</td>\n",
       "      <td>0.889170</td>\n",
       "      <td>0.089806</td>\n",
       "      <td>-0.088626</td>\n",
       "      <td>...</td>\n",
       "      <td>0.000680</td>\n",
       "      <td>-0.144699</td>\n",
       "      <td>0.724376</td>\n",
       "      <td>0.590815</td>\n",
       "      <td>-0.177101</td>\n",
       "      <td>1.000000</td>\n",
       "      <td>0.089806</td>\n",
       "      <td>0.612777</td>\n",
       "      <td>0.616690</td>\n",
       "      <td>-0.133367</td>\n",
       "    </tr>\n",
       "    <tr>\n",
       "      <th>Subflow_Bwd_Pkts</th>\n",
       "      <td>-0.111406</td>\n",
       "      <td>0.215306</td>\n",
       "      <td>0.245691</td>\n",
       "      <td>0.003414</td>\n",
       "      <td>0.030593</td>\n",
       "      <td>-0.172527</td>\n",
       "      <td>0.008743</td>\n",
       "      <td>0.088252</td>\n",
       "      <td>1.000000</td>\n",
       "      <td>-0.101333</td>\n",
       "      <td>...</td>\n",
       "      <td>0.249947</td>\n",
       "      <td>-0.019456</td>\n",
       "      <td>0.112400</td>\n",
       "      <td>0.170215</td>\n",
       "      <td>-0.007752</td>\n",
       "      <td>0.089806</td>\n",
       "      <td>1.000000</td>\n",
       "      <td>0.144465</td>\n",
       "      <td>0.145492</td>\n",
       "      <td>-0.094940</td>\n",
       "    </tr>\n",
       "    <tr>\n",
       "      <th>Flow_IAT_Max</th>\n",
       "      <td>-0.066813</td>\n",
       "      <td>0.956828</td>\n",
       "      <td>0.878610</td>\n",
       "      <td>-0.128868</td>\n",
       "      <td>0.051636</td>\n",
       "      <td>0.007068</td>\n",
       "      <td>-0.126051</td>\n",
       "      <td>0.701704</td>\n",
       "      <td>0.144465</td>\n",
       "      <td>-0.030684</td>\n",
       "      <td>...</td>\n",
       "      <td>0.251653</td>\n",
       "      <td>-0.116595</td>\n",
       "      <td>0.820395</td>\n",
       "      <td>0.906055</td>\n",
       "      <td>-0.128576</td>\n",
       "      <td>0.612777</td>\n",
       "      <td>0.144465</td>\n",
       "      <td>1.000000</td>\n",
       "      <td>0.393934</td>\n",
       "      <td>-0.079585</td>\n",
       "    </tr>\n",
       "    <tr>\n",
       "      <th>SYN_Flag_Cnt</th>\n",
       "      <td>-0.112178</td>\n",
       "      <td>0.331486</td>\n",
       "      <td>0.373826</td>\n",
       "      <td>-0.308331</td>\n",
       "      <td>-0.052242</td>\n",
       "      <td>-0.146714</td>\n",
       "      <td>-0.310350</td>\n",
       "      <td>0.568117</td>\n",
       "      <td>0.145492</td>\n",
       "      <td>-0.115098</td>\n",
       "      <td>...</td>\n",
       "      <td>0.132724</td>\n",
       "      <td>-0.250294</td>\n",
       "      <td>0.518563</td>\n",
       "      <td>0.424600</td>\n",
       "      <td>-0.304259</td>\n",
       "      <td>0.616690</td>\n",
       "      <td>0.145492</td>\n",
       "      <td>0.393934</td>\n",
       "      <td>1.000000</td>\n",
       "      <td>-0.201849</td>\n",
       "    </tr>\n",
       "    <tr>\n",
       "      <th>Dst_Port</th>\n",
       "      <td>-0.115974</td>\n",
       "      <td>-0.063070</td>\n",
       "      <td>-0.083333</td>\n",
       "      <td>0.320271</td>\n",
       "      <td>0.028314</td>\n",
       "      <td>0.334806</td>\n",
       "      <td>0.315765</td>\n",
       "      <td>-0.125360</td>\n",
       "      <td>-0.094940</td>\n",
       "      <td>-0.038922</td>\n",
       "      <td>...</td>\n",
       "      <td>-0.017954</td>\n",
       "      <td>0.262811</td>\n",
       "      <td>-0.123642</td>\n",
       "      <td>-0.094930</td>\n",
       "      <td>0.340004</td>\n",
       "      <td>-0.133367</td>\n",
       "      <td>-0.094940</td>\n",
       "      <td>-0.079585</td>\n",
       "      <td>-0.201849</td>\n",
       "      <td>1.000000</td>\n",
       "    </tr>\n",
       "  </tbody>\n",
       "</table>\n",
       "<p>69 rows × 69 columns</p>\n",
       "</div>"
      ],
      "text/plain": [
       "                  Flow_Pkts/s  Flow_Duration  Bwd_IAT_Tot  Pkt_Size_Avg  \\\n",
       "Flow_Pkts/s          1.000000      -0.060482    -0.057120     -0.255823   \n",
       "Flow_Duration       -0.060482       1.000000     0.912065     -0.111317   \n",
       "Bwd_IAT_Tot         -0.057120       0.912065     1.000000     -0.125997   \n",
       "Pkt_Size_Avg        -0.255823      -0.111317    -0.125997      1.000000   \n",
       "Bwd_PSH_Flags       -0.044816       0.054156     0.048255     -0.021393   \n",
       "...                       ...            ...          ...           ...   \n",
       "Flow_IAT_Min        -0.087275       0.504674     0.517580     -0.178256   \n",
       "Subflow_Bwd_Pkts    -0.111406       0.215306     0.245691      0.003414   \n",
       "Flow_IAT_Max        -0.066813       0.956828     0.878610     -0.128868   \n",
       "SYN_Flag_Cnt        -0.112178       0.331486     0.373826     -0.308331   \n",
       "Dst_Port            -0.115974      -0.063070    -0.083333      0.320271   \n",
       "\n",
       "                  Bwd_PSH_Flags  TotLen_Fwd_Pkts  Pkt_Len_Mean  Idle_Min  \\\n",
       "Flow_Pkts/s           -0.044816        -0.078895     -0.256423 -0.082030   \n",
       "Flow_Duration          0.054156         0.089187     -0.106195  0.587755   \n",
       "Bwd_IAT_Tot            0.048255        -0.022402     -0.122602  0.522876   \n",
       "Pkt_Size_Avg          -0.021393         0.426189      0.996426 -0.169087   \n",
       "Bwd_PSH_Flags          1.000000        -0.028162     -0.022474 -0.015392   \n",
       "...                         ...              ...           ...       ...   \n",
       "Flow_IAT_Min          -0.017639        -0.094695     -0.180348  0.889170   \n",
       "Subflow_Bwd_Pkts       0.030593        -0.172527      0.008743  0.088252   \n",
       "Flow_IAT_Max           0.051636         0.007068     -0.126051  0.701704   \n",
       "SYN_Flag_Cnt          -0.052242        -0.146714     -0.310350  0.568117   \n",
       "Dst_Port               0.028314         0.334806      0.315765 -0.125360   \n",
       "\n",
       "                  Tot_Bwd_Pkts  Subflow_Fwd_Pkts  ...  Active_Mean  \\\n",
       "Flow_Pkts/s          -0.111406          0.409807  ...    -0.016867   \n",
       "Flow_Duration         0.215306          0.001276  ...     0.318634   \n",
       "Bwd_IAT_Tot           0.245691         -0.025835  ...     0.287941   \n",
       "Pkt_Size_Avg          0.003414         -0.173451  ...    -0.046344   \n",
       "Bwd_PSH_Flags         0.030593         -0.039449  ...     0.009961   \n",
       "...                        ...               ...  ...          ...   \n",
       "Flow_IAT_Min          0.089806         -0.088626  ...     0.000680   \n",
       "Subflow_Bwd_Pkts      1.000000         -0.101333  ...     0.249947   \n",
       "Flow_IAT_Max          0.144465         -0.030684  ...     0.251653   \n",
       "SYN_Flag_Cnt          0.145492         -0.115098  ...     0.132724   \n",
       "Dst_Port             -0.094940         -0.038922  ...    -0.017954   \n",
       "\n",
       "                  Pkt_Len_Min  Bwd_IAT_Mean  Bwd_IAT_Max  Bwd_Seg_Size_Avg  \\\n",
       "Flow_Pkts/s         -0.203893     -0.069405    -0.061647         -0.251164   \n",
       "Flow_Duration       -0.104844      0.746066     0.883815         -0.110422   \n",
       "Bwd_IAT_Tot         -0.115782      0.822225     0.970454         -0.124813   \n",
       "Pkt_Size_Avg         0.901149     -0.163231    -0.139542          0.979022   \n",
       "Bwd_PSH_Flags       -0.042380      0.024060     0.048730         -0.019765   \n",
       "...                       ...           ...          ...               ...   \n",
       "Flow_IAT_Min        -0.144699      0.724376     0.590815         -0.177101   \n",
       "Subflow_Bwd_Pkts    -0.019456      0.112400     0.170215         -0.007752   \n",
       "Flow_IAT_Max        -0.116595      0.820395     0.906055         -0.128576   \n",
       "SYN_Flag_Cnt        -0.250294      0.518563     0.424600         -0.304259   \n",
       "Dst_Port             0.262811     -0.123642    -0.094930          0.340004   \n",
       "\n",
       "                  Flow_IAT_Min  Subflow_Bwd_Pkts  Flow_IAT_Max  SYN_Flag_Cnt  \\\n",
       "Flow_Pkts/s          -0.087275         -0.111406     -0.066813     -0.112178   \n",
       "Flow_Duration         0.504674          0.215306      0.956828      0.331486   \n",
       "Bwd_IAT_Tot           0.517580          0.245691      0.878610      0.373826   \n",
       "Pkt_Size_Avg         -0.178256          0.003414     -0.128868     -0.308331   \n",
       "Bwd_PSH_Flags        -0.017639          0.030593      0.051636     -0.052242   \n",
       "...                        ...               ...           ...           ...   \n",
       "Flow_IAT_Min          1.000000          0.089806      0.612777      0.616690   \n",
       "Subflow_Bwd_Pkts      0.089806          1.000000      0.144465      0.145492   \n",
       "Flow_IAT_Max          0.612777          0.144465      1.000000      0.393934   \n",
       "SYN_Flag_Cnt          0.616690          0.145492      0.393934      1.000000   \n",
       "Dst_Port             -0.133367         -0.094940     -0.079585     -0.201849   \n",
       "\n",
       "                  Dst_Port  \n",
       "Flow_Pkts/s      -0.115974  \n",
       "Flow_Duration    -0.063070  \n",
       "Bwd_IAT_Tot      -0.083333  \n",
       "Pkt_Size_Avg      0.320271  \n",
       "Bwd_PSH_Flags     0.028314  \n",
       "...                    ...  \n",
       "Flow_IAT_Min     -0.133367  \n",
       "Subflow_Bwd_Pkts -0.094940  \n",
       "Flow_IAT_Max     -0.079585  \n",
       "SYN_Flag_Cnt     -0.201849  \n",
       "Dst_Port          1.000000  \n",
       "\n",
       "[69 rows x 69 columns]"
      ]
     },
     "execution_count": 29,
     "metadata": {},
     "output_type": "execute_result"
    }
   ],
   "source": [
    "corr = data[TRAIN_COLS+TG_COL].corr()\n",
    "corr"
   ]
  },
  {
   "cell_type": "code",
   "execution_count": 30,
   "id": "70bebc24",
   "metadata": {},
   "outputs": [],
   "source": [
    "corr.to_csv('correlation_matrix')"
   ]
  },
  {
   "cell_type": "code",
   "execution_count": 31,
   "id": "13cd65b0",
   "metadata": {},
   "outputs": [
    {
     "name": "stdout",
     "output_type": "stream",
     "text": [
      "{'Bwd_IAT_Tot', 'Bwd_PSH_Flags', 'TotLen_Fwd_Pkts', 'Idle_Min', 'Tot_Bwd_Pkts', 'ECE_Flag_Cnt', 'Subflow_Bwd_Byts', 'Fwd_IAT_Std', 'Fwd_Pkt_Len_Mean', 'Dst_IP', 'Bwd_Pkts/b_Avg', 'CWE_Flag_Count', 'Fwd_Pkts/s', 'URG_Flag_Cnt', 'Src_Port', 'Fwd_IAT_Mean', 'Pkt_Len_Var', 'Down/Up_Ratio', 'Protocol', 'Fwd_Pkt_Len_Max', 'ACK_Flag_Cnt', 'Idle_Max', 'Bwd_Pkt_Len_Mean', 'Fwd_IAT_Min', 'Bwd_Pkt_Len_Std', 'Fwd_Pkts/b_Avg', 'Flow_ID', 'Fwd_Byts/b_Avg', 'Bwd_IAT_Std', 'Pkt_Len_Max', 'Sub_Cat', 'Flow_IAT_Mean', 'Active_Max', 'TotLen_Bwd_Pkts', 'Fwd_Act_Data_Pkts', 'Flow_Byts/s', 'Src_IP', 'Bwd_Header_Len', 'FIN_Flag_Cnt', 'Active_Mean', 'Pkt_Len_Min', 'Bwd_IAT_Mean', 'Flow_IAT_Min', 'Subflow_Bwd_Pkts', 'Init_Fwd_Win_Byts', 'Flow_IAT_Max', 'Bwd_Byts/b_Avg', 'Bwd_Blk_Rate_Avg', 'Flow_Pkts/s', 'Flow_Duration', 'Pkt_Size_Avg', 'Fwd_Seg_Size_Min', 'Pkt_Len_Mean', 'Subflow_Fwd_Pkts', 'Label', 'Timestamp', 'Fwd_Header_Len', 'Idle_Std', 'Bwd_Pkt_Len_Max', 'Flow_IAT_Std', 'Bwd_URG_Flags', 'Fwd_IAT_Tot', 'Fwd_Pkt_Len_Std', 'Idle_Mean', 'Bwd_Pkt_Len_Min', 'Fwd_PSH_Flags', 'Bwd_IAT_Min', 'Tot_Fwd_Pkts', 'RST_Flag_Cnt', 'Subflow_Fwd_Byts', 'PSH_Flag_Cnt', 'Fwd_IAT_Max', 'Active_Std', 'Fwd_Blk_Rate_Avg', 'Init_Bwd_Win_Byts', 'Active_Min', 'Fwd_URG_Flags', 'Cat', 'Bwd_Pkts/s', 'Fwd_Seg_Size_Avg', 'Pkt_Len_Std', 'Fwd_Pkt_Len_Min', 'Bwd_IAT_Max', 'Bwd_Seg_Size_Avg', 'SYN_Flag_Cnt', 'Dst_Port'}\n"
     ]
    }
   ],
   "source": [
    "print(cols)"
   ]
  },
  {
   "cell_type": "code",
   "execution_count": 32,
   "id": "96826837",
   "metadata": {},
   "outputs": [],
   "source": [
    "# Import label encoder\n",
    "from sklearn import preprocessing\n",
    "  \n",
    "# label_encoder object knows how to understand word labels.\n",
    "label_encoder = preprocessing.LabelEncoder()"
   ]
  },
  {
   "cell_type": "code",
   "execution_count": 33,
   "id": "46581b26",
   "metadata": {},
   "outputs": [],
   "source": [
    "data['Src_IP']= label_encoder.fit_transform(data['Src_IP'])"
   ]
  },
  {
   "cell_type": "code",
   "execution_count": 34,
   "id": "b6d647a4",
   "metadata": {},
   "outputs": [],
   "source": [
    "data['Dst_IP']= label_encoder.fit_transform(data['Dst_IP'])"
   ]
  },
  {
   "cell_type": "code",
   "execution_count": 35,
   "id": "065bd8e9",
   "metadata": {},
   "outputs": [],
   "source": [
    "data['Timestamp']= label_encoder.fit_transform(data['Timestamp'])"
   ]
  },
  {
   "cell_type": "code",
   "execution_count": 36,
   "id": "c66e1d14",
   "metadata": {},
   "outputs": [],
   "source": [
    "data['Label']= label_encoder.fit_transform(data['Label'])"
   ]
  },
  {
   "cell_type": "code",
   "execution_count": 37,
   "id": "43c3b6dc",
   "metadata": {},
   "outputs": [
    {
     "data": {
      "text/plain": [
       "(625783, 86)"
      ]
     },
     "execution_count": 37,
     "metadata": {},
     "output_type": "execute_result"
    }
   ],
   "source": [
    "data.head()\n",
    "data.shape\n"
   ]
  },
  {
   "cell_type": "code",
   "execution_count": 38,
   "id": "51285ece",
   "metadata": {},
   "outputs": [],
   "source": [
    "train_data = data[TRAIN_COLS+TG_COL]\n"
   ]
  },
  {
   "cell_type": "code",
   "execution_count": 39,
   "id": "90a6bd12",
   "metadata": {},
   "outputs": [
    {
     "data": {
      "text/plain": [
       "(625783, 73)"
      ]
     },
     "execution_count": 39,
     "metadata": {},
     "output_type": "execute_result"
    }
   ],
   "source": [
    "train_data.head()\n",
    "train_data.shape"
   ]
  },
  {
   "cell_type": "code",
   "execution_count": 40,
   "id": "87bc73cc",
   "metadata": {},
   "outputs": [
    {
     "name": "stdout",
     "output_type": "stream",
     "text": [
      "         Flow_Pkts/s  Flow_Duration  Bwd_IAT_Tot  Pkt_Size_Avg  Bwd_PSH_Flags  \\\n",
      "0       26666.666670             75            0   1921.000000              0   \n",
      "1         564.971751           5310         5310      0.000000              0   \n",
      "2       21276.595740            141          141   1398.000000              0   \n",
      "3       13245.033110            151          151   2082.000000              0   \n",
      "4       19607.843140            153            0    575.333333              0   \n",
      "...              ...            ...          ...           ...            ...   \n",
      "625778   7220.216606            277            0     27.000000              0   \n",
      "625779   1206.272618           1658         1658      0.000000              0   \n",
      "625780  25974.025970             77            0      0.000000              0   \n",
      "625781  12500.000000            240            0   1850.666667              0   \n",
      "625782  15151.515150            198            0   1906.666667              0   \n",
      "\n",
      "        TotLen_Fwd_Pkts  Pkt_Len_Mean  Idle_Min  Tot_Bwd_Pkts  \\\n",
      "0                   982   1280.666667        75             1   \n",
      "1                     0      0.000000      1056             2   \n",
      "2                     0   1048.500000        70             3   \n",
      "3                     0   1388.000000       151             2   \n",
      "4                   886    431.500000        76             1   \n",
      "...                 ...           ...       ...           ...   \n",
      "625778               18     18.000000       277             1   \n",
      "625779                0      0.000000      1658             2   \n",
      "625780                0      0.000000        77             1   \n",
      "625781             2776   1388.000000       115             1   \n",
      "625782             2860   1430.000000        76             1   \n",
      "\n",
      "        Subflow_Fwd_Pkts  ...  Pkt_Len_Min  Bwd_IAT_Mean  Bwd_IAT_Max  \\\n",
      "0                      1  ...          982           0.0            0   \n",
      "1                      1  ...            0        5310.0         5310   \n",
      "2                      0  ...           30          70.5           71   \n",
      "3                      0  ...         1388         151.0          151   \n",
      "4                      2  ...          420           0.0            0   \n",
      "...                  ...  ...          ...           ...          ...   \n",
      "625778                 1  ...           18           0.0            0   \n",
      "625779                 0  ...            0        1658.0         1658   \n",
      "625780                 1  ...            0           0.0            0   \n",
      "625781                 2  ...         1388           0.0            0   \n",
      "625782                 2  ...         1430           0.0            0   \n",
      "\n",
      "        Bwd_Seg_Size_Avg  Flow_IAT_Min  Subflow_Bwd_Pkts  Flow_IAT_Max  \\\n",
      "0            1430.000000            75                 1            75   \n",
      "1               0.000000          1056                 2          4254   \n",
      "2             935.333333            70                 3            71   \n",
      "3            1388.000000           151                 2           151   \n",
      "4             420.000000            76                 1            77   \n",
      "...                  ...           ...               ...           ...   \n",
      "625778         18.000000           277                 1           277   \n",
      "625779          0.000000          1658                 2          1658   \n",
      "625780          0.000000            77                 1            77   \n",
      "625781       1388.000000           115                 1           125   \n",
      "625782       1430.000000            76                 1           122   \n",
      "\n",
      "        SYN_Flag_Cnt  Dst_Port  Label  \n",
      "0                  0     10101      0  \n",
      "1                  1       554      0  \n",
      "2                  0      9020      0  \n",
      "3                  0      9020      0  \n",
      "4                  0      1900      0  \n",
      "...              ...       ...    ...  \n",
      "625778             0      8043      0  \n",
      "625779             1       554      0  \n",
      "625780             0      9020      0  \n",
      "625781             0     49784      1  \n",
      "625782             0     10101      0  \n",
      "\n",
      "[625783 rows x 73 columns]\n"
     ]
    }
   ],
   "source": [
    "print(train_data[np.isfinite(train_data)])"
   ]
  },
  {
   "cell_type": "code",
   "execution_count": 41,
   "id": "8617fe3c",
   "metadata": {},
   "outputs": [
    {
     "data": {
      "text/plain": [
       "(625415, 73)"
      ]
     },
     "execution_count": 41,
     "metadata": {},
     "output_type": "execute_result"
    }
   ],
   "source": [
    "import numpy as np\n",
    "\n",
    "\n",
    "train_data= train_data[np.isfinite(train_data).all(1)]\n",
    "# train_label = data['Label'] \n",
    "# train_label = train_label[np.isfinite(train_label).all(1)]\n",
    "train_data.shape\n",
    "\n"
   ]
  },
  {
   "cell_type": "code",
   "execution_count": 42,
   "id": "ebefd362",
   "metadata": {},
   "outputs": [
    {
     "data": {
      "text/plain": [
       "array([[5.32935358e-03, 7.40125821e-04, 0.00000000e+00, ...,\n",
       "        0.00000000e+00, 1.54518058e-01, 0.00000000e+00],\n",
       "       [1.08993706e-04, 5.30990268e-02, 5.31143409e-02, ...,\n",
       "        1.00000000e+00, 8.47470591e-03, 0.00000000e+00],\n",
       "       [4.25133508e-03, 1.40023804e-03, 1.41038080e-03, ...,\n",
       "        0.00000000e+00, 1.37981674e-01, 0.00000000e+00],\n",
       "       ...,\n",
       "       [5.19082488e-03, 7.60129222e-04, 0.00000000e+00, ...,\n",
       "        0.00000000e+00, 1.37981674e-01, 0.00000000e+00],\n",
       "       [2.49600891e-03, 2.39040637e-03, 0.00000000e+00, ...,\n",
       "        0.00000000e+00, 7.61560937e-01, 1.00000000e+00],\n",
       "       [3.02631406e-03, 1.97033496e-03, 0.00000000e+00, ...,\n",
       "        0.00000000e+00, 1.54518058e-01, 0.00000000e+00]])"
      ]
     },
     "execution_count": 42,
     "metadata": {},
     "output_type": "execute_result"
    }
   ],
   "source": [
    "from sklearn.preprocessing import MinMaxScaler\n",
    "scaler = MinMaxScaler()\n",
    "scaler.fit(train_data)\n",
    "scaler.transform(train_data)"
   ]
  },
  {
   "cell_type": "code",
   "execution_count": 43,
   "id": "8ef4eb34",
   "metadata": {},
   "outputs": [
    {
     "name": "stdout",
     "output_type": "stream",
     "text": [
      "(625415, 73)\n",
      "(625783,)\n"
     ]
    }
   ],
   "source": [
    "print(train_data.shape)\n",
    "print(data['Label'].shape)"
   ]
  },
  {
   "cell_type": "code",
   "execution_count": 44,
   "id": "2c177714",
   "metadata": {},
   "outputs": [],
   "source": [
    "from sklearn.model_selection import train_test_split\n",
    "\n",
    "\n",
    "y = train_data['Label']\n",
    "X = train_data.drop(columns=['Label'])\n",
    "# X = train_data\n",
    "X_train, X_test, y_train, y_test = train_test_split(X, y, test_size = 0.25)"
   ]
  },
  {
   "cell_type": "code",
   "execution_count": 47,
   "id": "cdd08952",
   "metadata": {},
   "outputs": [
    {
     "name": "stdout",
     "output_type": "stream",
     "text": [
      "Requirement already satisfied: xgboost in f:\\anaconda\\lib\\site-packages (1.7.1)\n",
      "Requirement already satisfied: numpy in f:\\anaconda\\lib\\site-packages (from xgboost) (1.21.5)\n",
      "Requirement already satisfied: scipy in f:\\anaconda\\lib\\site-packages (from xgboost) (1.7.3)\n"
     ]
    },
    {
     "data": {
      "text/plain": [
       "XGBClassifier(base_score=0.5, booster='gbtree', callbacks=None,\n",
       "              colsample_bylevel=1, colsample_bynode=1, colsample_bytree=1,\n",
       "              early_stopping_rounds=None, enable_categorical=False,\n",
       "              eval_metric=None, feature_types=None, gamma=0, gpu_id=-1,\n",
       "              grow_policy='depthwise', importance_type=None,\n",
       "              interaction_constraints='', learning_rate=0.300000012,\n",
       "              max_bin=256, max_cat_threshold=64, max_cat_to_onehot=4,\n",
       "              max_delta_step=0, max_depth=6, max_leaves=0, min_child_weight=1,\n",
       "              missing=nan, monotone_constraints='()', n_estimators=100,\n",
       "              n_jobs=0, num_parallel_tree=1, predictor='auto', random_state=0, ...)"
      ]
     },
     "execution_count": 47,
     "metadata": {},
     "output_type": "execute_result"
    }
   ],
   "source": [
    "!pip install xgboost\n",
    "import xgboost as xgb\n",
    "  \n",
    "xgb_classifier = xgb.XGBClassifier()\n",
    "  \n",
    "# fit the regressor with x and y data\n",
    "xgb_classifier.fit(X_train, y_train)"
   ]
  },
  {
   "cell_type": "code",
   "execution_count": 48,
   "id": "66e27e98",
   "metadata": {},
   "outputs": [
    {
     "name": "stdout",
     "output_type": "stream",
     "text": [
      "0.9999872085140131\n"
     ]
    }
   ],
   "source": [
    "from sklearn.metrics import accuracy_score\n",
    "\n",
    "Y_pred = xgb_classifier.predict(X_test)\n",
    "Y_pred = np.where(Y_pred >=0.5, 1, 0)\n",
    "print(accuracy_score(y_test, Y_pred))"
   ]
  },
  {
   "cell_type": "code",
   "execution_count": 49,
   "id": "6a5c1c20",
   "metadata": {},
   "outputs": [
    {
     "name": "stdout",
     "output_type": "stream",
     "text": [
      "Root Mean Square Error:\n",
      "\n",
      "0.003576518696571724\n"
     ]
    }
   ],
   "source": [
    "import math\n",
    " \n",
    "MSE = np.square(np.subtract(y_test, Y_pred)).mean() \n",
    " \n",
    "RMSE = math.sqrt(MSE)\n",
    "print(\"Root Mean Square Error:\\n\")\n",
    "print(RMSE)"
   ]
  },
  {
   "cell_type": "code",
   "execution_count": 50,
   "id": "a607f7f1",
   "metadata": {},
   "outputs": [
    {
     "name": "stdout",
     "output_type": "stream",
     "text": [
      "Mean Absolute Error: 1.2791485986927101e-05\n",
      "Mean Squared Error: 1.2791485986927101e-05\n",
      "R-squared scores: 0.9997882468036147\n",
      "Root Mean Square Error: 0.003576518696571724\n",
      "F1 score: 0.9999009508716323\n",
      "ROC Auc score: 0.9999009606813904\n"
     ]
    }
   ],
   "source": [
    "# Import library for metrics\n",
    "from sklearn.metrics import mean_squared_error, r2_score, mean_absolute_error, f1_score, roc_auc_score\n",
    "\n",
    "# Mean absolute error (MAE)\n",
    "mae = mean_absolute_error(y_test, Y_pred)\n",
    "\n",
    "# Mean squared error (MSE)\n",
    "mse = mean_squared_error(y_test, Y_pred)\n",
    "\n",
    "RMSE = math.sqrt(MSE)\n",
    "\n",
    "\n",
    "# R-squared scores\n",
    "r2 = r2_score(y_test, Y_pred)\n",
    "\n",
    "F1 = f1_score(y_test, Y_pred)\n",
    "\n",
    "roc_auc = roc_auc_score(y_test, Y_pred)\n",
    "\n",
    "\n",
    "\n",
    "# Print metrics\n",
    "print('Mean Absolute Error:', mae)\n",
    "print('Mean Squared Error:', mse)\n",
    "print('R-squared scores:', r2)\n",
    "\n",
    "print(\"Root Mean Square Error:\", RMSE)\n",
    "print(\"F1 score:\", F1)\n",
    "print(\"ROC Auc score:\", roc_auc)\n"
   ]
  },
  {
   "cell_type": "code",
   "execution_count": 51,
   "id": "de54b80b",
   "metadata": {},
   "outputs": [],
   "source": [
    "import pickle\n",
    "# save the model to disk\n",
    "filename = 'XGBoost_model.sav'\n",
    "pickle.dump(xgb_classifier, open(filename, 'wb'))\n",
    "\n",
    "# some time later...\n",
    " \n",
    "# load the model from disk\n",
    "#loaded_model = pickle.load(open(filename, 'rb'))\n",
    "#result = loaded_model.score(X_test, Y_test)\n",
    "#print(result)"
   ]
  },
  {
   "cell_type": "code",
   "execution_count": 52,
   "id": "249009e2",
   "metadata": {},
   "outputs": [
    {
     "data": {
      "image/png": "[encoded data removed]",
      "text/plain": [
       "<Figure size 432x288 with 2 Axes>"
      ]
     },
     "metadata": {
      "needs_background": "light"
     },
     "output_type": "display_data"
    }
   ],
   "source": [
    "from sklearn import metrics\n",
    "\n",
    "confusion_matrix = metrics.confusion_matrix(y_test, Y_pred)\n",
    "\n",
    "cm_display = metrics.ConfusionMatrixDisplay(confusion_matrix = confusion_matrix, display_labels = [False, True])\n",
    "\n",
    "cm_display.plot()\n",
    "plt.show()"
   ]
  },
  {
   "cell_type": "code",
   "execution_count": 53,
   "id": "b8eb706f",
   "metadata": {},
   "outputs": [
    {
     "data": {
      "image/png": "[encoded data removed]",
      "text/plain": [
       "<Figure size 432x288 with 1 Axes>"
      ]
     },
     "metadata": {
      "needs_background": "light"
     },
     "output_type": "display_data"
    }
   ],
   "source": [
    "fpr, tpr, _ = metrics.roc_curve(y_test,  Y_pred)\n",
    "auc = metrics.roc_auc_score(y_test, Y_pred)\n",
    "#create ROC curve\n",
    "plt.plot(fpr,tpr,label=\"AUC=\"+str(auc))\n",
    "plt.ylabel('True Positive Rate')\n",
    "plt.xlabel('False Positive Rate')\n",
    "plt.legend(loc=4)\n",
    "plt.show()"
   ]
  },
  {
   "cell_type": "code",
   "execution_count": 54,
   "id": "964de25a",
   "metadata": {},
   "outputs": [
    {
     "name": "stdout",
     "output_type": "stream",
     "text": [
      "Sensitivity :  1.0\n",
      "Specificity :  0.999801921362781\n"
     ]
    }
   ],
   "source": [
    "sensitivity = confusion_matrix[0,0]/(confusion_matrix[0,0]+confusion_matrix[0,1])\n",
    "print('Sensitivity : ', sensitivity )\n",
    "\n",
    "specificity = confusion_matrix[1,1]/(confusion_matrix[1,0]+confusion_matrix[1,1])\n",
    "print('Specificity : ', specificity)"
   ]
  }
 ],
 "metadata": {
  "kernelspec": {
   "display_name": "Python 3 (ipykernel)",
   "language": "python",
   "name": "python3"
  },
  "language_info": {
   "codemirror_mode": {
    "name": "ipython",
    "version": 3
   },
   "file_extension": ".py",
   "mimetype": "text/x-python",
   "name": "python",
   "nbconvert_exporter": "python",
   "pygments_lexer": "ipython3",
   "version": "3.9.12"
  }
 },
 "nbformat": 4,
 "nbformat_minor": 5
}
